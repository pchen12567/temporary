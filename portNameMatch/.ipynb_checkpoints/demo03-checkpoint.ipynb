{
 "cells": [
  {
   "cell_type": "code",
   "execution_count": 1,
   "metadata": {},
   "outputs": [],
   "source": [
    "import pandas as pd\n",
    "from fuzzywuzzy import fuzz\n",
    "from fuzzywuzzy import process"
   ]
  },
  {
   "cell_type": "code",
   "execution_count": 2,
   "metadata": {},
   "outputs": [],
   "source": [
    "port_name_path = './data/port_name.csv'"
   ]
  },
  {
   "cell_type": "code",
   "execution_count": 4,
   "metadata": {},
   "outputs": [],
   "source": [
    "destination_path = './data/destination_with_sector.csv'"
   ]
  },
  {
   "cell_type": "code",
   "execution_count": 504,
   "metadata": {},
   "outputs": [],
   "source": [
    "port_code_path = './data/111.csv'"
   ]
  },
  {
   "cell_type": "code",
   "execution_count": 6,
   "metadata": {},
   "outputs": [],
   "source": [
    "df_port_name = pd.read_csv(port_name_path)"
   ]
  },
  {
   "cell_type": "code",
   "execution_count": 505,
   "metadata": {},
   "outputs": [],
   "source": [
    "df_port_code = pd.read_csv(port_code_path)"
   ]
  },
  {
   "cell_type": "code",
   "execution_count": 8,
   "metadata": {},
   "outputs": [],
   "source": [
    "df_destination = pd.read_csv(destination_path)"
   ]
  },
  {
   "cell_type": "code",
   "execution_count": 9,
   "metadata": {},
   "outputs": [
    {
     "data": {
      "text/html": [
       "<div>\n",
       "<style scoped>\n",
       "    .dataframe tbody tr th:only-of-type {\n",
       "        vertical-align: middle;\n",
       "    }\n",
       "\n",
       "    .dataframe tbody tr th {\n",
       "        vertical-align: top;\n",
       "    }\n",
       "\n",
       "    .dataframe thead th {\n",
       "        text-align: right;\n",
       "    }\n",
       "</style>\n",
       "<table border=\"1\" class=\"dataframe\">\n",
       "  <thead>\n",
       "    <tr style=\"text-align: right;\">\n",
       "      <th></th>\n",
       "      <th>port_name</th>\n",
       "    </tr>\n",
       "  </thead>\n",
       "  <tbody>\n",
       "    <tr>\n",
       "      <td>0</td>\n",
       "      <td>Aabenraa</td>\n",
       "    </tr>\n",
       "    <tr>\n",
       "      <td>1</td>\n",
       "      <td>Aaheim m</td>\n",
       "    </tr>\n",
       "    <tr>\n",
       "      <td>2</td>\n",
       "      <td>Aalborg</td>\n",
       "    </tr>\n",
       "    <tr>\n",
       "      <td>3</td>\n",
       "      <td>Aalvik</td>\n",
       "    </tr>\n",
       "    <tr>\n",
       "      <td>4</td>\n",
       "      <td>Aandalsnes</td>\n",
       "    </tr>\n",
       "  </tbody>\n",
       "</table>\n",
       "</div>"
      ],
      "text/plain": [
       "    port_name\n",
       "0    Aabenraa\n",
       "1    Aaheim m\n",
       "2     Aalborg\n",
       "3      Aalvik\n",
       "4  Aandalsnes"
      ]
     },
     "execution_count": 9,
     "metadata": {},
     "output_type": "execute_result"
    }
   ],
   "source": [
    "df_port_name.head()"
   ]
  },
  {
   "cell_type": "code",
   "execution_count": 10,
   "metadata": {},
   "outputs": [
    {
     "data": {
      "text/html": [
       "<div>\n",
       "<style scoped>\n",
       "    .dataframe tbody tr th:only-of-type {\n",
       "        vertical-align: middle;\n",
       "    }\n",
       "\n",
       "    .dataframe tbody tr th {\n",
       "        vertical-align: top;\n",
       "    }\n",
       "\n",
       "    .dataframe thead th {\n",
       "        text-align: right;\n",
       "    }\n",
       "</style>\n",
       "<table border=\"1\" class=\"dataframe\">\n",
       "  <thead>\n",
       "    <tr style=\"text-align: right;\">\n",
       "      <th></th>\n",
       "      <th>port_code</th>\n",
       "      <th>port_name</th>\n",
       "      <th>country_code</th>\n",
       "    </tr>\n",
       "  </thead>\n",
       "  <tbody>\n",
       "    <tr>\n",
       "      <td>0</td>\n",
       "      <td>CNSZX</td>\n",
       "      <td>Shenzhen</td>\n",
       "      <td>CN</td>\n",
       "    </tr>\n",
       "    <tr>\n",
       "      <td>1</td>\n",
       "      <td>VNSGN</td>\n",
       "      <td>Ho Chi Min City (formerly Saigon)</td>\n",
       "      <td>VN</td>\n",
       "    </tr>\n",
       "    <tr>\n",
       "      <td>2</td>\n",
       "      <td>DKAAB</td>\n",
       "      <td>Aabenraa</td>\n",
       "      <td>DK</td>\n",
       "    </tr>\n",
       "    <tr>\n",
       "      <td>3</td>\n",
       "      <td>SGSIN</td>\n",
       "      <td>Singapore</td>\n",
       "      <td>SG</td>\n",
       "    </tr>\n",
       "    <tr>\n",
       "      <td>4</td>\n",
       "      <td>INNSA</td>\n",
       "      <td>NHAVA SHEVA</td>\n",
       "      <td>IN</td>\n",
       "    </tr>\n",
       "  </tbody>\n",
       "</table>\n",
       "</div>"
      ],
      "text/plain": [
       "  port_code                          port_name country_code\n",
       "0     CNSZX                           Shenzhen           CN\n",
       "1     VNSGN  Ho Chi Min City (formerly Saigon)           VN\n",
       "2     DKAAB                           Aabenraa           DK\n",
       "3     SGSIN                          Singapore           SG\n",
       "4     INNSA                        NHAVA SHEVA           IN"
      ]
     },
     "execution_count": 10,
     "metadata": {},
     "output_type": "execute_result"
    }
   ],
   "source": [
    "df_port_code.head()"
   ]
  },
  {
   "cell_type": "code",
   "execution_count": 11,
   "metadata": {},
   "outputs": [
    {
     "data": {
      "text/html": [
       "<div>\n",
       "<style scoped>\n",
       "    .dataframe tbody tr th:only-of-type {\n",
       "        vertical-align: middle;\n",
       "    }\n",
       "\n",
       "    .dataframe tbody tr th {\n",
       "        vertical-align: top;\n",
       "    }\n",
       "\n",
       "    .dataframe thead th {\n",
       "        text-align: right;\n",
       "    }\n",
       "</style>\n",
       "<table border=\"1\" class=\"dataframe\">\n",
       "  <thead>\n",
       "    <tr style=\"text-align: right;\">\n",
       "      <th></th>\n",
       "      <th>destination</th>\n",
       "      <th>imo</th>\n",
       "      <th>update_time</th>\n",
       "      <th>sector</th>\n",
       "    </tr>\n",
       "  </thead>\n",
       "  <tbody>\n",
       "    <tr>\n",
       "      <td>0</td>\n",
       "      <td>IT CAG</td>\n",
       "      <td>9143403</td>\n",
       "      <td>22/4/2020 07:12:52.423+00</td>\n",
       "      <td>DRY BULK</td>\n",
       "    </tr>\n",
       "    <tr>\n",
       "      <td>1</td>\n",
       "      <td>MANILA</td>\n",
       "      <td>9118941</td>\n",
       "      <td>22/4/2020 07:12:52.423+00</td>\n",
       "      <td>DRY BULK</td>\n",
       "    </tr>\n",
       "    <tr>\n",
       "      <td>2</td>\n",
       "      <td>RAVENNA,ITALY</td>\n",
       "      <td>9309629</td>\n",
       "      <td>22/4/2020 07:12:52.423+00</td>\n",
       "      <td>TANKER</td>\n",
       "    </tr>\n",
       "    <tr>\n",
       "      <td>3</td>\n",
       "      <td>SHV</td>\n",
       "      <td>9828209</td>\n",
       "      <td>22/4/2020 07:12:52.423+00</td>\n",
       "      <td>TANKER</td>\n",
       "    </tr>\n",
       "    <tr>\n",
       "      <td>4</td>\n",
       "      <td>ST JOHNS</td>\n",
       "      <td>9551935</td>\n",
       "      <td>22/4/2020 07:12:52.423+00</td>\n",
       "      <td>DRY BULK</td>\n",
       "    </tr>\n",
       "  </tbody>\n",
       "</table>\n",
       "</div>"
      ],
      "text/plain": [
       "     destination      imo                update_time    sector\n",
       "0         IT CAG  9143403  22/4/2020 07:12:52.423+00  DRY BULK\n",
       "1         MANILA  9118941  22/4/2020 07:12:52.423+00  DRY BULK\n",
       "2  RAVENNA,ITALY  9309629  22/4/2020 07:12:52.423+00    TANKER\n",
       "3            SHV  9828209  22/4/2020 07:12:52.423+00    TANKER\n",
       "4       ST JOHNS  9551935  22/4/2020 07:12:52.423+00  DRY BULK"
      ]
     },
     "execution_count": 11,
     "metadata": {},
     "output_type": "execute_result"
    }
   ],
   "source": [
    "df_destination.head()"
   ]
  },
  {
   "cell_type": "code",
   "execution_count": 12,
   "metadata": {},
   "outputs": [],
   "source": [
    "df_target = df_destination[['imo', 'sector', 'destination']]"
   ]
  },
  {
   "cell_type": "code",
   "execution_count": 13,
   "metadata": {},
   "outputs": [
    {
     "data": {
      "text/html": [
       "<div>\n",
       "<style scoped>\n",
       "    .dataframe tbody tr th:only-of-type {\n",
       "        vertical-align: middle;\n",
       "    }\n",
       "\n",
       "    .dataframe tbody tr th {\n",
       "        vertical-align: top;\n",
       "    }\n",
       "\n",
       "    .dataframe thead th {\n",
       "        text-align: right;\n",
       "    }\n",
       "</style>\n",
       "<table border=\"1\" class=\"dataframe\">\n",
       "  <thead>\n",
       "    <tr style=\"text-align: right;\">\n",
       "      <th></th>\n",
       "      <th>imo</th>\n",
       "      <th>sector</th>\n",
       "      <th>destination</th>\n",
       "    </tr>\n",
       "  </thead>\n",
       "  <tbody>\n",
       "    <tr>\n",
       "      <td>0</td>\n",
       "      <td>9143403</td>\n",
       "      <td>DRY BULK</td>\n",
       "      <td>IT CAG</td>\n",
       "    </tr>\n",
       "    <tr>\n",
       "      <td>1</td>\n",
       "      <td>9118941</td>\n",
       "      <td>DRY BULK</td>\n",
       "      <td>MANILA</td>\n",
       "    </tr>\n",
       "    <tr>\n",
       "      <td>2</td>\n",
       "      <td>9309629</td>\n",
       "      <td>TANKER</td>\n",
       "      <td>RAVENNA,ITALY</td>\n",
       "    </tr>\n",
       "    <tr>\n",
       "      <td>3</td>\n",
       "      <td>9828209</td>\n",
       "      <td>TANKER</td>\n",
       "      <td>SHV</td>\n",
       "    </tr>\n",
       "    <tr>\n",
       "      <td>4</td>\n",
       "      <td>9551935</td>\n",
       "      <td>DRY BULK</td>\n",
       "      <td>ST JOHNS</td>\n",
       "    </tr>\n",
       "  </tbody>\n",
       "</table>\n",
       "</div>"
      ],
      "text/plain": [
       "       imo    sector    destination\n",
       "0  9143403  DRY BULK         IT CAG\n",
       "1  9118941  DRY BULK         MANILA\n",
       "2  9309629    TANKER  RAVENNA,ITALY\n",
       "3  9828209    TANKER            SHV\n",
       "4  9551935  DRY BULK       ST JOHNS"
      ]
     },
     "execution_count": 13,
     "metadata": {},
     "output_type": "execute_result"
    }
   ],
   "source": [
    "df_target.head()"
   ]
  },
  {
   "cell_type": "code",
   "execution_count": 14,
   "metadata": {},
   "outputs": [
    {
     "data": {
      "text/plain": [
       "42045"
      ]
     },
     "execution_count": 14,
     "metadata": {},
     "output_type": "execute_result"
    }
   ],
   "source": [
    "len(df_target)"
   ]
  },
  {
   "cell_type": "code",
   "execution_count": 15,
   "metadata": {},
   "outputs": [
    {
     "data": {
      "text/plain": [
       "8405220    4\n",
       "9007764    4\n",
       "9777369    4\n",
       "9215543    4\n",
       "8520202    4\n",
       "          ..\n",
       "9447184    1\n",
       "9426702    1\n",
       "9359117    1\n",
       "9305867    1\n",
       "9242625    1\n",
       "Name: imo, Length: 38863, dtype: int64"
      ]
     },
     "execution_count": 15,
     "metadata": {},
     "output_type": "execute_result"
    }
   ],
   "source": [
    "df_target['imo'].value_counts()"
   ]
  },
  {
   "cell_type": "code",
   "execution_count": 18,
   "metadata": {},
   "outputs": [],
   "source": [
    "port_name_ls = df_port_name['port_name'].tolist()"
   ]
  },
  {
   "cell_type": "code",
   "execution_count": 20,
   "metadata": {},
   "outputs": [],
   "source": [
    "code_list = df_port_code['port_code'].tolist()\n",
    "name_list = df_port_code['port_name'].tolist()\n",
    "code_dic = {}\n",
    "for code, name in zip(code_list, name_list):\n",
    "    code_dic[code] = name"
   ]
  },
  {
   "cell_type": "markdown",
   "metadata": {},
   "source": [
    "----"
   ]
  },
  {
   "cell_type": "code",
   "execution_count": 62,
   "metadata": {},
   "outputs": [],
   "source": [
    "df_sample = df_target.sample(5000)"
   ]
  },
  {
   "cell_type": "code",
   "execution_count": 63,
   "metadata": {},
   "outputs": [],
   "source": [
    "df_sample = df_sample.reset_index(drop=True)"
   ]
  },
  {
   "cell_type": "code",
   "execution_count": 64,
   "metadata": {},
   "outputs": [
    {
     "data": {
      "text/plain": [
       "5000"
      ]
     },
     "execution_count": 64,
     "metadata": {},
     "output_type": "execute_result"
    }
   ],
   "source": [
    "len(df_sample)"
   ]
  },
  {
   "cell_type": "code",
   "execution_count": 65,
   "metadata": {},
   "outputs": [
    {
     "data": {
      "text/html": [
       "<div>\n",
       "<style scoped>\n",
       "    .dataframe tbody tr th:only-of-type {\n",
       "        vertical-align: middle;\n",
       "    }\n",
       "\n",
       "    .dataframe tbody tr th {\n",
       "        vertical-align: top;\n",
       "    }\n",
       "\n",
       "    .dataframe thead th {\n",
       "        text-align: right;\n",
       "    }\n",
       "</style>\n",
       "<table border=\"1\" class=\"dataframe\">\n",
       "  <thead>\n",
       "    <tr style=\"text-align: right;\">\n",
       "      <th></th>\n",
       "      <th>imo</th>\n",
       "      <th>sector</th>\n",
       "      <th>destination</th>\n",
       "    </tr>\n",
       "  </thead>\n",
       "  <tbody>\n",
       "    <tr>\n",
       "      <td>0</td>\n",
       "      <td>9216547</td>\n",
       "      <td>TANKER</td>\n",
       "      <td>CIENFUEGOS.CU</td>\n",
       "    </tr>\n",
       "    <tr>\n",
       "      <td>1</td>\n",
       "      <td>9618680</td>\n",
       "      <td>DRY</td>\n",
       "      <td>TJ.BARA,IDN</td>\n",
       "    </tr>\n",
       "    <tr>\n",
       "      <td>2</td>\n",
       "      <td>9550462</td>\n",
       "      <td>DRY</td>\n",
       "      <td>SHIHU</td>\n",
       "    </tr>\n",
       "    <tr>\n",
       "      <td>3</td>\n",
       "      <td>8902826</td>\n",
       "      <td>DRY BULK</td>\n",
       "      <td>SINGAPORE</td>\n",
       "    </tr>\n",
       "    <tr>\n",
       "      <td>4</td>\n",
       "      <td>9692428</td>\n",
       "      <td>TANKER</td>\n",
       "      <td>CN CJK</td>\n",
       "    </tr>\n",
       "  </tbody>\n",
       "</table>\n",
       "</div>"
      ],
      "text/plain": [
       "       imo    sector    destination\n",
       "0  9216547    TANKER  CIENFUEGOS.CU\n",
       "1  9618680       DRY    TJ.BARA,IDN\n",
       "2  9550462       DRY          SHIHU\n",
       "3  8902826  DRY BULK      SINGAPORE\n",
       "4  9692428    TANKER         CN CJK"
      ]
     },
     "execution_count": 65,
     "metadata": {},
     "output_type": "execute_result"
    }
   ],
   "source": [
    "df_sample.head()"
   ]
  },
  {
   "cell_type": "code",
   "execution_count": 66,
   "metadata": {},
   "outputs": [],
   "source": [
    "destination_list = df_sample['destination'].tolist()"
   ]
  },
  {
   "cell_type": "code",
   "execution_count": 135,
   "metadata": {},
   "outputs": [],
   "source": [
    "data = []\n",
    "for des in destination_list:\n",
    "    ratio_list = []\n",
    "    \n",
    "    if '>' in str(des):\n",
    "        index = des.index('>') + 1\n",
    "        if 'OFF' in str(des):\n",
    "            index_off = des.index('OFF')\n",
    "            des = des[index: index_off].strip()\n",
    "        else:\n",
    "            des = des[index: ].strip()\n",
    "        for name in port_name_ls:\n",
    "            ratio = fuzz.token_set_ratio(des, name)\n",
    "            ratio_list.append((name + ' + code1+3', ratio))\n",
    "        for code in code_dic.keys():\n",
    "            ratio = fuzz.token_set_ratio(des, code)\n",
    "            ratio_list.append((code_dic[code] + ' + code2+3', ratio))\n",
    "    else:    \n",
    "        for name in port_name_ls:\n",
    "            ratio = fuzz.token_set_ratio(des, name)\n",
    "            ratio_list.append((name + ' + code1', ratio))\n",
    "        for code in code_dic.keys():\n",
    "            ratio = fuzz.token_set_ratio(des, code)\n",
    "            ratio_list.append((code_dic[code] + ' + code2', ratio))\n",
    "\n",
    "    ratio_rank = sorted(ratio_list, key=lambda x: x[1],reverse=True)[:5]\n",
    "\n",
    "    scores_list = []\n",
    "    for (name, ratio) in ratio_rank:\n",
    "        scores_list.append(name)\n",
    "        scores_list.append(ratio)\n",
    "\n",
    "    data.append(scores_list)"
   ]
  },
  {
   "cell_type": "code",
   "execution_count": 137,
   "metadata": {},
   "outputs": [
    {
     "data": {
      "text/plain": [
       "5000"
      ]
     },
     "execution_count": 137,
     "metadata": {},
     "output_type": "execute_result"
    }
   ],
   "source": [
    "len(data)"
   ]
  },
  {
   "cell_type": "code",
   "execution_count": 138,
   "metadata": {},
   "outputs": [],
   "source": [
    "col_name = ['top1', 'score1','top2', 'score2', 'top3', 'score3', 'top4', 'score4', 'top5', 'score5']"
   ]
  },
  {
   "cell_type": "code",
   "execution_count": 139,
   "metadata": {},
   "outputs": [],
   "source": [
    "df_data = pd.DataFrame(data, columns=col_name)"
   ]
  },
  {
   "cell_type": "code",
   "execution_count": 140,
   "metadata": {},
   "outputs": [
    {
     "data": {
      "text/html": [
       "<div>\n",
       "<style scoped>\n",
       "    .dataframe tbody tr th:only-of-type {\n",
       "        vertical-align: middle;\n",
       "    }\n",
       "\n",
       "    .dataframe tbody tr th {\n",
       "        vertical-align: top;\n",
       "    }\n",
       "\n",
       "    .dataframe thead th {\n",
       "        text-align: right;\n",
       "    }\n",
       "</style>\n",
       "<table border=\"1\" class=\"dataframe\">\n",
       "  <thead>\n",
       "    <tr style=\"text-align: right;\">\n",
       "      <th></th>\n",
       "      <th>top1</th>\n",
       "      <th>score1</th>\n",
       "      <th>top2</th>\n",
       "      <th>score2</th>\n",
       "      <th>top3</th>\n",
       "      <th>score3</th>\n",
       "      <th>top4</th>\n",
       "      <th>score4</th>\n",
       "      <th>top5</th>\n",
       "      <th>score5</th>\n",
       "    </tr>\n",
       "  </thead>\n",
       "  <tbody>\n",
       "    <tr>\n",
       "      <td>0</td>\n",
       "      <td>Cienfuegos + code1</td>\n",
       "      <td>100</td>\n",
       "      <td>Santiago de Cuba + code2</td>\n",
       "      <td>56</td>\n",
       "      <td>Foshan + code2</td>\n",
       "      <td>56</td>\n",
       "      <td>Kuchinotsu + code1</td>\n",
       "      <td>52</td>\n",
       "      <td>Cienaga + code1</td>\n",
       "      <td>50</td>\n",
       "    </tr>\n",
       "    <tr>\n",
       "      <td>1</td>\n",
       "      <td>Itajai + code2</td>\n",
       "      <td>62</td>\n",
       "      <td>Tanjung Bara + code1</td>\n",
       "      <td>61</td>\n",
       "      <td>Rapid Bay + code1</td>\n",
       "      <td>60</td>\n",
       "      <td>Bartin + code1</td>\n",
       "      <td>59</td>\n",
       "      <td>Barbers Point + code1</td>\n",
       "      <td>58</td>\n",
       "    </tr>\n",
       "    <tr>\n",
       "      <td>2</td>\n",
       "      <td>Shihu + code1</td>\n",
       "      <td>100</td>\n",
       "      <td>Shingu + code1</td>\n",
       "      <td>73</td>\n",
       "      <td>Shishi + code1</td>\n",
       "      <td>73</td>\n",
       "      <td>Huizhou + code1</td>\n",
       "      <td>67</td>\n",
       "      <td>Sibu + code1</td>\n",
       "      <td>67</td>\n",
       "    </tr>\n",
       "    <tr>\n",
       "      <td>3</td>\n",
       "      <td>Singapore + code1</td>\n",
       "      <td>100</td>\n",
       "      <td>Gopalpur + code2</td>\n",
       "      <td>71</td>\n",
       "      <td>Helsingor + code1</td>\n",
       "      <td>67</td>\n",
       "      <td>Port Dina + code1</td>\n",
       "      <td>67</td>\n",
       "      <td>Surigao + code1</td>\n",
       "      <td>62</td>\n",
       "    </tr>\n",
       "    <tr>\n",
       "      <td>4</td>\n",
       "      <td>Kuchinotsu + code2</td>\n",
       "      <td>55</td>\n",
       "      <td>Chanaral + code2</td>\n",
       "      <td>55</td>\n",
       "      <td>Jiangmen + code2</td>\n",
       "      <td>55</td>\n",
       "      <td>Kingstown, St. Vincent + code2</td>\n",
       "      <td>55</td>\n",
       "      <td>Kawagoe + code2</td>\n",
       "      <td>55</td>\n",
       "    </tr>\n",
       "  </tbody>\n",
       "</table>\n",
       "</div>"
      ],
      "text/plain": [
       "                 top1  score1                      top2  score2  \\\n",
       "0  Cienfuegos + code1     100  Santiago de Cuba + code2      56   \n",
       "1      Itajai + code2      62      Tanjung Bara + code1      61   \n",
       "2       Shihu + code1     100            Shingu + code1      73   \n",
       "3   Singapore + code1     100          Gopalpur + code2      71   \n",
       "4  Kuchinotsu + code2      55          Chanaral + code2      55   \n",
       "\n",
       "                top3  score3                            top4  score4  \\\n",
       "0     Foshan + code2      56              Kuchinotsu + code1      52   \n",
       "1  Rapid Bay + code1      60                  Bartin + code1      59   \n",
       "2     Shishi + code1      73                 Huizhou + code1      67   \n",
       "3  Helsingor + code1      67               Port Dina + code1      67   \n",
       "4   Jiangmen + code2      55  Kingstown, St. Vincent + code2      55   \n",
       "\n",
       "                    top5  score5  \n",
       "0        Cienaga + code1      50  \n",
       "1  Barbers Point + code1      58  \n",
       "2           Sibu + code1      67  \n",
       "3        Surigao + code1      62  \n",
       "4        Kawagoe + code2      55  "
      ]
     },
     "execution_count": 140,
     "metadata": {},
     "output_type": "execute_result"
    }
   ],
   "source": [
    "df_data.head()"
   ]
  },
  {
   "cell_type": "code",
   "execution_count": 141,
   "metadata": {},
   "outputs": [],
   "source": [
    "df_result = pd.concat([df_sample, df_data], axis=1)"
   ]
  },
  {
   "cell_type": "code",
   "execution_count": 343,
   "metadata": {},
   "outputs": [
    {
     "ename": "NameError",
     "evalue": "name 'df_result' is not defined",
     "output_type": "error",
     "traceback": [
      "\u001b[1;31m---------------------------------------------------------------------------\u001b[0m",
      "\u001b[1;31mNameError\u001b[0m                                 Traceback (most recent call last)",
      "\u001b[1;32m<ipython-input-343-569a513bb94a>\u001b[0m in \u001b[0;36m<module>\u001b[1;34m\u001b[0m\n\u001b[1;32m----> 1\u001b[1;33m \u001b[0mlen\u001b[0m\u001b[1;33m(\u001b[0m\u001b[0mdf_result\u001b[0m\u001b[1;33m)\u001b[0m\u001b[1;33m\u001b[0m\u001b[1;33m\u001b[0m\u001b[0m\n\u001b[0m",
      "\u001b[1;31mNameError\u001b[0m: name 'df_result' is not defined"
     ]
    }
   ],
   "source": [
    "len(df_result)"
   ]
  },
  {
   "cell_type": "code",
   "execution_count": 143,
   "metadata": {},
   "outputs": [
    {
     "data": {
      "text/html": [
       "<div>\n",
       "<style scoped>\n",
       "    .dataframe tbody tr th:only-of-type {\n",
       "        vertical-align: middle;\n",
       "    }\n",
       "\n",
       "    .dataframe tbody tr th {\n",
       "        vertical-align: top;\n",
       "    }\n",
       "\n",
       "    .dataframe thead th {\n",
       "        text-align: right;\n",
       "    }\n",
       "</style>\n",
       "<table border=\"1\" class=\"dataframe\">\n",
       "  <thead>\n",
       "    <tr style=\"text-align: right;\">\n",
       "      <th></th>\n",
       "      <th>imo</th>\n",
       "      <th>sector</th>\n",
       "      <th>destination</th>\n",
       "      <th>top1</th>\n",
       "      <th>score1</th>\n",
       "      <th>top2</th>\n",
       "      <th>score2</th>\n",
       "      <th>top3</th>\n",
       "      <th>score3</th>\n",
       "      <th>top4</th>\n",
       "      <th>score4</th>\n",
       "      <th>top5</th>\n",
       "      <th>score5</th>\n",
       "    </tr>\n",
       "  </thead>\n",
       "  <tbody>\n",
       "    <tr>\n",
       "      <td>0</td>\n",
       "      <td>9216547</td>\n",
       "      <td>TANKER</td>\n",
       "      <td>CIENFUEGOS.CU</td>\n",
       "      <td>Cienfuegos + code1</td>\n",
       "      <td>100</td>\n",
       "      <td>Santiago de Cuba + code2</td>\n",
       "      <td>56</td>\n",
       "      <td>Foshan + code2</td>\n",
       "      <td>56</td>\n",
       "      <td>Kuchinotsu + code1</td>\n",
       "      <td>52</td>\n",
       "      <td>Cienaga + code1</td>\n",
       "      <td>50</td>\n",
       "    </tr>\n",
       "    <tr>\n",
       "      <td>1</td>\n",
       "      <td>9618680</td>\n",
       "      <td>DRY</td>\n",
       "      <td>TJ.BARA,IDN</td>\n",
       "      <td>Itajai + code2</td>\n",
       "      <td>62</td>\n",
       "      <td>Tanjung Bara + code1</td>\n",
       "      <td>61</td>\n",
       "      <td>Rapid Bay + code1</td>\n",
       "      <td>60</td>\n",
       "      <td>Bartin + code1</td>\n",
       "      <td>59</td>\n",
       "      <td>Barbers Point + code1</td>\n",
       "      <td>58</td>\n",
       "    </tr>\n",
       "    <tr>\n",
       "      <td>2</td>\n",
       "      <td>9550462</td>\n",
       "      <td>DRY</td>\n",
       "      <td>SHIHU</td>\n",
       "      <td>Shihu + code1</td>\n",
       "      <td>100</td>\n",
       "      <td>Shingu + code1</td>\n",
       "      <td>73</td>\n",
       "      <td>Shishi + code1</td>\n",
       "      <td>73</td>\n",
       "      <td>Huizhou + code1</td>\n",
       "      <td>67</td>\n",
       "      <td>Sibu + code1</td>\n",
       "      <td>67</td>\n",
       "    </tr>\n",
       "    <tr>\n",
       "      <td>3</td>\n",
       "      <td>8902826</td>\n",
       "      <td>DRY BULK</td>\n",
       "      <td>SINGAPORE</td>\n",
       "      <td>Singapore + code1</td>\n",
       "      <td>100</td>\n",
       "      <td>Gopalpur + code2</td>\n",
       "      <td>71</td>\n",
       "      <td>Helsingor + code1</td>\n",
       "      <td>67</td>\n",
       "      <td>Port Dina + code1</td>\n",
       "      <td>67</td>\n",
       "      <td>Surigao + code1</td>\n",
       "      <td>62</td>\n",
       "    </tr>\n",
       "    <tr>\n",
       "      <td>4</td>\n",
       "      <td>9692428</td>\n",
       "      <td>TANKER</td>\n",
       "      <td>CN CJK</td>\n",
       "      <td>Kuchinotsu + code2</td>\n",
       "      <td>55</td>\n",
       "      <td>Chanaral + code2</td>\n",
       "      <td>55</td>\n",
       "      <td>Jiangmen + code2</td>\n",
       "      <td>55</td>\n",
       "      <td>Kingstown, St. Vincent + code2</td>\n",
       "      <td>55</td>\n",
       "      <td>Kawagoe + code2</td>\n",
       "      <td>55</td>\n",
       "    </tr>\n",
       "  </tbody>\n",
       "</table>\n",
       "</div>"
      ],
      "text/plain": [
       "       imo    sector    destination                top1  score1  \\\n",
       "0  9216547    TANKER  CIENFUEGOS.CU  Cienfuegos + code1     100   \n",
       "1  9618680       DRY    TJ.BARA,IDN      Itajai + code2      62   \n",
       "2  9550462       DRY          SHIHU       Shihu + code1     100   \n",
       "3  8902826  DRY BULK      SINGAPORE   Singapore + code1     100   \n",
       "4  9692428    TANKER         CN CJK  Kuchinotsu + code2      55   \n",
       "\n",
       "                       top2  score2               top3  score3  \\\n",
       "0  Santiago de Cuba + code2      56     Foshan + code2      56   \n",
       "1      Tanjung Bara + code1      61  Rapid Bay + code1      60   \n",
       "2            Shingu + code1      73     Shishi + code1      73   \n",
       "3          Gopalpur + code2      71  Helsingor + code1      67   \n",
       "4          Chanaral + code2      55   Jiangmen + code2      55   \n",
       "\n",
       "                             top4  score4                   top5  score5  \n",
       "0              Kuchinotsu + code1      52        Cienaga + code1      50  \n",
       "1                  Bartin + code1      59  Barbers Point + code1      58  \n",
       "2                 Huizhou + code1      67           Sibu + code1      67  \n",
       "3               Port Dina + code1      67        Surigao + code1      62  \n",
       "4  Kingstown, St. Vincent + code2      55        Kawagoe + code2      55  "
      ]
     },
     "execution_count": 143,
     "metadata": {},
     "output_type": "execute_result"
    }
   ],
   "source": [
    "df_result.head()"
   ]
  },
  {
   "cell_type": "code",
   "execution_count": 144,
   "metadata": {},
   "outputs": [],
   "source": [
    "df_result.to_csv('./data/result_sample.csv', encoding='utf_8', header=1, index=0)"
   ]
  },
  {
   "cell_type": "code",
   "execution_count": null,
   "metadata": {},
   "outputs": [],
   "source": [
    "dr_result.to_ex"
   ]
  },
  {
   "cell_type": "code",
   "execution_count": 136,
   "metadata": {},
   "outputs": [],
   "source": [
    "df_result=df_result.drop(index=df_result.index)"
   ]
  },
  {
   "cell_type": "code",
   "execution_count": null,
   "metadata": {},
   "outputs": [],
   "source": []
  },
  {
   "cell_type": "code",
   "execution_count": 128,
   "metadata": {},
   "outputs": [
    {
     "name": "stdout",
     "output_type": "stream",
     "text": [
      "TH LCH\n",
      "TRTUZ\n",
      "MAPTM\n",
      "FRLEH\n",
      ">KRYOS\n",
      "TRTEK\n",
      "NG APP\n",
      "JP UKB E4 0FF\n",
      "USPON\n",
      "JP YOS\n",
      "HR RJK\n",
      "ESCEU\n",
      "JP THS\n",
      "JP SKD\n",
      "JP MUR\n",
      "JP NGI JXTG H5-9\n",
      "HK HKG\n",
      "JP NIC\n",
      "JP SYZ\n",
      "JP TMK 2W\n",
      "GNCKY\n",
      "JP NSR 0FF\n",
      "IT TRS\n",
      "CD MAT\n",
      "JP HKP\n",
      "JP UKB\n",
      "JP ISG\n",
      ">JEDDAH\n",
      "PHE AU\n",
      "MASFI\n",
      "JP KWS\n",
      "CHINA\n",
      ">AU WEI\n",
      "SG SIN\n",
      "BANCO DEL HOYO\n",
      "JP MIZ FM\n",
      "JP MTS\n",
      "JP KSM CN\n",
      "FIRAU\n",
      "JP SHN\n",
      "LKCMB ANCH.\n",
      "CN ZOS\n",
      "CN\n",
      "CNZOS\n",
      "IDKSO\n",
      "VN HPH\n",
      "FI SKV\n",
      "CNSHA\n",
      "JP CHB\n",
      "KR PUS\n",
      "JP TTY\n",
      "JP SBK\n",
      "VN HPH\n",
      "OMMFH\n",
      "EOPL\n",
      "MAVIL\n",
      "PEBGC\n",
      "JP   FNB  IE\n",
      "JP ONX\n",
      "OPL ESCAD\n",
      "SN DKR\n",
      "JP SBK\n",
      "TRGOL\n",
      "USBOS\n",
      "JP FTX\n",
      "US EWR\n",
      ">GIGIB\n",
      "BR SSZ\n",
      "PL GDN\n",
      "BD CHITTAGONG\n",
      "TTPTS\n",
      "SG SIN\n",
      "VN CPH\n",
      "JP TXD (TOKUYAMA)\n",
      "US PEF\n",
      "CNNGB\n",
      "ID SUB\n",
      ">SEUDD\n",
      "HK HKG\n",
      "US ILG\n",
      "JP SUZ\n",
      "KII\n",
      ">EGPSD\n",
      ">>GBPEM\n",
      "JP KWS HBM>W9R<&*O\n",
      "JP HKS\n",
      "CA WNE\n",
      "NL VLI\n",
      "GLADSTONE, AUS\n",
      "JP KND\n",
      "JP TBN\n",
      "JP TYO\n",
      ">CAMTR\n",
      "KR YOS\n",
      "JPCHB\n",
      "> DE EME\n",
      "JP CHB\n",
      "SD PZU\n",
      "JP KNM\n",
      "NLRTM\n",
      "<GBIMM\n",
      "JP TRG\n",
      "JP YKK\n",
      "ISPTO\n",
      "TR TUZ\n",
      "AEDXB\n",
      "> CN TXG\n",
      "BDCGP\n",
      ">TRALI\n",
      "JP OIP\n",
      "BEZEE\n",
      "ID CIG\n",
      "BE ANR\n",
      "JP HKP\n",
      "SGSIN(PEBGA)\n",
      "> TWTPE\n",
      "ILHFA\n",
      "VNSGNCL\n",
      "KR TSN\n",
      "PH CEB\n",
      "JP CHB\n",
      "ES SAG\n",
      "PAN BLB\n",
      "JP HHR\n",
      "YE ADE\n",
      "TW KHH\n",
      "NG ESC\n",
      "JP KNM HESAKI\n",
      "ID KUM\n",
      "TRTIR\n",
      "CNQIN\n",
      "NLRTM APM1\n",
      "RUVVO\n",
      "JP HIM\n",
      "SAJED\n",
      "NL\n",
      "JP OIG\n",
      "KR PTK/SS\n",
      "AUSYD\n",
      "IEAUG\n",
      "RUVVO\n",
      "GB SOU ANCH\n",
      "NG APP\n",
      "MTMLA\n",
      "JP UKB R\n",
      "JP FKY RORO-W\n",
      "GAOWE\n",
      "CNDLC\n",
      "JP NAT\n",
      "JP TYO O\n",
      "CGPNR\n",
      "JP NGO\n",
      "CN ZOS\n",
      "KR PUS\n",
      "MXVER\n",
      "SG SIN\n",
      "SADMM\n",
      ">> PK BQM\n",
      "ESVLC\n",
      "FRLAV\n",
      "FRLAV\n",
      "LKCMB\n",
      "MY PGG\n",
      "JP SGM TIE\n",
      "PHI\n",
      "ZA PLZ\n",
      ">CNYAT\n",
      "ARSLO\n",
      "JP TXD\n",
      ">INMUN\n",
      "?? ???\n",
      "SG PEBGA\n",
      "TR BDM\n",
      "OW LOS H  \"\n",
      "JP AOM\n",
      "GBFNT\n",
      "JP SGM\n",
      "INVTZ\n",
      "NLRTM\n",
      "JP NAO\n",
      "USMSY\n",
      "JPTMKE1\n",
      "JP IWK\n",
      "JP KND\n",
      "JP YOK/NGI/NNX\n",
      "JPTYO\n",
      "JP MIZ\n",
      "US PWM\n",
      "FRURO\n",
      "USHOU\n",
      "BS FPO\n",
      ">SG SIN\n",
      "GUAPR\n",
      "CU CFG\n",
      "BRSSZ\n",
      "JP KRE\n",
      "JP ONA\n",
      "PKQCT\n",
      "EG PSD\n",
      "NZTRG\n",
      "SE GOT\n",
      "JP SBK\n",
      "POHANG\n",
      "JP TMK S\n",
      "INSIK\n",
      "CN SHD\n",
      "?? ???\n",
      "KRUSN\n",
      "JP FKY\n",
      "CNNTG\n",
      "JP KWS\n",
      "JP UBJ SEIBU-5-11\n",
      "US GLS\n",
      "USCHS\n",
      "ARPMY\n",
      "JP KSM\n",
      "DAGENHAM\n",
      "SUNGAIPAKNING\n",
      "EG SUZ\n",
      "MYPTP\n",
      "JP TYO O\"\n",
      "ITSPE\n",
      "US PEV\n",
      "JP KNY\n",
      "GHTKD\n",
      "JP KSM\n",
      "SHANHAIGUAN\n",
      "IRAN\n",
      "GB SOU\n",
      "PA BLB\n",
      "AEFJR\n",
      "ITTRS\n",
      "JP FTX FUSHIKI\n",
      ">HUANGHUA\n",
      "SINGAPORE\n",
      "JP TYO R\n",
      "CN YTN\n",
      "JP OSA\n",
      "JP  YOK AZ\n",
      "JP HHR W5\n",
      "JP WAK\n",
      "CN NGB\n",
      "JP IHA\n",
      "KR PUS\n",
      "CWS\n",
      "GBTTL\n",
      "JP UKB\n",
      "P NAGO\n",
      "CN ZOS\n",
      "JP TYO\n",
      "USHPY\n",
      "JP KNX\n",
      "DEHAM\n",
      "JP IHA\n",
      "USLGB\n",
      "MAPTM\n",
      "CHSHA\n",
      "AU GLT\n",
      "TR ISK\n",
      "JP KSM/CS/4B\n",
      "KW MEA\n",
      "USLGB\n",
      "USLAX\n",
      "KRPUS\n",
      "MG TLE\n",
      "AUGEX\n",
      ">AR SLO\n",
      "KR YOS\n",
      "ID SUB\n",
      "PTK KR\n",
      "MACAS\n",
      "JP MIZ\n",
      "ILHFA\n",
      "JP RHK\n",
      "BRMCZ\n",
      "PA CTB\n",
      "RU MMK\n",
      "USNYC\n",
      "RUBAI\n",
      "SG\n",
      ">INMUN\n",
      "JP AMX\n",
      "CO BAQ\n",
      "JP TMK\n",
      "PEILQ\n",
      "VE ELP\n",
      "BE ANR\n",
      "PH SFS\n",
      "AU BNE\n",
      "JP KOJ\n",
      "JP YOK D\n",
      "JP SBK\n",
      "JP YOK\n",
      "JP CHB\n",
      "MXLZC\n",
      "SGSIN PEBGA\n",
      "TW KHH\n",
      ">PACTB\n",
      "ZJG,CN\n",
      "IDSUB\n",
      "EGSUZ\n",
      "MY PKG\n",
      "JP OSA E/A\n",
      "JP OIP TSURUSAKI\n",
      "IN MUN\n",
      "EG SUZ\n",
      ">EGDAM\n",
      "KAN/ AS\n",
      "ZA PLZ\n",
      "JP ANE\n",
      "US NNS\n",
      ">OMSLL\n",
      "JP NNX\n",
      "CN TAO\n",
      "USSEA\n",
      "US NYC\n",
      "JP NGO 3B\n",
      "\n",
      "JP MIZ TS\n",
      "JP SGM NAKANO4\n",
      "JP KWS IU\n",
      "NO ORK\n",
      "NZNSN\n",
      ">GHTEM\n",
      "JP ANE\n",
      "CNYSA\n",
      "JP YKK 3E\n",
      ">>NLROT\n",
      "GBSOU\n",
      "JP KWS DU\n",
      "TZDAR\n",
      ">MXATM\n",
      "USPGL\n",
      "KR KAN/K12\n",
      "BR PNG\n",
      "GB HUL\n",
      "TMK EAST\n",
      "JP NAS\n",
      "ILHFA\n",
      "BRAZIL\n",
      "JP ISG K\n",
      "JP KWS\n",
      "RU SAB\n",
      ">TAIPEI\n",
      "LK CMB\n",
      "GH TEM\n",
      "AGSJO\n",
      "JP SBK 2\n",
      "NOTOS\n",
      "CA VAN\n",
      "JPKOBE\n",
      ">SGSIN PEBGB\n",
      "MYPKG\n",
      ">MUPLU\n",
      "MYTPP\n",
      "DEBRV\n",
      "CA VAN\n",
      "> JP MYJ\n",
      "BR SPB\n",
      "CNTAX\n",
      "JP KSM\n",
      "JP IHA\n",
      "JP KWS TU\n",
      "JP HHR\n",
      "AEJEA\n",
      "MY PKG\n",
      "JP SGM\n",
      ">YALOVA  ANCH.\n",
      ">>>BJCOO\n",
      "OMSLL\n"
     ]
    }
   ],
   "source": [
    "for des in destination_list:\n",
    "    if '>' in str(des):\n",
    "        index = des.index('>')\n",
    "        if 'OFF' in str(des):\n",
    "#             print(des + ' ori')\n",
    "            index_off = des.index('OFF')\n",
    "            des = des[index + 1: index_off].strip()\n",
    "        else:\n",
    "#             print(des + ' ori')\n",
    "            des = des[index + 1 :].strip()\n",
    "        print(des)"
   ]
  },
  {
   "cell_type": "code",
   "execution_count": null,
   "metadata": {},
   "outputs": [],
   "source": [
    "JP UKB E4 0FF"
   ]
  },
  {
   "cell_type": "code",
   "execution_count": null,
   "metadata": {},
   "outputs": [],
   "source": [
    "CACOC"
   ]
  },
  {
   "cell_type": "code",
   "execution_count": 134,
   "metadata": {},
   "outputs": [
    {
     "name": "stdout",
     "output_type": "stream",
     "text": [
      "['Chittagong + code1', 100, 'Changhong + code1', 64, 'Chita - LNG + code1', 64, 'Chicago + code1', 60, 'Chenjiagang + code1', 58]\n"
     ]
    }
   ],
   "source": [
    "ratio_list = []\n",
    "for name in port_name_ls:\n",
    "        ratio = fuzz.token_set_ratio('BD CHITTAGONG', name)\n",
    "        ratio_list.append((name + ' + code1', ratio))\n",
    "for code in code_dic.keys():\n",
    "    ratio = fuzz.token_set_ratio('BD CHITTAGONG', code)\n",
    "    ratio_list.append((code + ' + code2', ratio))\n",
    "\n",
    "ratio_rank = sorted(ratio_list, key=lambda x: x[1],reverse=True)[:5]\n",
    "    \n",
    "scores_list = []\n",
    "for (name, ratio) in ratio_rank:\n",
    "    scores_list.append(name)\n",
    "    scores_list.append(ratio)\n",
    "    \n",
    "print(scores_list)"
   ]
  },
  {
   "cell_type": "code",
   "execution_count": 93,
   "metadata": {},
   "outputs": [
    {
     "name": "stdout",
     "output_type": "stream",
     "text": [
      "CACOC\n"
     ]
    }
   ],
   "source": [
    "for code in code_dic.keys():\n",
    "    if code == 'CACOC':\n",
    "        print(code)"
   ]
  },
  {
   "cell_type": "code",
   "execution_count": 95,
   "metadata": {},
   "outputs": [
    {
     "data": {
      "text/plain": [
       "[('CACOC', 100), ('CABCO', 80), ('CAIOC', 80), ('CACBC', 80), ('COTCO', 60)]"
      ]
     },
     "execution_count": 95,
     "metadata": {},
     "output_type": "execute_result"
    }
   ],
   "source": [
    "process.extract(\"CACOC\", code_dic.keys(), limit=5)"
   ]
  },
  {
   "cell_type": "code",
   "execution_count": null,
   "metadata": {},
   "outputs": [],
   "source": []
  },
  {
   "cell_type": "code",
   "execution_count": 1,
   "metadata": {},
   "outputs": [],
   "source": [
    "import re"
   ]
  },
  {
   "cell_type": "code",
   "execution_count": 33,
   "metadata": {},
   "outputs": [],
   "source": [
    "pattern = re.compile('/[A-Z]/')"
   ]
  },
  {
   "cell_type": "code",
   "execution_count": 67,
   "metadata": {},
   "outputs": [],
   "source": [
    "string = '>JP NAH U7'"
   ]
  },
  {
   "cell_type": "code",
   "execution_count": 68,
   "metadata": {},
   "outputs": [],
   "source": [
    "res = re.findall(r'\\S*\\D', string)"
   ]
  },
  {
   "cell_type": "code",
   "execution_count": 69,
   "metadata": {},
   "outputs": [
    {
     "name": "stdout",
     "output_type": "stream",
     "text": [
      "['>JP ', 'NAH ', 'U']\n"
     ]
    }
   ],
   "source": [
    "print(res)"
   ]
  },
  {
   "cell_type": "code",
   "execution_count": 70,
   "metadata": {},
   "outputs": [
    {
     "data": {
      "text/plain": [
       "['J', 'P', 'N', 'A', 'H', 'U']"
      ]
     },
     "execution_count": 70,
     "metadata": {},
     "output_type": "execute_result"
    }
   ],
   "source": [
    "re.findall('[A-Z]', 'JP NAH U7')"
   ]
  },
  {
   "cell_type": "code",
   "execution_count": null,
   "metadata": {},
   "outputs": [],
   "source": []
  },
  {
   "cell_type": "code",
   "execution_count": 74,
   "metadata": {},
   "outputs": [],
   "source": [
    "d = 'JP NAH U7'"
   ]
  },
  {
   "cell_type": "code",
   "execution_count": 79,
   "metadata": {},
   "outputs": [
    {
     "name": "stdout",
     "output_type": "stream",
     "text": [
      "JPNAHU\n"
     ]
    }
   ],
   "source": [
    "res = ''.join(re.findall(r'[A-Z]',d))\n",
    "\n",
    "print(res)"
   ]
  },
  {
   "cell_type": "code",
   "execution_count": 80,
   "metadata": {},
   "outputs": [
    {
     "name": "stdout",
     "output_type": "stream",
     "text": [
      "JPNAH\n"
     ]
    }
   ],
   "source": [
    "res = ''.join(re.findall(r'[A-Z]',d))[:5]\n",
    "\n",
    "print(res)"
   ]
  },
  {
   "cell_type": "code",
   "execution_count": 85,
   "metadata": {},
   "outputs": [],
   "source": [
    "t_1 = pd.read_csv('./data/t1.csv')"
   ]
  },
  {
   "cell_type": "code",
   "execution_count": 91,
   "metadata": {},
   "outputs": [
    {
     "data": {
      "text/html": [
       "<div>\n",
       "<style scoped>\n",
       "    .dataframe tbody tr th:only-of-type {\n",
       "        vertical-align: middle;\n",
       "    }\n",
       "\n",
       "    .dataframe tbody tr th {\n",
       "        vertical-align: top;\n",
       "    }\n",
       "\n",
       "    .dataframe thead th {\n",
       "        text-align: right;\n",
       "    }\n",
       "</style>\n",
       "<table border=\"1\" class=\"dataframe\">\n",
       "  <thead>\n",
       "    <tr style=\"text-align: right;\">\n",
       "      <th></th>\n",
       "      <th>id</th>\n",
       "      <th>imo</th>\n",
       "      <th>sector</th>\n",
       "      <th>destination</th>\n",
       "      <th>top1</th>\n",
       "      <th>score1</th>\n",
       "      <th>top2</th>\n",
       "      <th>score2</th>\n",
       "      <th>top3</th>\n",
       "      <th>score3</th>\n",
       "      <th>top4</th>\n",
       "      <th>score4</th>\n",
       "      <th>top5</th>\n",
       "      <th>score5</th>\n",
       "    </tr>\n",
       "  </thead>\n",
       "  <tbody>\n",
       "    <tr>\n",
       "      <td>0</td>\n",
       "      <td>94157</td>\n",
       "      <td>9306469</td>\n",
       "      <td>TANKER</td>\n",
       "      <td>MZMNC</td>\n",
       "      <td>Nacala + MZMNC</td>\n",
       "      <td>100</td>\n",
       "      <td>Mahajunga + MGMJN</td>\n",
       "      <td>60</td>\n",
       "      <td>Nouakchott + MRNKC</td>\n",
       "      <td>60</td>\n",
       "      <td>Cozumel + MXCZM</td>\n",
       "      <td>60</td>\n",
       "      <td>Rangoon + MMRGN</td>\n",
       "      <td>60</td>\n",
       "    </tr>\n",
       "    <tr>\n",
       "      <td>1</td>\n",
       "      <td>94162</td>\n",
       "      <td>9461489</td>\n",
       "      <td>CONTAINER</td>\n",
       "      <td>CNVAN--&gt;CNTAO</td>\n",
       "      <td>Qingdao (formerly Tsingtao) + CNTAO&amp;&amp;&gt;</td>\n",
       "      <td>100</td>\n",
       "      <td>TAICANG + \\tCNTA&amp;&amp;&gt;</td>\n",
       "      <td>89</td>\n",
       "      <td>Cinta + name&amp;&amp;&gt;</td>\n",
       "      <td>80</td>\n",
       "      <td>Taixing + CNTAX&amp;&amp;&gt;</td>\n",
       "      <td>80</td>\n",
       "      <td>Taizhou + CNTZO&amp;&amp;&gt;</td>\n",
       "      <td>80</td>\n",
       "    </tr>\n",
       "    <tr>\n",
       "      <td>2</td>\n",
       "      <td>94195</td>\n",
       "      <td>9493743</td>\n",
       "      <td>DRY BULK</td>\n",
       "      <td>UAYUZ</td>\n",
       "      <td>Yuzhny + UAYUZ</td>\n",
       "      <td>100</td>\n",
       "      <td>Mayaguez + name</td>\n",
       "      <td>62</td>\n",
       "      <td>Suez Bay + name</td>\n",
       "      <td>62</td>\n",
       "      <td>Tubay + name</td>\n",
       "      <td>60</td>\n",
       "      <td>Xiuyu + name</td>\n",
       "      <td>60</td>\n",
       "    </tr>\n",
       "    <tr>\n",
       "      <td>3</td>\n",
       "      <td>94242</td>\n",
       "      <td>9314222</td>\n",
       "      <td>CONTAINER</td>\n",
       "      <td>CAPRR</td>\n",
       "      <td>Prince Rupert + CAPRR</td>\n",
       "      <td>100</td>\n",
       "      <td>Three Rivers + CATRR</td>\n",
       "      <td>80</td>\n",
       "      <td>Prescott (Usa) + CAPRE</td>\n",
       "      <td>80</td>\n",
       "      <td>Aparri + name</td>\n",
       "      <td>73</td>\n",
       "      <td>Canaport + name</td>\n",
       "      <td>62</td>\n",
       "    </tr>\n",
       "    <tr>\n",
       "      <td>4</td>\n",
       "      <td>94247</td>\n",
       "      <td>9503940</td>\n",
       "      <td>TANKER</td>\n",
       "      <td>SRPBM</td>\n",
       "      <td>Paramaribo + SRPBM</td>\n",
       "      <td>100</td>\n",
       "      <td>Paranam + SRPRM</td>\n",
       "      <td>80</td>\n",
       "      <td>Smalkalden + \\tSRSM</td>\n",
       "      <td>67</td>\n",
       "      <td>Bandar Imam Khomeini + IRBKM</td>\n",
       "      <td>60</td>\n",
       "      <td>Bahia Las Minas + PAPBM</td>\n",
       "      <td>60</td>\n",
       "    </tr>\n",
       "  </tbody>\n",
       "</table>\n",
       "</div>"
      ],
      "text/plain": [
       "      id      imo     sector    destination  \\\n",
       "0  94157  9306469     TANKER          MZMNC   \n",
       "1  94162  9461489  CONTAINER  CNVAN-->CNTAO   \n",
       "2  94195  9493743   DRY BULK          UAYUZ   \n",
       "3  94242  9314222  CONTAINER          CAPRR   \n",
       "4  94247  9503940     TANKER          SRPBM   \n",
       "\n",
       "                                     top1  score1                  top2  \\\n",
       "0                          Nacala + MZMNC     100     Mahajunga + MGMJN   \n",
       "1  Qingdao (formerly Tsingtao) + CNTAO&&>     100   TAICANG + \\tCNTA&&>   \n",
       "2                          Yuzhny + UAYUZ     100       Mayaguez + name   \n",
       "3                   Prince Rupert + CAPRR     100  Three Rivers + CATRR   \n",
       "4                      Paramaribo + SRPBM     100       Paranam + SRPRM   \n",
       "\n",
       "   score2                    top3  score3                          top4  \\\n",
       "0      60      Nouakchott + MRNKC      60               Cozumel + MXCZM   \n",
       "1      89         Cinta + name&&>      80            Taixing + CNTAX&&>   \n",
       "2      62         Suez Bay + name      62                  Tubay + name   \n",
       "3      80  Prescott (Usa) + CAPRE      80                 Aparri + name   \n",
       "4      80     Smalkalden + \\tSRSM      67  Bandar Imam Khomeini + IRBKM   \n",
       "\n",
       "   score4                     top5  score5  \n",
       "0      60          Rangoon + MMRGN      60  \n",
       "1      80       Taizhou + CNTZO&&>      80  \n",
       "2      60             Xiuyu + name      60  \n",
       "3      73          Canaport + name      62  \n",
       "4      60  Bahia Las Minas + PAPBM      60  "
      ]
     },
     "execution_count": 91,
     "metadata": {},
     "output_type": "execute_result"
    }
   ],
   "source": [
    "t_1.head()"
   ]
  },
  {
   "cell_type": "code",
   "execution_count": 87,
   "metadata": {},
   "outputs": [],
   "source": [
    "test_list = t_1['destination'].tolist()"
   ]
  },
  {
   "cell_type": "code",
   "execution_count": 90,
   "metadata": {},
   "outputs": [
    {
     "name": "stdout",
     "output_type": "stream",
     "text": [
      "['MZMNC', 'CNVAN-->CNTAO', 'UAYUZ', 'CAPRR', 'SRPBM', 'COCVE', 'USSFO>PABLB', 'GRPIR>ITCVV', 'CNYSA>CNNGB', 'IQKAZ', 'FRBAY', 'ITSPE', 'MYTPP', 'MTMLA OPL', 'EGDAM', 'RUTAM>GRPIR', 'GBWPT GBAVO GBWPT', 'MXZLO', 'ESBIO', 'USPAB', 'USMIA', 'JPKZU>PABLB', 'MYPGU - CNZJG', 'COCTG', 'RUNVS>NLRTM', 'KRTAN', 'IDAMA', 'DOHAI', 'USPEF', 'AESHJ', 'CNNGB', 'GBCTM', 'PORT NECHES>USPON', 'EGWAF>EGRAG', 'RUSHA', 'ITAUG', 'TZDAR', 'JPKUH', 'GBIMM', 'JPTND', 'PLPLC', 'RUNJK', 'DKFRC', 'KEMBA>>TZDAR', 'MRNKC', 'EGALY', 'ESPAS', 'CNGZU>HKHKG', 'ESGIJ', 'SARAB']\n"
     ]
    }
   ],
   "source": [
    "print(test_list[:50])"
   ]
  },
  {
   "cell_type": "code",
   "execution_count": null,
   "metadata": {},
   "outputs": [],
   "source": [
    "    "
   ]
  },
  {
   "cell_type": "code",
   "execution_count": null,
   "metadata": {},
   "outputs": [],
   "source": []
  },
  {
   "cell_type": "code",
   "execution_count": null,
   "metadata": {},
   "outputs": [],
   "source": []
  },
  {
   "cell_type": "code",
   "execution_count": 103,
   "metadata": {},
   "outputs": [],
   "source": []
  },
  {
   "cell_type": "code",
   "execution_count": 93,
   "metadata": {},
   "outputs": [],
   "source": [
    "df_2 = pd.read_excel('./data/destination_review.xlsx')"
   ]
  },
  {
   "cell_type": "code",
   "execution_count": 125,
   "metadata": {},
   "outputs": [],
   "source": [
    "col = ['port_code', 'port_name']"
   ]
  },
  {
   "cell_type": "code",
   "execution_count": 100,
   "metadata": {},
   "outputs": [],
   "source": [
    "df_3 = df_2.iloc[1:-3, -2:]"
   ]
  },
  {
   "cell_type": "code",
   "execution_count": 126,
   "metadata": {},
   "outputs": [],
   "source": [
    "df_3.columns=col"
   ]
  },
  {
   "cell_type": "code",
   "execution_count": 127,
   "metadata": {},
   "outputs": [
    {
     "data": {
      "text/html": [
       "<div>\n",
       "<style scoped>\n",
       "    .dataframe tbody tr th:only-of-type {\n",
       "        vertical-align: middle;\n",
       "    }\n",
       "\n",
       "    .dataframe tbody tr th {\n",
       "        vertical-align: top;\n",
       "    }\n",
       "\n",
       "    .dataframe thead th {\n",
       "        text-align: right;\n",
       "    }\n",
       "</style>\n",
       "<table border=\"1\" class=\"dataframe\">\n",
       "  <thead>\n",
       "    <tr style=\"text-align: right;\">\n",
       "      <th></th>\n",
       "      <th>port_code</th>\n",
       "      <th>port_name</th>\n",
       "    </tr>\n",
       "  </thead>\n",
       "  <tbody>\n",
       "    <tr>\n",
       "      <td>1</td>\n",
       "      <td>ADALV</td>\n",
       "      <td>Andorra la Vella</td>\n",
       "    </tr>\n",
       "    <tr>\n",
       "      <td>2</td>\n",
       "      <td>ADCAN</td>\n",
       "      <td>Canillo</td>\n",
       "    </tr>\n",
       "    <tr>\n",
       "      <td>3</td>\n",
       "      <td>ADENC</td>\n",
       "      <td>Encamp</td>\n",
       "    </tr>\n",
       "    <tr>\n",
       "      <td>4</td>\n",
       "      <td>ADESC</td>\n",
       "      <td>Escaldes-Engordany</td>\n",
       "    </tr>\n",
       "    <tr>\n",
       "      <td>5</td>\n",
       "      <td>ADFMO</td>\n",
       "      <td>La Farga de Moles</td>\n",
       "    </tr>\n",
       "  </tbody>\n",
       "</table>\n",
       "</div>"
      ],
      "text/plain": [
       "  port_code           port_name\n",
       "1     ADALV    Andorra la Vella\n",
       "2     ADCAN             Canillo\n",
       "3     ADENC              Encamp\n",
       "4     ADESC  Escaldes-Engordany\n",
       "5     ADFMO   La Farga de Moles"
      ]
     },
     "execution_count": 127,
     "metadata": {},
     "output_type": "execute_result"
    }
   ],
   "source": [
    "df_3.head()"
   ]
  },
  {
   "cell_type": "code",
   "execution_count": 143,
   "metadata": {},
   "outputs": [
    {
     "data": {
      "text/plain": [
       "88088"
      ]
     },
     "execution_count": 143,
     "metadata": {},
     "output_type": "execute_result"
    }
   ],
   "source": [
    "len(df_3)"
   ]
  },
  {
   "cell_type": "code",
   "execution_count": 150,
   "metadata": {},
   "outputs": [
    {
     "data": {
      "text/plain": [
       "66"
      ]
     },
     "execution_count": 150,
     "metadata": {},
     "output_type": "execute_result"
    }
   ],
   "source": [
    "sum(df_3['port_code'].isnull())"
   ]
  },
  {
   "cell_type": "code",
   "execution_count": 146,
   "metadata": {},
   "outputs": [
    {
     "data": {
      "text/html": [
       "<div>\n",
       "<style scoped>\n",
       "    .dataframe tbody tr th:only-of-type {\n",
       "        vertical-align: middle;\n",
       "    }\n",
       "\n",
       "    .dataframe tbody tr th {\n",
       "        vertical-align: top;\n",
       "    }\n",
       "\n",
       "    .dataframe thead th {\n",
       "        text-align: right;\n",
       "    }\n",
       "</style>\n",
       "<table border=\"1\" class=\"dataframe\">\n",
       "  <thead>\n",
       "    <tr style=\"text-align: right;\">\n",
       "      <th></th>\n",
       "      <th>port_code</th>\n",
       "      <th>port_name</th>\n",
       "    </tr>\n",
       "  </thead>\n",
       "  <tbody>\n",
       "    <tr>\n",
       "      <td>1145</td>\n",
       "      <td>NaN</td>\n",
       "      <td>Neumarkt and der Ybbs</td>\n",
       "    </tr>\n",
       "    <tr>\n",
       "      <td>1809</td>\n",
       "      <td>NaN</td>\n",
       "      <td>Croydon</td>\n",
       "    </tr>\n",
       "    <tr>\n",
       "      <td>3197</td>\n",
       "      <td>NaN</td>\n",
       "      <td>Pangaon</td>\n",
       "    </tr>\n",
       "    <tr>\n",
       "      <td>4408</td>\n",
       "      <td>NaN</td>\n",
       "      <td>Plassendale</td>\n",
       "    </tr>\n",
       "    <tr>\n",
       "      <td>4699</td>\n",
       "      <td>NaN</td>\n",
       "      <td>Thorntonbank</td>\n",
       "    </tr>\n",
       "    <tr>\n",
       "      <td>...</td>\n",
       "      <td>...</td>\n",
       "      <td>...</td>\n",
       "    </tr>\n",
       "    <tr>\n",
       "      <td>69997</td>\n",
       "      <td>NaN</td>\n",
       "      <td>Yombo</td>\n",
       "    </tr>\n",
       "    <tr>\n",
       "      <td>69998</td>\n",
       "      <td>NaN</td>\n",
       "      <td>Zanzibar</td>\n",
       "    </tr>\n",
       "    <tr>\n",
       "      <td>79054</td>\n",
       "      <td>NaN</td>\n",
       "      <td>New Bedford</td>\n",
       "    </tr>\n",
       "    <tr>\n",
       "      <td>81605</td>\n",
       "      <td>NaN</td>\n",
       "      <td>Riceboro</td>\n",
       "    </tr>\n",
       "    <tr>\n",
       "      <td>88049</td>\n",
       "      <td>NaN</td>\n",
       "      <td>Monze</td>\n",
       "    </tr>\n",
       "  </tbody>\n",
       "</table>\n",
       "<p>66 rows × 2 columns</p>\n",
       "</div>"
      ],
      "text/plain": [
       "      port_code              port_name\n",
       "1145        NaN  Neumarkt and der Ybbs\n",
       "1809        NaN                Croydon\n",
       "3197        NaN                Pangaon\n",
       "4408        NaN            Plassendale\n",
       "4699        NaN           Thorntonbank\n",
       "...         ...                    ...\n",
       "69997       NaN                  Yombo\n",
       "69998       NaN               Zanzibar\n",
       "79054       NaN            New Bedford\n",
       "81605       NaN               Riceboro\n",
       "88049       NaN                  Monze\n",
       "\n",
       "[66 rows x 2 columns]"
      ]
     },
     "execution_count": 146,
     "metadata": {},
     "output_type": "execute_result"
    }
   ],
   "source": [
    "df_3[df_3['port_code'].isnull()]"
   ]
  },
  {
   "cell_type": "code",
   "execution_count": 147,
   "metadata": {},
   "outputs": [
    {
     "data": {
      "text/plain": [
       "0"
      ]
     },
     "execution_count": 147,
     "metadata": {},
     "output_type": "execute_result"
    }
   ],
   "source": [
    "sum(df_3['port_name'].isnull())"
   ]
  },
  {
   "cell_type": "code",
   "execution_count": 151,
   "metadata": {},
   "outputs": [],
   "source": [
    "df_3 = df_3.dropna()"
   ]
  },
  {
   "cell_type": "code",
   "execution_count": 163,
   "metadata": {},
   "outputs": [
    {
     "data": {
      "text/plain": [
       "593"
      ]
     },
     "execution_count": 163,
     "metadata": {},
     "output_type": "execute_result"
    }
   ],
   "source": [
    "sum(df_3['port_code'].duplicated())"
   ]
  },
  {
   "cell_type": "code",
   "execution_count": 168,
   "metadata": {},
   "outputs": [
    {
     "data": {
      "text/html": [
       "<div>\n",
       "<style scoped>\n",
       "    .dataframe tbody tr th:only-of-type {\n",
       "        vertical-align: middle;\n",
       "    }\n",
       "\n",
       "    .dataframe tbody tr th {\n",
       "        vertical-align: top;\n",
       "    }\n",
       "\n",
       "    .dataframe thead th {\n",
       "        text-align: right;\n",
       "    }\n",
       "</style>\n",
       "<table border=\"1\" class=\"dataframe\">\n",
       "  <thead>\n",
       "    <tr style=\"text-align: right;\">\n",
       "      <th></th>\n",
       "      <th>port_code</th>\n",
       "      <th>port_name</th>\n",
       "    </tr>\n",
       "  </thead>\n",
       "  <tbody>\n",
       "    <tr>\n",
       "      <td>409</td>\n",
       "      <td>ARLBA</td>\n",
       "      <td>La Banda</td>\n",
       "    </tr>\n",
       "    <tr>\n",
       "      <td>655</td>\n",
       "      <td>ATBKD</td>\n",
       "      <td>Birkfeld</td>\n",
       "    </tr>\n",
       "    <tr>\n",
       "      <td>1077</td>\n",
       "      <td>ATMML</td>\n",
       "      <td>Mitterdorf im Murztal</td>\n",
       "    </tr>\n",
       "    <tr>\n",
       "      <td>1078</td>\n",
       "      <td>ATMML</td>\n",
       "      <td>Mitterdorf im Murztal</td>\n",
       "    </tr>\n",
       "    <tr>\n",
       "      <td>1079</td>\n",
       "      <td>ATMML</td>\n",
       "      <td>Mitterdorf im Murztal</td>\n",
       "    </tr>\n",
       "    <tr>\n",
       "      <td>1765</td>\n",
       "      <td>AUBWD</td>\n",
       "      <td>Burswood</td>\n",
       "    </tr>\n",
       "    <tr>\n",
       "      <td>2006</td>\n",
       "      <td>AUECK</td>\n",
       "      <td>Eastern Creek</td>\n",
       "    </tr>\n",
       "    <tr>\n",
       "      <td>2635</td>\n",
       "      <td>AUPKH</td>\n",
       "      <td>Peakhurst</td>\n",
       "    </tr>\n",
       "    <tr>\n",
       "      <td>2976</td>\n",
       "      <td>AUWGO</td>\n",
       "      <td>Wattle Grove</td>\n",
       "    </tr>\n",
       "    <tr>\n",
       "      <td>7862</td>\n",
       "      <td>CACAA</td>\n",
       "      <td>Caledonia</td>\n",
       "    </tr>\n",
       "  </tbody>\n",
       "</table>\n",
       "</div>"
      ],
      "text/plain": [
       "     port_code              port_name\n",
       "409      ARLBA               La Banda\n",
       "655      ATBKD               Birkfeld\n",
       "1077     ATMML  Mitterdorf im Murztal\n",
       "1078     ATMML  Mitterdorf im Murztal\n",
       "1079     ATMML  Mitterdorf im Murztal\n",
       "1765     AUBWD               Burswood\n",
       "2006     AUECK          Eastern Creek\n",
       "2635     AUPKH              Peakhurst\n",
       "2976     AUWGO           Wattle Grove\n",
       "7862     CACAA              Caledonia"
      ]
     },
     "execution_count": 168,
     "metadata": {},
     "output_type": "execute_result"
    }
   ],
   "source": [
    "df_3[df_3['port_code'].duplicated()][:10]"
   ]
  },
  {
   "cell_type": "code",
   "execution_count": 172,
   "metadata": {},
   "outputs": [
    {
     "data": {
      "text/html": [
       "<div>\n",
       "<style scoped>\n",
       "    .dataframe tbody tr th:only-of-type {\n",
       "        vertical-align: middle;\n",
       "    }\n",
       "\n",
       "    .dataframe tbody tr th {\n",
       "        vertical-align: top;\n",
       "    }\n",
       "\n",
       "    .dataframe thead th {\n",
       "        text-align: right;\n",
       "    }\n",
       "</style>\n",
       "<table border=\"1\" class=\"dataframe\">\n",
       "  <thead>\n",
       "    <tr style=\"text-align: right;\">\n",
       "      <th></th>\n",
       "      <th>port_code</th>\n",
       "      <th>port_name</th>\n",
       "    </tr>\n",
       "  </thead>\n",
       "  <tbody>\n",
       "    <tr>\n",
       "      <td>408</td>\n",
       "      <td>ARLBA</td>\n",
       "      <td>Loberia</td>\n",
       "    </tr>\n",
       "    <tr>\n",
       "      <td>409</td>\n",
       "      <td>ARLBA</td>\n",
       "      <td>La Banda</td>\n",
       "    </tr>\n",
       "  </tbody>\n",
       "</table>\n",
       "</div>"
      ],
      "text/plain": [
       "    port_code port_name\n",
       "408     ARLBA   Loberia\n",
       "409     ARLBA  La Banda"
      ]
     },
     "execution_count": 172,
     "metadata": {},
     "output_type": "execute_result"
    }
   ],
   "source": [
    "df_3[df_3['port_code'] == 'ARLBA']"
   ]
  },
  {
   "cell_type": "code",
   "execution_count": 173,
   "metadata": {},
   "outputs": [
    {
     "data": {
      "text/html": [
       "<div>\n",
       "<style scoped>\n",
       "    .dataframe tbody tr th:only-of-type {\n",
       "        vertical-align: middle;\n",
       "    }\n",
       "\n",
       "    .dataframe tbody tr th {\n",
       "        vertical-align: top;\n",
       "    }\n",
       "\n",
       "    .dataframe thead th {\n",
       "        text-align: right;\n",
       "    }\n",
       "</style>\n",
       "<table border=\"1\" class=\"dataframe\">\n",
       "  <thead>\n",
       "    <tr style=\"text-align: right;\">\n",
       "      <th></th>\n",
       "      <th>port_code</th>\n",
       "      <th>port_name</th>\n",
       "    </tr>\n",
       "  </thead>\n",
       "  <tbody>\n",
       "    <tr>\n",
       "      <td>654</td>\n",
       "      <td>ATBKD</td>\n",
       "      <td>Birkfeld</td>\n",
       "    </tr>\n",
       "    <tr>\n",
       "      <td>655</td>\n",
       "      <td>ATBKD</td>\n",
       "      <td>Birkfeld</td>\n",
       "    </tr>\n",
       "  </tbody>\n",
       "</table>\n",
       "</div>"
      ],
      "text/plain": [
       "    port_code port_name\n",
       "654     ATBKD  Birkfeld\n",
       "655     ATBKD  Birkfeld"
      ]
     },
     "execution_count": 173,
     "metadata": {},
     "output_type": "execute_result"
    }
   ],
   "source": [
    "df_3[df_3['port_code'] == 'ATBKD']"
   ]
  },
  {
   "cell_type": "code",
   "execution_count": 174,
   "metadata": {},
   "outputs": [
    {
     "data": {
      "text/plain": [
       "9926"
      ]
     },
     "execution_count": 174,
     "metadata": {},
     "output_type": "execute_result"
    }
   ],
   "source": [
    "sum(df_3['port_name'].duplicated())"
   ]
  },
  {
   "cell_type": "code",
   "execution_count": 176,
   "metadata": {},
   "outputs": [
    {
     "data": {
      "text/plain": [
       "42"
      ]
     },
     "execution_count": 176,
     "metadata": {},
     "output_type": "execute_result"
    }
   ],
   "source": [
    "sum(df_3.duplicated())"
   ]
  },
  {
   "cell_type": "code",
   "execution_count": 169,
   "metadata": {},
   "outputs": [
    {
     "data": {
      "text/html": [
       "<div>\n",
       "<style scoped>\n",
       "    .dataframe tbody tr th:only-of-type {\n",
       "        vertical-align: middle;\n",
       "    }\n",
       "\n",
       "    .dataframe tbody tr th {\n",
       "        vertical-align: top;\n",
       "    }\n",
       "\n",
       "    .dataframe thead th {\n",
       "        text-align: right;\n",
       "    }\n",
       "</style>\n",
       "<table border=\"1\" class=\"dataframe\">\n",
       "  <thead>\n",
       "    <tr style=\"text-align: right;\">\n",
       "      <th></th>\n",
       "      <th>port_code</th>\n",
       "      <th>port_name</th>\n",
       "    </tr>\n",
       "  </thead>\n",
       "  <tbody>\n",
       "    <tr>\n",
       "      <td>655</td>\n",
       "      <td>ATBKD</td>\n",
       "      <td>Birkfeld</td>\n",
       "    </tr>\n",
       "    <tr>\n",
       "      <td>1077</td>\n",
       "      <td>ATMML</td>\n",
       "      <td>Mitterdorf im Murztal</td>\n",
       "    </tr>\n",
       "    <tr>\n",
       "      <td>1078</td>\n",
       "      <td>ATMML</td>\n",
       "      <td>Mitterdorf im Murztal</td>\n",
       "    </tr>\n",
       "    <tr>\n",
       "      <td>1079</td>\n",
       "      <td>ATMML</td>\n",
       "      <td>Mitterdorf im Murztal</td>\n",
       "    </tr>\n",
       "    <tr>\n",
       "      <td>1765</td>\n",
       "      <td>AUBWD</td>\n",
       "      <td>Burswood</td>\n",
       "    </tr>\n",
       "    <tr>\n",
       "      <td>2006</td>\n",
       "      <td>AUECK</td>\n",
       "      <td>Eastern Creek</td>\n",
       "    </tr>\n",
       "    <tr>\n",
       "      <td>2976</td>\n",
       "      <td>AUWGO</td>\n",
       "      <td>Wattle Grove</td>\n",
       "    </tr>\n",
       "    <tr>\n",
       "      <td>8827</td>\n",
       "      <td>CALWF</td>\n",
       "      <td>Lowe Farm</td>\n",
       "    </tr>\n",
       "    <tr>\n",
       "      <td>9530</td>\n",
       "      <td>CASCG</td>\n",
       "      <td>Spences Bridge</td>\n",
       "    </tr>\n",
       "    <tr>\n",
       "      <td>9531</td>\n",
       "      <td>CASCG</td>\n",
       "      <td>Spences Bridge</td>\n",
       "    </tr>\n",
       "  </tbody>\n",
       "</table>\n",
       "</div>"
      ],
      "text/plain": [
       "     port_code              port_name\n",
       "655      ATBKD               Birkfeld\n",
       "1077     ATMML  Mitterdorf im Murztal\n",
       "1078     ATMML  Mitterdorf im Murztal\n",
       "1079     ATMML  Mitterdorf im Murztal\n",
       "1765     AUBWD               Burswood\n",
       "2006     AUECK          Eastern Creek\n",
       "2976     AUWGO           Wattle Grove\n",
       "8827     CALWF              Lowe Farm\n",
       "9530     CASCG         Spences Bridge\n",
       "9531     CASCG         Spences Bridge"
      ]
     },
     "execution_count": 169,
     "metadata": {},
     "output_type": "execute_result"
    }
   ],
   "source": [
    "df_3[df_3.duplicated()][:10]"
   ]
  },
  {
   "cell_type": "code",
   "execution_count": 175,
   "metadata": {},
   "outputs": [
    {
     "data": {
      "text/html": [
       "<div>\n",
       "<style scoped>\n",
       "    .dataframe tbody tr th:only-of-type {\n",
       "        vertical-align: middle;\n",
       "    }\n",
       "\n",
       "    .dataframe tbody tr th {\n",
       "        vertical-align: top;\n",
       "    }\n",
       "\n",
       "    .dataframe thead th {\n",
       "        text-align: right;\n",
       "    }\n",
       "</style>\n",
       "<table border=\"1\" class=\"dataframe\">\n",
       "  <thead>\n",
       "    <tr style=\"text-align: right;\">\n",
       "      <th></th>\n",
       "      <th>port_code</th>\n",
       "      <th>port_name</th>\n",
       "    </tr>\n",
       "  </thead>\n",
       "  <tbody>\n",
       "    <tr>\n",
       "      <td>count</td>\n",
       "      <td>88022</td>\n",
       "      <td>88022</td>\n",
       "    </tr>\n",
       "    <tr>\n",
       "      <td>unique</td>\n",
       "      <td>87429</td>\n",
       "      <td>78096</td>\n",
       "    </tr>\n",
       "    <tr>\n",
       "      <td>top</td>\n",
       "      <td>NOFAA</td>\n",
       "      <td>Newport</td>\n",
       "    </tr>\n",
       "    <tr>\n",
       "      <td>freq</td>\n",
       "      <td>4</td>\n",
       "      <td>28</td>\n",
       "    </tr>\n",
       "  </tbody>\n",
       "</table>\n",
       "</div>"
      ],
      "text/plain": [
       "       port_code port_name\n",
       "count      88022     88022\n",
       "unique     87429     78096\n",
       "top        NOFAA   Newport\n",
       "freq           4        28"
      ]
     },
     "execution_count": 175,
     "metadata": {},
     "output_type": "execute_result"
    }
   ],
   "source": [
    "df_3.describe()"
   ]
  },
  {
   "cell_type": "code",
   "execution_count": 152,
   "metadata": {},
   "outputs": [
    {
     "name": "stdout",
     "output_type": "stream",
     "text": [
      "<class 'pandas.core.frame.DataFrame'>\n",
      "Int64Index: 88022 entries, 1 to 88088\n",
      "Data columns (total 2 columns):\n",
      "port_code    88022 non-null object\n",
      "port_name    88022 non-null object\n",
      "dtypes: object(2)\n",
      "memory usage: 2.0+ MB\n"
     ]
    }
   ],
   "source": [
    "df_3.info()"
   ]
  },
  {
   "cell_type": "markdown",
   "metadata": {},
   "source": [
    "----"
   ]
  },
  {
   "cell_type": "code",
   "execution_count": 227,
   "metadata": {},
   "outputs": [],
   "source": [
    "df_1 = pd.read_csv('./data/port_code.csv')"
   ]
  },
  {
   "cell_type": "code",
   "execution_count": 228,
   "metadata": {},
   "outputs": [
    {
     "data": {
      "text/html": [
       "<div>\n",
       "<style scoped>\n",
       "    .dataframe tbody tr th:only-of-type {\n",
       "        vertical-align: middle;\n",
       "    }\n",
       "\n",
       "    .dataframe tbody tr th {\n",
       "        vertical-align: top;\n",
       "    }\n",
       "\n",
       "    .dataframe thead th {\n",
       "        text-align: right;\n",
       "    }\n",
       "</style>\n",
       "<table border=\"1\" class=\"dataframe\">\n",
       "  <thead>\n",
       "    <tr style=\"text-align: right;\">\n",
       "      <th></th>\n",
       "      <th>port_code</th>\n",
       "      <th>port_name</th>\n",
       "      <th>country_code</th>\n",
       "    </tr>\n",
       "  </thead>\n",
       "  <tbody>\n",
       "    <tr>\n",
       "      <td>0</td>\n",
       "      <td>CNSZX</td>\n",
       "      <td>Shenzhen</td>\n",
       "      <td>CN</td>\n",
       "    </tr>\n",
       "    <tr>\n",
       "      <td>1</td>\n",
       "      <td>VNSGN</td>\n",
       "      <td>Ho Chi Min City (formerly Saigon)</td>\n",
       "      <td>VN</td>\n",
       "    </tr>\n",
       "    <tr>\n",
       "      <td>2</td>\n",
       "      <td>DKAAB</td>\n",
       "      <td>Aabenraa</td>\n",
       "      <td>DK</td>\n",
       "    </tr>\n",
       "    <tr>\n",
       "      <td>3</td>\n",
       "      <td>SGSIN</td>\n",
       "      <td>Singapore</td>\n",
       "      <td>SG</td>\n",
       "    </tr>\n",
       "    <tr>\n",
       "      <td>4</td>\n",
       "      <td>INNSA</td>\n",
       "      <td>NHAVA SHEVA</td>\n",
       "      <td>IN</td>\n",
       "    </tr>\n",
       "  </tbody>\n",
       "</table>\n",
       "</div>"
      ],
      "text/plain": [
       "  port_code                          port_name country_code\n",
       "0     CNSZX                           Shenzhen           CN\n",
       "1     VNSGN  Ho Chi Min City (formerly Saigon)           VN\n",
       "2     DKAAB                           Aabenraa           DK\n",
       "3     SGSIN                          Singapore           SG\n",
       "4     INNSA                        NHAVA SHEVA           IN"
      ]
     },
     "execution_count": 228,
     "metadata": {},
     "output_type": "execute_result"
    }
   ],
   "source": [
    "df_1.head()"
   ]
  },
  {
   "cell_type": "code",
   "execution_count": 229,
   "metadata": {},
   "outputs": [],
   "source": [
    "df_1 = df_1.iloc[:,:-1]"
   ]
  },
  {
   "cell_type": "code",
   "execution_count": 230,
   "metadata": {},
   "outputs": [
    {
     "data": {
      "text/html": [
       "<div>\n",
       "<style scoped>\n",
       "    .dataframe tbody tr th:only-of-type {\n",
       "        vertical-align: middle;\n",
       "    }\n",
       "\n",
       "    .dataframe tbody tr th {\n",
       "        vertical-align: top;\n",
       "    }\n",
       "\n",
       "    .dataframe thead th {\n",
       "        text-align: right;\n",
       "    }\n",
       "</style>\n",
       "<table border=\"1\" class=\"dataframe\">\n",
       "  <thead>\n",
       "    <tr style=\"text-align: right;\">\n",
       "      <th></th>\n",
       "      <th>port_code</th>\n",
       "      <th>port_name</th>\n",
       "    </tr>\n",
       "  </thead>\n",
       "  <tbody>\n",
       "    <tr>\n",
       "      <td>0</td>\n",
       "      <td>CNSZX</td>\n",
       "      <td>Shenzhen</td>\n",
       "    </tr>\n",
       "    <tr>\n",
       "      <td>1</td>\n",
       "      <td>VNSGN</td>\n",
       "      <td>Ho Chi Min City (formerly Saigon)</td>\n",
       "    </tr>\n",
       "    <tr>\n",
       "      <td>2</td>\n",
       "      <td>DKAAB</td>\n",
       "      <td>Aabenraa</td>\n",
       "    </tr>\n",
       "    <tr>\n",
       "      <td>3</td>\n",
       "      <td>SGSIN</td>\n",
       "      <td>Singapore</td>\n",
       "    </tr>\n",
       "    <tr>\n",
       "      <td>4</td>\n",
       "      <td>INNSA</td>\n",
       "      <td>NHAVA SHEVA</td>\n",
       "    </tr>\n",
       "  </tbody>\n",
       "</table>\n",
       "</div>"
      ],
      "text/plain": [
       "  port_code                          port_name\n",
       "0     CNSZX                           Shenzhen\n",
       "1     VNSGN  Ho Chi Min City (formerly Saigon)\n",
       "2     DKAAB                           Aabenraa\n",
       "3     SGSIN                          Singapore\n",
       "4     INNSA                        NHAVA SHEVA"
      ]
     },
     "execution_count": 230,
     "metadata": {},
     "output_type": "execute_result"
    }
   ],
   "source": [
    "df_1.head()"
   ]
  },
  {
   "cell_type": "code",
   "execution_count": 231,
   "metadata": {},
   "outputs": [
    {
     "name": "stdout",
     "output_type": "stream",
     "text": [
      "<class 'pandas.core.frame.DataFrame'>\n",
      "RangeIndex: 2493 entries, 0 to 2492\n",
      "Data columns (total 2 columns):\n",
      "port_code    2493 non-null object\n",
      "port_name    2493 non-null object\n",
      "dtypes: object(2)\n",
      "memory usage: 39.1+ KB\n"
     ]
    }
   ],
   "source": [
    "df_1.info()"
   ]
  },
  {
   "cell_type": "code",
   "execution_count": 232,
   "metadata": {},
   "outputs": [
    {
     "data": {
      "text/html": [
       "<div>\n",
       "<style scoped>\n",
       "    .dataframe tbody tr th:only-of-type {\n",
       "        vertical-align: middle;\n",
       "    }\n",
       "\n",
       "    .dataframe tbody tr th {\n",
       "        vertical-align: top;\n",
       "    }\n",
       "\n",
       "    .dataframe thead th {\n",
       "        text-align: right;\n",
       "    }\n",
       "</style>\n",
       "<table border=\"1\" class=\"dataframe\">\n",
       "  <thead>\n",
       "    <tr style=\"text-align: right;\">\n",
       "      <th></th>\n",
       "      <th>port_code</th>\n",
       "      <th>port_name</th>\n",
       "    </tr>\n",
       "  </thead>\n",
       "  <tbody>\n",
       "    <tr>\n",
       "      <td>count</td>\n",
       "      <td>2493</td>\n",
       "      <td>2493</td>\n",
       "    </tr>\n",
       "    <tr>\n",
       "      <td>unique</td>\n",
       "      <td>2493</td>\n",
       "      <td>2492</td>\n",
       "    </tr>\n",
       "    <tr>\n",
       "      <td>top</td>\n",
       "      <td>KRBUK</td>\n",
       "      <td>Ningbo</td>\n",
       "    </tr>\n",
       "    <tr>\n",
       "      <td>freq</td>\n",
       "      <td>1</td>\n",
       "      <td>2</td>\n",
       "    </tr>\n",
       "  </tbody>\n",
       "</table>\n",
       "</div>"
      ],
      "text/plain": [
       "       port_code port_name\n",
       "count       2493      2493\n",
       "unique      2493      2492\n",
       "top        KRBUK    Ningbo\n",
       "freq           1         2"
      ]
     },
     "execution_count": 232,
     "metadata": {},
     "output_type": "execute_result"
    }
   ],
   "source": [
    "df_1.describe()"
   ]
  },
  {
   "cell_type": "code",
   "execution_count": 233,
   "metadata": {},
   "outputs": [
    {
     "data": {
      "text/html": [
       "<div>\n",
       "<style scoped>\n",
       "    .dataframe tbody tr th:only-of-type {\n",
       "        vertical-align: middle;\n",
       "    }\n",
       "\n",
       "    .dataframe tbody tr th {\n",
       "        vertical-align: top;\n",
       "    }\n",
       "\n",
       "    .dataframe thead th {\n",
       "        text-align: right;\n",
       "    }\n",
       "</style>\n",
       "<table border=\"1\" class=\"dataframe\">\n",
       "  <thead>\n",
       "    <tr style=\"text-align: right;\">\n",
       "      <th></th>\n",
       "      <th>port_code</th>\n",
       "      <th>port_name</th>\n",
       "    </tr>\n",
       "  </thead>\n",
       "  <tbody>\n",
       "  </tbody>\n",
       "</table>\n",
       "</div>"
      ],
      "text/plain": [
       "Empty DataFrame\n",
       "Columns: [port_code, port_name]\n",
       "Index: []"
      ]
     },
     "execution_count": 233,
     "metadata": {},
     "output_type": "execute_result"
    }
   ],
   "source": [
    "df_1[df_1['port_code'].duplicated()]"
   ]
  },
  {
   "cell_type": "code",
   "execution_count": 234,
   "metadata": {},
   "outputs": [
    {
     "data": {
      "text/html": [
       "<div>\n",
       "<style scoped>\n",
       "    .dataframe tbody tr th:only-of-type {\n",
       "        vertical-align: middle;\n",
       "    }\n",
       "\n",
       "    .dataframe tbody tr th {\n",
       "        vertical-align: top;\n",
       "    }\n",
       "\n",
       "    .dataframe thead th {\n",
       "        text-align: right;\n",
       "    }\n",
       "</style>\n",
       "<table border=\"1\" class=\"dataframe\">\n",
       "  <thead>\n",
       "    <tr style=\"text-align: right;\">\n",
       "      <th></th>\n",
       "      <th>port_code</th>\n",
       "      <th>port_name</th>\n",
       "    </tr>\n",
       "  </thead>\n",
       "  <tbody>\n",
       "    <tr>\n",
       "      <td>4</td>\n",
       "      <td>INNSA</td>\n",
       "      <td>NHAVA SHEVA</td>\n",
       "    </tr>\n",
       "  </tbody>\n",
       "</table>\n",
       "</div>"
      ],
      "text/plain": [
       "  port_code    port_name\n",
       "4     INNSA  NHAVA SHEVA"
      ]
     },
     "execution_count": 234,
     "metadata": {},
     "output_type": "execute_result"
    }
   ],
   "source": [
    "df_1[df_1['port_code'] == 'INNSA']"
   ]
  },
  {
   "cell_type": "code",
   "execution_count": 235,
   "metadata": {},
   "outputs": [
    {
     "data": {
      "text/html": [
       "<div>\n",
       "<style scoped>\n",
       "    .dataframe tbody tr th:only-of-type {\n",
       "        vertical-align: middle;\n",
       "    }\n",
       "\n",
       "    .dataframe tbody tr th {\n",
       "        vertical-align: top;\n",
       "    }\n",
       "\n",
       "    .dataframe thead th {\n",
       "        text-align: right;\n",
       "    }\n",
       "</style>\n",
       "<table border=\"1\" class=\"dataframe\">\n",
       "  <thead>\n",
       "    <tr style=\"text-align: right;\">\n",
       "      <th></th>\n",
       "      <th>port_code</th>\n",
       "      <th>port_name</th>\n",
       "    </tr>\n",
       "  </thead>\n",
       "  <tbody>\n",
       "    <tr>\n",
       "      <td>2479</td>\n",
       "      <td>CNNGB</td>\n",
       "      <td>Ningbo</td>\n",
       "    </tr>\n",
       "  </tbody>\n",
       "</table>\n",
       "</div>"
      ],
      "text/plain": [
       "     port_code port_name\n",
       "2479     CNNGB    Ningbo"
      ]
     },
     "execution_count": 235,
     "metadata": {},
     "output_type": "execute_result"
    }
   ],
   "source": [
    "df_1[df_1['port_name'].duplicated()]"
   ]
  },
  {
   "cell_type": "code",
   "execution_count": 236,
   "metadata": {},
   "outputs": [
    {
     "data": {
      "text/html": [
       "<div>\n",
       "<style scoped>\n",
       "    .dataframe tbody tr th:only-of-type {\n",
       "        vertical-align: middle;\n",
       "    }\n",
       "\n",
       "    .dataframe tbody tr th {\n",
       "        vertical-align: top;\n",
       "    }\n",
       "\n",
       "    .dataframe thead th {\n",
       "        text-align: right;\n",
       "    }\n",
       "</style>\n",
       "<table border=\"1\" class=\"dataframe\">\n",
       "  <thead>\n",
       "    <tr style=\"text-align: right;\">\n",
       "      <th></th>\n",
       "      <th>port_code</th>\n",
       "      <th>port_name</th>\n",
       "    </tr>\n",
       "  </thead>\n",
       "  <tbody>\n",
       "    <tr>\n",
       "      <td>2478</td>\n",
       "      <td>CNNBO</td>\n",
       "      <td>Ningbo</td>\n",
       "    </tr>\n",
       "    <tr>\n",
       "      <td>2479</td>\n",
       "      <td>CNNGB</td>\n",
       "      <td>Ningbo</td>\n",
       "    </tr>\n",
       "  </tbody>\n",
       "</table>\n",
       "</div>"
      ],
      "text/plain": [
       "     port_code port_name\n",
       "2478     CNNBO    Ningbo\n",
       "2479     CNNGB    Ningbo"
      ]
     },
     "execution_count": 236,
     "metadata": {},
     "output_type": "execute_result"
    }
   ],
   "source": [
    "df_1[df_1['port_name'] == 'Ningbo']"
   ]
  },
  {
   "cell_type": "code",
   "execution_count": 237,
   "metadata": {},
   "outputs": [],
   "source": [
    "df_1['source'] = 0"
   ]
  },
  {
   "cell_type": "code",
   "execution_count": 238,
   "metadata": {},
   "outputs": [
    {
     "data": {
      "text/html": [
       "<div>\n",
       "<style scoped>\n",
       "    .dataframe tbody tr th:only-of-type {\n",
       "        vertical-align: middle;\n",
       "    }\n",
       "\n",
       "    .dataframe tbody tr th {\n",
       "        vertical-align: top;\n",
       "    }\n",
       "\n",
       "    .dataframe thead th {\n",
       "        text-align: right;\n",
       "    }\n",
       "</style>\n",
       "<table border=\"1\" class=\"dataframe\">\n",
       "  <thead>\n",
       "    <tr style=\"text-align: right;\">\n",
       "      <th></th>\n",
       "      <th>port_code</th>\n",
       "      <th>port_name</th>\n",
       "      <th>source</th>\n",
       "    </tr>\n",
       "  </thead>\n",
       "  <tbody>\n",
       "    <tr>\n",
       "      <td>0</td>\n",
       "      <td>CNSZX</td>\n",
       "      <td>Shenzhen</td>\n",
       "      <td>0</td>\n",
       "    </tr>\n",
       "    <tr>\n",
       "      <td>1</td>\n",
       "      <td>VNSGN</td>\n",
       "      <td>Ho Chi Min City (formerly Saigon)</td>\n",
       "      <td>0</td>\n",
       "    </tr>\n",
       "    <tr>\n",
       "      <td>2</td>\n",
       "      <td>DKAAB</td>\n",
       "      <td>Aabenraa</td>\n",
       "      <td>0</td>\n",
       "    </tr>\n",
       "    <tr>\n",
       "      <td>3</td>\n",
       "      <td>SGSIN</td>\n",
       "      <td>Singapore</td>\n",
       "      <td>0</td>\n",
       "    </tr>\n",
       "    <tr>\n",
       "      <td>4</td>\n",
       "      <td>INNSA</td>\n",
       "      <td>NHAVA SHEVA</td>\n",
       "      <td>0</td>\n",
       "    </tr>\n",
       "  </tbody>\n",
       "</table>\n",
       "</div>"
      ],
      "text/plain": [
       "  port_code                          port_name  source\n",
       "0     CNSZX                           Shenzhen       0\n",
       "1     VNSGN  Ho Chi Min City (formerly Saigon)       0\n",
       "2     DKAAB                           Aabenraa       0\n",
       "3     SGSIN                          Singapore       0\n",
       "4     INNSA                        NHAVA SHEVA       0"
      ]
     },
     "execution_count": 238,
     "metadata": {},
     "output_type": "execute_result"
    }
   ],
   "source": [
    "df_1.head()"
   ]
  },
  {
   "cell_type": "code",
   "execution_count": 239,
   "metadata": {},
   "outputs": [
    {
     "name": "stdout",
     "output_type": "stream",
     "text": [
      "<class 'pandas.core.frame.DataFrame'>\n",
      "RangeIndex: 2493 entries, 0 to 2492\n",
      "Data columns (total 3 columns):\n",
      "port_code    2493 non-null object\n",
      "port_name    2493 non-null object\n",
      "source       2493 non-null int64\n",
      "dtypes: int64(1), object(2)\n",
      "memory usage: 58.6+ KB\n"
     ]
    }
   ],
   "source": [
    "df_1.info()"
   ]
  },
  {
   "cell_type": "markdown",
   "metadata": {},
   "source": [
    "----"
   ]
  },
  {
   "cell_type": "code",
   "execution_count": 240,
   "metadata": {},
   "outputs": [],
   "source": [
    "df_2 = pd.read_excel('./data/world_ports.xls')"
   ]
  },
  {
   "cell_type": "code",
   "execution_count": 241,
   "metadata": {},
   "outputs": [
    {
     "data": {
      "text/html": [
       "<div>\n",
       "<style scoped>\n",
       "    .dataframe tbody tr th:only-of-type {\n",
       "        vertical-align: middle;\n",
       "    }\n",
       "\n",
       "    .dataframe tbody tr th {\n",
       "        vertical-align: top;\n",
       "    }\n",
       "\n",
       "    .dataframe thead th {\n",
       "        text-align: right;\n",
       "    }\n",
       "</style>\n",
       "<table border=\"1\" class=\"dataframe\">\n",
       "  <thead>\n",
       "    <tr style=\"text-align: right;\">\n",
       "      <th></th>\n",
       "      <th>S/N</th>\n",
       "      <th>Country Code</th>\n",
       "      <th>Country Description</th>\n",
       "      <th>Port Code</th>\n",
       "      <th>Port Description</th>\n",
       "    </tr>\n",
       "  </thead>\n",
       "  <tbody>\n",
       "    <tr>\n",
       "      <td>0</td>\n",
       "      <td>1</td>\n",
       "      <td>AD</td>\n",
       "      <td>ANDORRA</td>\n",
       "      <td>ADZZZ</td>\n",
       "      <td>O P ANDORRA</td>\n",
       "    </tr>\n",
       "    <tr>\n",
       "      <td>1</td>\n",
       "      <td>2</td>\n",
       "      <td>AE</td>\n",
       "      <td>UNITED ARAB EMIRATES</td>\n",
       "      <td>AEAJM</td>\n",
       "      <td>AJMAN</td>\n",
       "    </tr>\n",
       "    <tr>\n",
       "      <td>2</td>\n",
       "      <td>3</td>\n",
       "      <td>AE</td>\n",
       "      <td>UNITED ARAB EMIRATES</td>\n",
       "      <td>AEAUH</td>\n",
       "      <td>ABU DHABI</td>\n",
       "    </tr>\n",
       "    <tr>\n",
       "      <td>3</td>\n",
       "      <td>4</td>\n",
       "      <td>AE</td>\n",
       "      <td>UNITED ARAB EMIRATES</td>\n",
       "      <td>AEDAS</td>\n",
       "      <td>DAS ISLAND</td>\n",
       "    </tr>\n",
       "    <tr>\n",
       "      <td>4</td>\n",
       "      <td>5</td>\n",
       "      <td>AE</td>\n",
       "      <td>UNITED ARAB EMIRATES</td>\n",
       "      <td>AEDXB</td>\n",
       "      <td>DUBAI</td>\n",
       "    </tr>\n",
       "  </tbody>\n",
       "</table>\n",
       "</div>"
      ],
      "text/plain": [
       "   S/N Country Code   Country Description Port Code Port Description\n",
       "0    1           AD               ANDORRA     ADZZZ      O P ANDORRA\n",
       "1    2           AE  UNITED ARAB EMIRATES     AEAJM            AJMAN\n",
       "2    3           AE  UNITED ARAB EMIRATES     AEAUH        ABU DHABI\n",
       "3    4           AE  UNITED ARAB EMIRATES     AEDAS       DAS ISLAND\n",
       "4    5           AE  UNITED ARAB EMIRATES     AEDXB            DUBAI"
      ]
     },
     "execution_count": 241,
     "metadata": {},
     "output_type": "execute_result"
    }
   ],
   "source": [
    "df_2.head()"
   ]
  },
  {
   "cell_type": "code",
   "execution_count": 242,
   "metadata": {},
   "outputs": [],
   "source": [
    "col = ['port_code', 'port_name']"
   ]
  },
  {
   "cell_type": "code",
   "execution_count": 243,
   "metadata": {},
   "outputs": [],
   "source": [
    "df_2 = df_2.iloc[:, 3:]"
   ]
  },
  {
   "cell_type": "code",
   "execution_count": 245,
   "metadata": {},
   "outputs": [],
   "source": [
    "df_2.columns = col"
   ]
  },
  {
   "cell_type": "code",
   "execution_count": 246,
   "metadata": {},
   "outputs": [
    {
     "data": {
      "text/html": [
       "<div>\n",
       "<style scoped>\n",
       "    .dataframe tbody tr th:only-of-type {\n",
       "        vertical-align: middle;\n",
       "    }\n",
       "\n",
       "    .dataframe tbody tr th {\n",
       "        vertical-align: top;\n",
       "    }\n",
       "\n",
       "    .dataframe thead th {\n",
       "        text-align: right;\n",
       "    }\n",
       "</style>\n",
       "<table border=\"1\" class=\"dataframe\">\n",
       "  <thead>\n",
       "    <tr style=\"text-align: right;\">\n",
       "      <th></th>\n",
       "      <th>port_code</th>\n",
       "      <th>port_name</th>\n",
       "    </tr>\n",
       "  </thead>\n",
       "  <tbody>\n",
       "    <tr>\n",
       "      <td>0</td>\n",
       "      <td>ADZZZ</td>\n",
       "      <td>O P ANDORRA</td>\n",
       "    </tr>\n",
       "    <tr>\n",
       "      <td>1</td>\n",
       "      <td>AEAJM</td>\n",
       "      <td>AJMAN</td>\n",
       "    </tr>\n",
       "    <tr>\n",
       "      <td>2</td>\n",
       "      <td>AEAUH</td>\n",
       "      <td>ABU DHABI</td>\n",
       "    </tr>\n",
       "    <tr>\n",
       "      <td>3</td>\n",
       "      <td>AEDAS</td>\n",
       "      <td>DAS ISLAND</td>\n",
       "    </tr>\n",
       "    <tr>\n",
       "      <td>4</td>\n",
       "      <td>AEDXB</td>\n",
       "      <td>DUBAI</td>\n",
       "    </tr>\n",
       "  </tbody>\n",
       "</table>\n",
       "</div>"
      ],
      "text/plain": [
       "  port_code    port_name\n",
       "0     ADZZZ  O P ANDORRA\n",
       "1     AEAJM        AJMAN\n",
       "2     AEAUH    ABU DHABI\n",
       "3     AEDAS   DAS ISLAND\n",
       "4     AEDXB        DUBAI"
      ]
     },
     "execution_count": 246,
     "metadata": {},
     "output_type": "execute_result"
    }
   ],
   "source": [
    "df_2.head()"
   ]
  },
  {
   "cell_type": "code",
   "execution_count": 247,
   "metadata": {},
   "outputs": [
    {
     "name": "stdout",
     "output_type": "stream",
     "text": [
      "<class 'pandas.core.frame.DataFrame'>\n",
      "RangeIndex: 7547 entries, 0 to 7546\n",
      "Data columns (total 2 columns):\n",
      "port_code    7547 non-null object\n",
      "port_name    7547 non-null object\n",
      "dtypes: object(2)\n",
      "memory usage: 118.0+ KB\n"
     ]
    }
   ],
   "source": [
    "df_2.info()"
   ]
  },
  {
   "cell_type": "code",
   "execution_count": 248,
   "metadata": {},
   "outputs": [
    {
     "data": {
      "text/html": [
       "<div>\n",
       "<style scoped>\n",
       "    .dataframe tbody tr th:only-of-type {\n",
       "        vertical-align: middle;\n",
       "    }\n",
       "\n",
       "    .dataframe tbody tr th {\n",
       "        vertical-align: top;\n",
       "    }\n",
       "\n",
       "    .dataframe thead th {\n",
       "        text-align: right;\n",
       "    }\n",
       "</style>\n",
       "<table border=\"1\" class=\"dataframe\">\n",
       "  <thead>\n",
       "    <tr style=\"text-align: right;\">\n",
       "      <th></th>\n",
       "      <th>port_code</th>\n",
       "      <th>port_name</th>\n",
       "    </tr>\n",
       "  </thead>\n",
       "  <tbody>\n",
       "    <tr>\n",
       "      <td>count</td>\n",
       "      <td>7547</td>\n",
       "      <td>7547</td>\n",
       "    </tr>\n",
       "    <tr>\n",
       "      <td>unique</td>\n",
       "      <td>7547</td>\n",
       "      <td>7466</td>\n",
       "    </tr>\n",
       "    <tr>\n",
       "      <td>top</td>\n",
       "      <td>FIVLA</td>\n",
       "      <td>OTHER</td>\n",
       "    </tr>\n",
       "    <tr>\n",
       "      <td>freq</td>\n",
       "      <td>1</td>\n",
       "      <td>6</td>\n",
       "    </tr>\n",
       "  </tbody>\n",
       "</table>\n",
       "</div>"
      ],
      "text/plain": [
       "       port_code port_name\n",
       "count       7547      7547\n",
       "unique      7547      7466\n",
       "top        FIVLA     OTHER\n",
       "freq           1         6"
      ]
     },
     "execution_count": 248,
     "metadata": {},
     "output_type": "execute_result"
    }
   ],
   "source": [
    "df_2.describe()"
   ]
  },
  {
   "cell_type": "code",
   "execution_count": 250,
   "metadata": {},
   "outputs": [
    {
     "data": {
      "text/plain": [
       "81"
      ]
     },
     "execution_count": 250,
     "metadata": {},
     "output_type": "execute_result"
    }
   ],
   "source": [
    "sum(df_2['port_name'].duplicated())"
   ]
  },
  {
   "cell_type": "code",
   "execution_count": 249,
   "metadata": {},
   "outputs": [
    {
     "data": {
      "text/html": [
       "<div>\n",
       "<style scoped>\n",
       "    .dataframe tbody tr th:only-of-type {\n",
       "        vertical-align: middle;\n",
       "    }\n",
       "\n",
       "    .dataframe tbody tr th {\n",
       "        vertical-align: top;\n",
       "    }\n",
       "\n",
       "    .dataframe thead th {\n",
       "        text-align: right;\n",
       "    }\n",
       "</style>\n",
       "<table border=\"1\" class=\"dataframe\">\n",
       "  <thead>\n",
       "    <tr style=\"text-align: right;\">\n",
       "      <th></th>\n",
       "      <th>port_code</th>\n",
       "      <th>port_name</th>\n",
       "    </tr>\n",
       "  </thead>\n",
       "  <tbody>\n",
       "    <tr>\n",
       "      <td>568</td>\n",
       "      <td>BOSRZ</td>\n",
       "      <td>SANTA CRUZ</td>\n",
       "    </tr>\n",
       "    <tr>\n",
       "      <td>815</td>\n",
       "      <td>BZSPR</td>\n",
       "      <td>SAN PEDRO</td>\n",
       "    </tr>\n",
       "    <tr>\n",
       "      <td>954</td>\n",
       "      <td>CASYD</td>\n",
       "      <td>SYDNEY</td>\n",
       "    </tr>\n",
       "    <tr>\n",
       "      <td>1117</td>\n",
       "      <td>CISPY</td>\n",
       "      <td>SAN PEDRO</td>\n",
       "    </tr>\n",
       "    <tr>\n",
       "      <td>1195</td>\n",
       "      <td>CMVCC</td>\n",
       "      <td>VICTORIA</td>\n",
       "    </tr>\n",
       "    <tr>\n",
       "      <td>...</td>\n",
       "      <td>...</td>\n",
       "      <td>...</td>\n",
       "    </tr>\n",
       "    <tr>\n",
       "      <td>7346</td>\n",
       "      <td>VEMTV</td>\n",
       "      <td>MATANZAS</td>\n",
       "    </tr>\n",
       "    <tr>\n",
       "      <td>7359</td>\n",
       "      <td>VESFD</td>\n",
       "      <td>SAN FERNANDO</td>\n",
       "    </tr>\n",
       "    <tr>\n",
       "      <td>7365</td>\n",
       "      <td>VESTD</td>\n",
       "      <td>SANTO DOMINGO</td>\n",
       "    </tr>\n",
       "    <tr>\n",
       "      <td>7366</td>\n",
       "      <td>VESVZ</td>\n",
       "      <td>SAN ANTONIO</td>\n",
       "    </tr>\n",
       "    <tr>\n",
       "      <td>7493</td>\n",
       "      <td>ZAMES</td>\n",
       "      <td>MESSINA</td>\n",
       "    </tr>\n",
       "  </tbody>\n",
       "</table>\n",
       "<p>81 rows × 2 columns</p>\n",
       "</div>"
      ],
      "text/plain": [
       "     port_code      port_name\n",
       "568      BOSRZ     SANTA CRUZ\n",
       "815      BZSPR      SAN PEDRO\n",
       "954      CASYD         SYDNEY\n",
       "1117     CISPY      SAN PEDRO\n",
       "1195     CMVCC       VICTORIA\n",
       "...        ...            ...\n",
       "7346     VEMTV       MATANZAS\n",
       "7359     VESFD   SAN FERNANDO\n",
       "7365     VESTD  SANTO DOMINGO\n",
       "7366     VESVZ    SAN ANTONIO\n",
       "7493     ZAMES        MESSINA\n",
       "\n",
       "[81 rows x 2 columns]"
      ]
     },
     "execution_count": 249,
     "metadata": {},
     "output_type": "execute_result"
    }
   ],
   "source": [
    "df_2[df_2['port_name'].duplicated()]"
   ]
  },
  {
   "cell_type": "code",
   "execution_count": 252,
   "metadata": {},
   "outputs": [
    {
     "data": {
      "text/html": [
       "<div>\n",
       "<style scoped>\n",
       "    .dataframe tbody tr th:only-of-type {\n",
       "        vertical-align: middle;\n",
       "    }\n",
       "\n",
       "    .dataframe tbody tr th {\n",
       "        vertical-align: top;\n",
       "    }\n",
       "\n",
       "    .dataframe thead th {\n",
       "        text-align: right;\n",
       "    }\n",
       "</style>\n",
       "<table border=\"1\" class=\"dataframe\">\n",
       "  <thead>\n",
       "    <tr style=\"text-align: right;\">\n",
       "      <th></th>\n",
       "      <th>port_code</th>\n",
       "      <th>port_name</th>\n",
       "    </tr>\n",
       "  </thead>\n",
       "  <tbody>\n",
       "    <tr>\n",
       "      <td>155</td>\n",
       "      <td>ARSPD</td>\n",
       "      <td>SAN PEDRO</td>\n",
       "    </tr>\n",
       "    <tr>\n",
       "      <td>815</td>\n",
       "      <td>BZSPR</td>\n",
       "      <td>SAN PEDRO</td>\n",
       "    </tr>\n",
       "    <tr>\n",
       "      <td>1117</td>\n",
       "      <td>CISPY</td>\n",
       "      <td>SAN PEDRO</td>\n",
       "    </tr>\n",
       "  </tbody>\n",
       "</table>\n",
       "</div>"
      ],
      "text/plain": [
       "     port_code  port_name\n",
       "155      ARSPD  SAN PEDRO\n",
       "815      BZSPR  SAN PEDRO\n",
       "1117     CISPY  SAN PEDRO"
      ]
     },
     "execution_count": 252,
     "metadata": {},
     "output_type": "execute_result"
    }
   ],
   "source": [
    "df_2[df_2['port_name'] == 'SAN PEDRO']"
   ]
  },
  {
   "cell_type": "code",
   "execution_count": 253,
   "metadata": {},
   "outputs": [],
   "source": [
    "df_2['source'] = 1"
   ]
  },
  {
   "cell_type": "code",
   "execution_count": 254,
   "metadata": {},
   "outputs": [
    {
     "data": {
      "text/html": [
       "<div>\n",
       "<style scoped>\n",
       "    .dataframe tbody tr th:only-of-type {\n",
       "        vertical-align: middle;\n",
       "    }\n",
       "\n",
       "    .dataframe tbody tr th {\n",
       "        vertical-align: top;\n",
       "    }\n",
       "\n",
       "    .dataframe thead th {\n",
       "        text-align: right;\n",
       "    }\n",
       "</style>\n",
       "<table border=\"1\" class=\"dataframe\">\n",
       "  <thead>\n",
       "    <tr style=\"text-align: right;\">\n",
       "      <th></th>\n",
       "      <th>port_code</th>\n",
       "      <th>port_name</th>\n",
       "      <th>source</th>\n",
       "    </tr>\n",
       "  </thead>\n",
       "  <tbody>\n",
       "    <tr>\n",
       "      <td>0</td>\n",
       "      <td>ADZZZ</td>\n",
       "      <td>O P ANDORRA</td>\n",
       "      <td>1</td>\n",
       "    </tr>\n",
       "    <tr>\n",
       "      <td>1</td>\n",
       "      <td>AEAJM</td>\n",
       "      <td>AJMAN</td>\n",
       "      <td>1</td>\n",
       "    </tr>\n",
       "    <tr>\n",
       "      <td>2</td>\n",
       "      <td>AEAUH</td>\n",
       "      <td>ABU DHABI</td>\n",
       "      <td>1</td>\n",
       "    </tr>\n",
       "    <tr>\n",
       "      <td>3</td>\n",
       "      <td>AEDAS</td>\n",
       "      <td>DAS ISLAND</td>\n",
       "      <td>1</td>\n",
       "    </tr>\n",
       "    <tr>\n",
       "      <td>4</td>\n",
       "      <td>AEDXB</td>\n",
       "      <td>DUBAI</td>\n",
       "      <td>1</td>\n",
       "    </tr>\n",
       "  </tbody>\n",
       "</table>\n",
       "</div>"
      ],
      "text/plain": [
       "  port_code    port_name  source\n",
       "0     ADZZZ  O P ANDORRA       1\n",
       "1     AEAJM        AJMAN       1\n",
       "2     AEAUH    ABU DHABI       1\n",
       "3     AEDAS   DAS ISLAND       1\n",
       "4     AEDXB        DUBAI       1"
      ]
     },
     "execution_count": 254,
     "metadata": {},
     "output_type": "execute_result"
    }
   ],
   "source": [
    "df_2.head()"
   ]
  },
  {
   "cell_type": "code",
   "execution_count": 255,
   "metadata": {},
   "outputs": [
    {
     "data": {
      "text/plain": [
       "7547"
      ]
     },
     "execution_count": 255,
     "metadata": {},
     "output_type": "execute_result"
    }
   ],
   "source": [
    "len(df_2)"
   ]
  },
  {
   "cell_type": "markdown",
   "metadata": {},
   "source": [
    "----"
   ]
  },
  {
   "cell_type": "code",
   "execution_count": 303,
   "metadata": {},
   "outputs": [],
   "source": [
    "df_total = pd.concat([df_1, df_2], axis=0)"
   ]
  },
  {
   "cell_type": "code",
   "execution_count": 304,
   "metadata": {},
   "outputs": [
    {
     "data": {
      "text/html": [
       "<div>\n",
       "<style scoped>\n",
       "    .dataframe tbody tr th:only-of-type {\n",
       "        vertical-align: middle;\n",
       "    }\n",
       "\n",
       "    .dataframe tbody tr th {\n",
       "        vertical-align: top;\n",
       "    }\n",
       "\n",
       "    .dataframe thead th {\n",
       "        text-align: right;\n",
       "    }\n",
       "</style>\n",
       "<table border=\"1\" class=\"dataframe\">\n",
       "  <thead>\n",
       "    <tr style=\"text-align: right;\">\n",
       "      <th></th>\n",
       "      <th>port_code</th>\n",
       "      <th>port_name</th>\n",
       "      <th>source</th>\n",
       "    </tr>\n",
       "  </thead>\n",
       "  <tbody>\n",
       "    <tr>\n",
       "      <td>4339</td>\n",
       "      <td>MKJNC</td>\n",
       "      <td>JACINCE</td>\n",
       "      <td>1</td>\n",
       "    </tr>\n",
       "    <tr>\n",
       "      <td>4319</td>\n",
       "      <td>MGWML</td>\n",
       "      <td>MALAIMBANDY</td>\n",
       "      <td>1</td>\n",
       "    </tr>\n",
       "    <tr>\n",
       "      <td>5054</td>\n",
       "      <td>NZNPE</td>\n",
       "      <td>NAPIER</td>\n",
       "      <td>1</td>\n",
       "    </tr>\n",
       "    <tr>\n",
       "      <td>6669</td>\n",
       "      <td>TRTUR</td>\n",
       "      <td>TURAN, IZMIR</td>\n",
       "      <td>1</td>\n",
       "    </tr>\n",
       "    <tr>\n",
       "      <td>7486</td>\n",
       "      <td>ZAHLA</td>\n",
       "      <td>KRUGERSDORT</td>\n",
       "      <td>1</td>\n",
       "    </tr>\n",
       "    <tr>\n",
       "      <td>1084</td>\n",
       "      <td>CGION</td>\n",
       "      <td>IMPFONDO</td>\n",
       "      <td>1</td>\n",
       "    </tr>\n",
       "    <tr>\n",
       "      <td>444</td>\n",
       "      <td>AUWOT</td>\n",
       "      <td>WONTHAGGI, VI</td>\n",
       "      <td>1</td>\n",
       "    </tr>\n",
       "    <tr>\n",
       "      <td>2684</td>\n",
       "      <td>GBRYE</td>\n",
       "      <td>RYE/FOLKESTONE</td>\n",
       "      <td>1</td>\n",
       "    </tr>\n",
       "    <tr>\n",
       "      <td>2454</td>\n",
       "      <td>GALBV</td>\n",
       "      <td>LIBREVILLE</td>\n",
       "      <td>1</td>\n",
       "    </tr>\n",
       "    <tr>\n",
       "      <td>4497</td>\n",
       "      <td>MXSMI</td>\n",
       "      <td>ISLA SAN MARCOS</td>\n",
       "      <td>1</td>\n",
       "    </tr>\n",
       "  </tbody>\n",
       "</table>\n",
       "</div>"
      ],
      "text/plain": [
       "     port_code        port_name  source\n",
       "4339     MKJNC          JACINCE       1\n",
       "4319     MGWML      MALAIMBANDY       1\n",
       "5054     NZNPE           NAPIER       1\n",
       "6669     TRTUR     TURAN, IZMIR       1\n",
       "7486     ZAHLA      KRUGERSDORT       1\n",
       "1084     CGION         IMPFONDO       1\n",
       "444      AUWOT    WONTHAGGI, VI       1\n",
       "2684     GBRYE   RYE/FOLKESTONE       1\n",
       "2454     GALBV       LIBREVILLE       1\n",
       "4497     MXSMI  ISLA SAN MARCOS       1"
      ]
     },
     "execution_count": 304,
     "metadata": {},
     "output_type": "execute_result"
    }
   ],
   "source": [
    "df_total.sample(10)"
   ]
  },
  {
   "cell_type": "code",
   "execution_count": 305,
   "metadata": {},
   "outputs": [
    {
     "name": "stdout",
     "output_type": "stream",
     "text": [
      "<class 'pandas.core.frame.DataFrame'>\n",
      "Int64Index: 10040 entries, 0 to 7546\n",
      "Data columns (total 3 columns):\n",
      "port_code    10040 non-null object\n",
      "port_name    10040 non-null object\n",
      "source       10040 non-null int64\n",
      "dtypes: int64(1), object(2)\n",
      "memory usage: 313.8+ KB\n"
     ]
    }
   ],
   "source": [
    "df_total.info()"
   ]
  },
  {
   "cell_type": "code",
   "execution_count": 306,
   "metadata": {},
   "outputs": [
    {
     "data": {
      "text/plain": [
       "1746"
      ]
     },
     "execution_count": 306,
     "metadata": {},
     "output_type": "execute_result"
    }
   ],
   "source": [
    "sum(df_total['port_code'].duplicated())"
   ]
  },
  {
   "cell_type": "code",
   "execution_count": 307,
   "metadata": {},
   "outputs": [
    {
     "data": {
      "text/html": [
       "<div>\n",
       "<style scoped>\n",
       "    .dataframe tbody tr th:only-of-type {\n",
       "        vertical-align: middle;\n",
       "    }\n",
       "\n",
       "    .dataframe tbody tr th {\n",
       "        vertical-align: top;\n",
       "    }\n",
       "\n",
       "    .dataframe thead th {\n",
       "        text-align: right;\n",
       "    }\n",
       "</style>\n",
       "<table border=\"1\" class=\"dataframe\">\n",
       "  <thead>\n",
       "    <tr style=\"text-align: right;\">\n",
       "      <th></th>\n",
       "      <th>port_code</th>\n",
       "      <th>port_name</th>\n",
       "      <th>source</th>\n",
       "    </tr>\n",
       "  </thead>\n",
       "  <tbody>\n",
       "    <tr>\n",
       "      <td>1</td>\n",
       "      <td>AEAJM</td>\n",
       "      <td>AJMAN</td>\n",
       "      <td>1</td>\n",
       "    </tr>\n",
       "    <tr>\n",
       "      <td>3</td>\n",
       "      <td>AEDAS</td>\n",
       "      <td>DAS ISLAND</td>\n",
       "      <td>1</td>\n",
       "    </tr>\n",
       "    <tr>\n",
       "      <td>4</td>\n",
       "      <td>AEDXB</td>\n",
       "      <td>DUBAI</td>\n",
       "      <td>1</td>\n",
       "    </tr>\n",
       "    <tr>\n",
       "      <td>6</td>\n",
       "      <td>AEFJR</td>\n",
       "      <td>FUJAIRAH</td>\n",
       "      <td>1</td>\n",
       "    </tr>\n",
       "    <tr>\n",
       "      <td>7</td>\n",
       "      <td>AEJEA</td>\n",
       "      <td>JEBEL ALI</td>\n",
       "      <td>1</td>\n",
       "    </tr>\n",
       "    <tr>\n",
       "      <td>...</td>\n",
       "      <td>...</td>\n",
       "      <td>...</td>\n",
       "      <td>...</td>\n",
       "    </tr>\n",
       "    <tr>\n",
       "      <td>7483</td>\n",
       "      <td>ZAELS</td>\n",
       "      <td>EAST LONDON</td>\n",
       "      <td>1</td>\n",
       "    </tr>\n",
       "    <tr>\n",
       "      <td>7497</td>\n",
       "      <td>ZAMZY</td>\n",
       "      <td>MOSSEL BAY</td>\n",
       "      <td>1</td>\n",
       "    </tr>\n",
       "    <tr>\n",
       "      <td>7503</td>\n",
       "      <td>ZAPLZ</td>\n",
       "      <td>PORT ELIZABETH</td>\n",
       "      <td>1</td>\n",
       "    </tr>\n",
       "    <tr>\n",
       "      <td>7507</td>\n",
       "      <td>ZARCB</td>\n",
       "      <td>RICHARDS BAY</td>\n",
       "      <td>1</td>\n",
       "    </tr>\n",
       "    <tr>\n",
       "      <td>7509</td>\n",
       "      <td>ZASDB</td>\n",
       "      <td>SALDANHA BAY</td>\n",
       "      <td>1</td>\n",
       "    </tr>\n",
       "  </tbody>\n",
       "</table>\n",
       "<p>1746 rows × 3 columns</p>\n",
       "</div>"
      ],
      "text/plain": [
       "     port_code       port_name  source\n",
       "1        AEAJM           AJMAN       1\n",
       "3        AEDAS      DAS ISLAND       1\n",
       "4        AEDXB           DUBAI       1\n",
       "6        AEFJR        FUJAIRAH       1\n",
       "7        AEJEA       JEBEL ALI       1\n",
       "...        ...             ...     ...\n",
       "7483     ZAELS     EAST LONDON       1\n",
       "7497     ZAMZY      MOSSEL BAY       1\n",
       "7503     ZAPLZ  PORT ELIZABETH       1\n",
       "7507     ZARCB    RICHARDS BAY       1\n",
       "7509     ZASDB    SALDANHA BAY       1\n",
       "\n",
       "[1746 rows x 3 columns]"
      ]
     },
     "execution_count": 307,
     "metadata": {},
     "output_type": "execute_result"
    }
   ],
   "source": [
    "df_total[df_total['port_code'].duplicated()]"
   ]
  },
  {
   "cell_type": "code",
   "execution_count": 308,
   "metadata": {},
   "outputs": [
    {
     "data": {
      "text/plain": [
       "3"
      ]
     },
     "execution_count": 308,
     "metadata": {},
     "output_type": "execute_result"
    }
   ],
   "source": [
    "sum(df_total[['port_name','port_code']].duplicated())"
   ]
  },
  {
   "cell_type": "code",
   "execution_count": 309,
   "metadata": {},
   "outputs": [
    {
     "data": {
      "text/html": [
       "<div>\n",
       "<style scoped>\n",
       "    .dataframe tbody tr th:only-of-type {\n",
       "        vertical-align: middle;\n",
       "    }\n",
       "\n",
       "    .dataframe tbody tr th {\n",
       "        vertical-align: top;\n",
       "    }\n",
       "\n",
       "    .dataframe thead th {\n",
       "        text-align: right;\n",
       "    }\n",
       "</style>\n",
       "<table border=\"1\" class=\"dataframe\">\n",
       "  <thead>\n",
       "    <tr style=\"text-align: right;\">\n",
       "      <th></th>\n",
       "      <th>port_code</th>\n",
       "      <th>port_name</th>\n",
       "      <th>source</th>\n",
       "    </tr>\n",
       "  </thead>\n",
       "  <tbody>\n",
       "    <tr>\n",
       "      <td>2546</td>\n",
       "      <td>GBFLE</td>\n",
       "      <td>FLEETWOOD</td>\n",
       "      <td>1</td>\n",
       "    </tr>\n",
       "    <tr>\n",
       "      <td>3344</td>\n",
       "      <td>INJGA</td>\n",
       "      <td>JAMNAGAR</td>\n",
       "      <td>1</td>\n",
       "    </tr>\n",
       "    <tr>\n",
       "      <td>3377</td>\n",
       "      <td>INNSA</td>\n",
       "      <td>NHAVA SHEVA</td>\n",
       "      <td>1</td>\n",
       "    </tr>\n",
       "  </tbody>\n",
       "</table>\n",
       "</div>"
      ],
      "text/plain": [
       "     port_code    port_name  source\n",
       "2546     GBFLE    FLEETWOOD       1\n",
       "3344     INJGA     JAMNAGAR       1\n",
       "3377     INNSA  NHAVA SHEVA       1"
      ]
     },
     "execution_count": 309,
     "metadata": {},
     "output_type": "execute_result"
    }
   ],
   "source": [
    "df_total[df_total[['port_name','port_code']].duplicated()]"
   ]
  },
  {
   "cell_type": "code",
   "execution_count": 310,
   "metadata": {},
   "outputs": [
    {
     "data": {
      "text/html": [
       "<div>\n",
       "<style scoped>\n",
       "    .dataframe tbody tr th:only-of-type {\n",
       "        vertical-align: middle;\n",
       "    }\n",
       "\n",
       "    .dataframe tbody tr th {\n",
       "        vertical-align: top;\n",
       "    }\n",
       "\n",
       "    .dataframe thead th {\n",
       "        text-align: right;\n",
       "    }\n",
       "</style>\n",
       "<table border=\"1\" class=\"dataframe\">\n",
       "  <thead>\n",
       "    <tr style=\"text-align: right;\">\n",
       "      <th></th>\n",
       "      <th>port_code</th>\n",
       "      <th>port_name</th>\n",
       "      <th>source</th>\n",
       "    </tr>\n",
       "  </thead>\n",
       "  <tbody>\n",
       "    <tr>\n",
       "      <td>1920</td>\n",
       "      <td>GBFLE</td>\n",
       "      <td>FLEETWOOD</td>\n",
       "      <td>0</td>\n",
       "    </tr>\n",
       "    <tr>\n",
       "      <td>2546</td>\n",
       "      <td>GBFLE</td>\n",
       "      <td>FLEETWOOD</td>\n",
       "      <td>1</td>\n",
       "    </tr>\n",
       "  </tbody>\n",
       "</table>\n",
       "</div>"
      ],
      "text/plain": [
       "     port_code  port_name  source\n",
       "1920     GBFLE  FLEETWOOD       0\n",
       "2546     GBFLE  FLEETWOOD       1"
      ]
     },
     "execution_count": 310,
     "metadata": {},
     "output_type": "execute_result"
    }
   ],
   "source": [
    "df_total[df_total['port_code'] == 'GBFLE']"
   ]
  },
  {
   "cell_type": "code",
   "execution_count": 311,
   "metadata": {},
   "outputs": [
    {
     "data": {
      "text/html": [
       "<div>\n",
       "<style scoped>\n",
       "    .dataframe tbody tr th:only-of-type {\n",
       "        vertical-align: middle;\n",
       "    }\n",
       "\n",
       "    .dataframe tbody tr th {\n",
       "        vertical-align: top;\n",
       "    }\n",
       "\n",
       "    .dataframe thead th {\n",
       "        text-align: right;\n",
       "    }\n",
       "</style>\n",
       "<table border=\"1\" class=\"dataframe\">\n",
       "  <thead>\n",
       "    <tr style=\"text-align: right;\">\n",
       "      <th></th>\n",
       "      <th>port_code</th>\n",
       "      <th>port_name</th>\n",
       "      <th>source</th>\n",
       "    </tr>\n",
       "  </thead>\n",
       "  <tbody>\n",
       "    <tr>\n",
       "      <td>1985</td>\n",
       "      <td>INJGA</td>\n",
       "      <td>JAMNAGAR</td>\n",
       "      <td>0</td>\n",
       "    </tr>\n",
       "    <tr>\n",
       "      <td>3344</td>\n",
       "      <td>INJGA</td>\n",
       "      <td>JAMNAGAR</td>\n",
       "      <td>1</td>\n",
       "    </tr>\n",
       "  </tbody>\n",
       "</table>\n",
       "</div>"
      ],
      "text/plain": [
       "     port_code port_name  source\n",
       "1985     INJGA  JAMNAGAR       0\n",
       "3344     INJGA  JAMNAGAR       1"
      ]
     },
     "execution_count": 311,
     "metadata": {},
     "output_type": "execute_result"
    }
   ],
   "source": [
    "df_total[df_total['port_code'] == 'INJGA']"
   ]
  },
  {
   "cell_type": "code",
   "execution_count": 312,
   "metadata": {},
   "outputs": [
    {
     "data": {
      "text/html": [
       "<div>\n",
       "<style scoped>\n",
       "    .dataframe tbody tr th:only-of-type {\n",
       "        vertical-align: middle;\n",
       "    }\n",
       "\n",
       "    .dataframe tbody tr th {\n",
       "        vertical-align: top;\n",
       "    }\n",
       "\n",
       "    .dataframe thead th {\n",
       "        text-align: right;\n",
       "    }\n",
       "</style>\n",
       "<table border=\"1\" class=\"dataframe\">\n",
       "  <thead>\n",
       "    <tr style=\"text-align: right;\">\n",
       "      <th></th>\n",
       "      <th>port_code</th>\n",
       "      <th>port_name</th>\n",
       "      <th>source</th>\n",
       "    </tr>\n",
       "  </thead>\n",
       "  <tbody>\n",
       "    <tr>\n",
       "      <td>4</td>\n",
       "      <td>INNSA</td>\n",
       "      <td>NHAVA SHEVA</td>\n",
       "      <td>0</td>\n",
       "    </tr>\n",
       "    <tr>\n",
       "      <td>3377</td>\n",
       "      <td>INNSA</td>\n",
       "      <td>NHAVA SHEVA</td>\n",
       "      <td>1</td>\n",
       "    </tr>\n",
       "  </tbody>\n",
       "</table>\n",
       "</div>"
      ],
      "text/plain": [
       "     port_code    port_name  source\n",
       "4        INNSA  NHAVA SHEVA       0\n",
       "3377     INNSA  NHAVA SHEVA       1"
      ]
     },
     "execution_count": 312,
     "metadata": {},
     "output_type": "execute_result"
    }
   ],
   "source": [
    "df_total[df_total['port_code'] == 'INNSA']"
   ]
  },
  {
   "cell_type": "code",
   "execution_count": 313,
   "metadata": {},
   "outputs": [],
   "source": [
    "df_total = df_total.drop([2546, 3344, 3377])"
   ]
  },
  {
   "cell_type": "code",
   "execution_count": 314,
   "metadata": {},
   "outputs": [
    {
     "data": {
      "text/html": [
       "<div>\n",
       "<style scoped>\n",
       "    .dataframe tbody tr th:only-of-type {\n",
       "        vertical-align: middle;\n",
       "    }\n",
       "\n",
       "    .dataframe tbody tr th {\n",
       "        vertical-align: top;\n",
       "    }\n",
       "\n",
       "    .dataframe thead th {\n",
       "        text-align: right;\n",
       "    }\n",
       "</style>\n",
       "<table border=\"1\" class=\"dataframe\">\n",
       "  <thead>\n",
       "    <tr style=\"text-align: right;\">\n",
       "      <th></th>\n",
       "      <th>port_code</th>\n",
       "      <th>port_name</th>\n",
       "      <th>source</th>\n",
       "    </tr>\n",
       "  </thead>\n",
       "  <tbody>\n",
       "  </tbody>\n",
       "</table>\n",
       "</div>"
      ],
      "text/plain": [
       "Empty DataFrame\n",
       "Columns: [port_code, port_name, source]\n",
       "Index: []"
      ]
     },
     "execution_count": 314,
     "metadata": {},
     "output_type": "execute_result"
    }
   ],
   "source": [
    "df_total[df_total[['port_name','port_code']].duplicated()]"
   ]
  },
  {
   "cell_type": "code",
   "execution_count": 315,
   "metadata": {},
   "outputs": [
    {
     "data": {
      "text/plain": [
       "10037"
      ]
     },
     "execution_count": 315,
     "metadata": {},
     "output_type": "execute_result"
    }
   ],
   "source": [
    "len(df_total)"
   ]
  },
  {
   "cell_type": "code",
   "execution_count": 276,
   "metadata": {},
   "outputs": [
    {
     "data": {
      "text/html": [
       "<div>\n",
       "<style scoped>\n",
       "    .dataframe tbody tr th:only-of-type {\n",
       "        vertical-align: middle;\n",
       "    }\n",
       "\n",
       "    .dataframe tbody tr th {\n",
       "        vertical-align: top;\n",
       "    }\n",
       "\n",
       "    .dataframe thead th {\n",
       "        text-align: right;\n",
       "    }\n",
       "</style>\n",
       "<table border=\"1\" class=\"dataframe\">\n",
       "  <thead>\n",
       "    <tr style=\"text-align: right;\">\n",
       "      <th></th>\n",
       "      <th>port_code</th>\n",
       "      <th>port_name</th>\n",
       "      <th>source</th>\n",
       "    </tr>\n",
       "  </thead>\n",
       "  <tbody>\n",
       "    <tr>\n",
       "      <td>2276</td>\n",
       "      <td>AEAJM</td>\n",
       "      <td>Ajman</td>\n",
       "      <td>0</td>\n",
       "    </tr>\n",
       "    <tr>\n",
       "      <td>1</td>\n",
       "      <td>AEAJM</td>\n",
       "      <td>AJMAN</td>\n",
       "      <td>1</td>\n",
       "    </tr>\n",
       "  </tbody>\n",
       "</table>\n",
       "</div>"
      ],
      "text/plain": [
       "     port_code port_name  source\n",
       "2276     AEAJM     Ajman       0\n",
       "1        AEAJM     AJMAN       1"
      ]
     },
     "execution_count": 276,
     "metadata": {},
     "output_type": "execute_result"
    }
   ],
   "source": [
    "df_total[df_total['port_code'] == 'AEAJM']"
   ]
  },
  {
   "cell_type": "code",
   "execution_count": 280,
   "metadata": {},
   "outputs": [
    {
     "data": {
      "text/html": [
       "<div>\n",
       "<style scoped>\n",
       "    .dataframe tbody tr th:only-of-type {\n",
       "        vertical-align: middle;\n",
       "    }\n",
       "\n",
       "    .dataframe tbody tr th {\n",
       "        vertical-align: top;\n",
       "    }\n",
       "\n",
       "    .dataframe thead th {\n",
       "        text-align: right;\n",
       "    }\n",
       "</style>\n",
       "<table border=\"1\" class=\"dataframe\">\n",
       "  <thead>\n",
       "    <tr style=\"text-align: right;\">\n",
       "      <th></th>\n",
       "      <th>port_code</th>\n",
       "      <th>port_name</th>\n",
       "      <th>source</th>\n",
       "    </tr>\n",
       "  </thead>\n",
       "  <tbody>\n",
       "    <tr>\n",
       "      <td>1804</td>\n",
       "      <td>CLBAG</td>\n",
       "      <td>Gregorio</td>\n",
       "      <td>0</td>\n",
       "    </tr>\n",
       "    <tr>\n",
       "      <td>1128</td>\n",
       "      <td>CLBAG</td>\n",
       "      <td>BAHIA GREGORIO</td>\n",
       "      <td>1</td>\n",
       "    </tr>\n",
       "  </tbody>\n",
       "</table>\n",
       "</div>"
      ],
      "text/plain": [
       "     port_code       port_name  source\n",
       "1804     CLBAG        Gregorio       0\n",
       "1128     CLBAG  BAHIA GREGORIO       1"
      ]
     },
     "execution_count": 280,
     "metadata": {},
     "output_type": "execute_result"
    }
   ],
   "source": [
    "df_total[df_total['port_code'] == 'CLBAG']"
   ]
  },
  {
   "cell_type": "code",
   "execution_count": 316,
   "metadata": {},
   "outputs": [
    {
     "data": {
      "text/html": [
       "<div>\n",
       "<style scoped>\n",
       "    .dataframe tbody tr th:only-of-type {\n",
       "        vertical-align: middle;\n",
       "    }\n",
       "\n",
       "    .dataframe tbody tr th {\n",
       "        vertical-align: top;\n",
       "    }\n",
       "\n",
       "    .dataframe thead th {\n",
       "        text-align: right;\n",
       "    }\n",
       "</style>\n",
       "<table border=\"1\" class=\"dataframe\">\n",
       "  <thead>\n",
       "    <tr style=\"text-align: right;\">\n",
       "      <th></th>\n",
       "      <th>port_code</th>\n",
       "      <th>port_name</th>\n",
       "      <th>source</th>\n",
       "    </tr>\n",
       "  </thead>\n",
       "  <tbody>\n",
       "    <tr>\n",
       "      <td>2070</td>\n",
       "      <td>ESLCG</td>\n",
       "      <td>LA CORUNA</td>\n",
       "      <td>1</td>\n",
       "    </tr>\n",
       "    <tr>\n",
       "      <td>3705</td>\n",
       "      <td>JPHKT</td>\n",
       "      <td>HAKATA, FUKUOKA</td>\n",
       "      <td>1</td>\n",
       "    </tr>\n",
       "    <tr>\n",
       "      <td>7288</td>\n",
       "      <td>UYFZB</td>\n",
       "      <td>FRAY BENTOS</td>\n",
       "      <td>1</td>\n",
       "    </tr>\n",
       "    <tr>\n",
       "      <td>41</td>\n",
       "      <td>ALSAR</td>\n",
       "      <td>SARANDE</td>\n",
       "      <td>1</td>\n",
       "    </tr>\n",
       "    <tr>\n",
       "      <td>3789</td>\n",
       "      <td>JPKUH</td>\n",
       "      <td>KUSHIRO, HOKKAIDO</td>\n",
       "      <td>1</td>\n",
       "    </tr>\n",
       "    <tr>\n",
       "      <td>7290</td>\n",
       "      <td>UYMVD</td>\n",
       "      <td>MONTEVIDEO</td>\n",
       "      <td>1</td>\n",
       "    </tr>\n",
       "    <tr>\n",
       "      <td>2479</td>\n",
       "      <td>GBARD</td>\n",
       "      <td>ARDROSSAN</td>\n",
       "      <td>1</td>\n",
       "    </tr>\n",
       "    <tr>\n",
       "      <td>5337</td>\n",
       "      <td>PGPOM</td>\n",
       "      <td>PORT MORESBY</td>\n",
       "      <td>1</td>\n",
       "    </tr>\n",
       "    <tr>\n",
       "      <td>3931</td>\n",
       "      <td>JPSMN</td>\n",
       "      <td>SAKAIMINATO, TOTTORI</td>\n",
       "      <td>1</td>\n",
       "    </tr>\n",
       "    <tr>\n",
       "      <td>5583</td>\n",
       "      <td>PHMNS</td>\n",
       "      <td>MANILA (SOUTH HARBOUR)</td>\n",
       "      <td>1</td>\n",
       "    </tr>\n",
       "    <tr>\n",
       "      <td>7341</td>\n",
       "      <td>VELSV</td>\n",
       "      <td>LA SALINA/MARACAIBO L</td>\n",
       "      <td>1</td>\n",
       "    </tr>\n",
       "    <tr>\n",
       "      <td>6289</td>\n",
       "      <td>SESOE</td>\n",
       "      <td>SODERTALJE</td>\n",
       "      <td>1</td>\n",
       "    </tr>\n",
       "    <tr>\n",
       "      <td>4468</td>\n",
       "      <td>MXGYM</td>\n",
       "      <td>GUAYMAS, SON</td>\n",
       "      <td>1</td>\n",
       "    </tr>\n",
       "    <tr>\n",
       "      <td>6850</td>\n",
       "      <td>USCHS</td>\n",
       "      <td>CHARLESTON, SC</td>\n",
       "      <td>1</td>\n",
       "    </tr>\n",
       "    <tr>\n",
       "      <td>7253</td>\n",
       "      <td>USTXT</td>\n",
       "      <td>TEXAS CITY, TX</td>\n",
       "      <td>1</td>\n",
       "    </tr>\n",
       "    <tr>\n",
       "      <td>5177</td>\n",
       "      <td>PESNX</td>\n",
       "      <td>SAN NICOLAS</td>\n",
       "      <td>1</td>\n",
       "    </tr>\n",
       "    <tr>\n",
       "      <td>1443</td>\n",
       "      <td>CNXMN</td>\n",
       "      <td>XIAMEN (XIAN)</td>\n",
       "      <td>1</td>\n",
       "    </tr>\n",
       "    <tr>\n",
       "      <td>5769</td>\n",
       "      <td>PRGUX</td>\n",
       "      <td>GUANICA HARBOUR</td>\n",
       "      <td>1</td>\n",
       "    </tr>\n",
       "    <tr>\n",
       "      <td>2093</td>\n",
       "      <td>ESPMI</td>\n",
       "      <td>PALMA DE MALLORCA</td>\n",
       "      <td>1</td>\n",
       "    </tr>\n",
       "    <tr>\n",
       "      <td>4903</td>\n",
       "      <td>NOHOL</td>\n",
       "      <td>HOLMESTRAND</td>\n",
       "      <td>1</td>\n",
       "    </tr>\n",
       "  </tbody>\n",
       "</table>\n",
       "</div>"
      ],
      "text/plain": [
       "     port_code               port_name  source\n",
       "2070     ESLCG               LA CORUNA       1\n",
       "3705     JPHKT         HAKATA, FUKUOKA       1\n",
       "7288     UYFZB             FRAY BENTOS       1\n",
       "41       ALSAR                 SARANDE       1\n",
       "3789     JPKUH       KUSHIRO, HOKKAIDO       1\n",
       "7290     UYMVD              MONTEVIDEO       1\n",
       "2479     GBARD               ARDROSSAN       1\n",
       "5337     PGPOM            PORT MORESBY       1\n",
       "3931     JPSMN    SAKAIMINATO, TOTTORI       1\n",
       "5583     PHMNS  MANILA (SOUTH HARBOUR)       1\n",
       "7341     VELSV   LA SALINA/MARACAIBO L       1\n",
       "6289     SESOE              SODERTALJE       1\n",
       "4468     MXGYM            GUAYMAS, SON       1\n",
       "6850     USCHS          CHARLESTON, SC       1\n",
       "7253     USTXT          TEXAS CITY, TX       1\n",
       "5177     PESNX             SAN NICOLAS       1\n",
       "1443     CNXMN           XIAMEN (XIAN)       1\n",
       "5769     PRGUX         GUANICA HARBOUR       1\n",
       "2093     ESPMI       PALMA DE MALLORCA       1\n",
       "4903     NOHOL             HOLMESTRAND       1"
      ]
     },
     "execution_count": 316,
     "metadata": {},
     "output_type": "execute_result"
    }
   ],
   "source": [
    "df_total[df_total['port_code'].duplicated()].sample(20)"
   ]
  },
  {
   "cell_type": "code",
   "execution_count": 317,
   "metadata": {},
   "outputs": [],
   "source": [
    "df_total = df_total.drop_duplicates(subset=['port_code'], keep='first')"
   ]
  },
  {
   "cell_type": "code",
   "execution_count": 318,
   "metadata": {},
   "outputs": [
    {
     "data": {
      "text/html": [
       "<div>\n",
       "<style scoped>\n",
       "    .dataframe tbody tr th:only-of-type {\n",
       "        vertical-align: middle;\n",
       "    }\n",
       "\n",
       "    .dataframe tbody tr th {\n",
       "        vertical-align: top;\n",
       "    }\n",
       "\n",
       "    .dataframe thead th {\n",
       "        text-align: right;\n",
       "    }\n",
       "</style>\n",
       "<table border=\"1\" class=\"dataframe\">\n",
       "  <thead>\n",
       "    <tr style=\"text-align: right;\">\n",
       "      <th></th>\n",
       "      <th>port_code</th>\n",
       "      <th>port_name</th>\n",
       "      <th>source</th>\n",
       "    </tr>\n",
       "  </thead>\n",
       "  <tbody>\n",
       "  </tbody>\n",
       "</table>\n",
       "</div>"
      ],
      "text/plain": [
       "Empty DataFrame\n",
       "Columns: [port_code, port_name, source]\n",
       "Index: []"
      ]
     },
     "execution_count": 318,
     "metadata": {},
     "output_type": "execute_result"
    }
   ],
   "source": [
    "df_total[df_total['port_code'].duplicated()]"
   ]
  },
  {
   "cell_type": "code",
   "execution_count": 319,
   "metadata": {},
   "outputs": [
    {
     "data": {
      "text/html": [
       "<div>\n",
       "<style scoped>\n",
       "    .dataframe tbody tr th:only-of-type {\n",
       "        vertical-align: middle;\n",
       "    }\n",
       "\n",
       "    .dataframe tbody tr th {\n",
       "        vertical-align: top;\n",
       "    }\n",
       "\n",
       "    .dataframe thead th {\n",
       "        text-align: right;\n",
       "    }\n",
       "</style>\n",
       "<table border=\"1\" class=\"dataframe\">\n",
       "  <thead>\n",
       "    <tr style=\"text-align: right;\">\n",
       "      <th></th>\n",
       "      <th>port_code</th>\n",
       "      <th>port_name</th>\n",
       "      <th>source</th>\n",
       "    </tr>\n",
       "  </thead>\n",
       "  <tbody>\n",
       "    <tr>\n",
       "      <td>0</td>\n",
       "      <td>CNSZX</td>\n",
       "      <td>Shenzhen</td>\n",
       "      <td>0</td>\n",
       "    </tr>\n",
       "    <tr>\n",
       "      <td>1</td>\n",
       "      <td>VNSGN</td>\n",
       "      <td>Ho Chi Min City (formerly Saigon)</td>\n",
       "      <td>0</td>\n",
       "    </tr>\n",
       "    <tr>\n",
       "      <td>2</td>\n",
       "      <td>DKAAB</td>\n",
       "      <td>Aabenraa</td>\n",
       "      <td>0</td>\n",
       "    </tr>\n",
       "    <tr>\n",
       "      <td>3</td>\n",
       "      <td>SGSIN</td>\n",
       "      <td>Singapore</td>\n",
       "      <td>0</td>\n",
       "    </tr>\n",
       "    <tr>\n",
       "      <td>4</td>\n",
       "      <td>INNSA</td>\n",
       "      <td>NHAVA SHEVA</td>\n",
       "      <td>0</td>\n",
       "    </tr>\n",
       "  </tbody>\n",
       "</table>\n",
       "</div>"
      ],
      "text/plain": [
       "  port_code                          port_name  source\n",
       "0     CNSZX                           Shenzhen       0\n",
       "1     VNSGN  Ho Chi Min City (formerly Saigon)       0\n",
       "2     DKAAB                           Aabenraa       0\n",
       "3     SGSIN                          Singapore       0\n",
       "4     INNSA                        NHAVA SHEVA       0"
      ]
     },
     "execution_count": 319,
     "metadata": {},
     "output_type": "execute_result"
    }
   ],
   "source": [
    "df_total.head()"
   ]
  },
  {
   "cell_type": "code",
   "execution_count": 320,
   "metadata": {},
   "outputs": [
    {
     "data": {
      "text/plain": [
       "8294"
      ]
     },
     "execution_count": 320,
     "metadata": {},
     "output_type": "execute_result"
    }
   ],
   "source": [
    "len(df_total)"
   ]
  },
  {
   "cell_type": "code",
   "execution_count": 321,
   "metadata": {},
   "outputs": [
    {
     "name": "stdout",
     "output_type": "stream",
     "text": [
      "<class 'pandas.core.frame.DataFrame'>\n",
      "Int64Index: 8294 entries, 0 to 7546\n",
      "Data columns (total 3 columns):\n",
      "port_code    8294 non-null object\n",
      "port_name    8294 non-null object\n",
      "source       8294 non-null int64\n",
      "dtypes: int64(1), object(2)\n",
      "memory usage: 259.2+ KB\n"
     ]
    }
   ],
   "source": [
    "df_total.info()"
   ]
  },
  {
   "cell_type": "code",
   "execution_count": 323,
   "metadata": {},
   "outputs": [],
   "source": [
    "df_total.to_csv('./data/port_code_total.csv', encoding='utf_8', header=1, index=0)"
   ]
  },
  {
   "cell_type": "code",
   "execution_count": null,
   "metadata": {},
   "outputs": [],
   "source": []
  },
  {
   "cell_type": "code",
   "execution_count": null,
   "metadata": {},
   "outputs": [],
   "source": []
  },
  {
   "cell_type": "code",
   "execution_count": null,
   "metadata": {},
   "outputs": [],
   "source": []
  },
  {
   "cell_type": "code",
   "execution_count": null,
   "metadata": {},
   "outputs": [],
   "source": []
  },
  {
   "cell_type": "code",
   "execution_count": null,
   "metadata": {},
   "outputs": [],
   "source": []
  },
  {
   "cell_type": "code",
   "execution_count": 153,
   "metadata": {},
   "outputs": [],
   "source": [
    "df_total=df_total.drop(index=df_total.index)"
   ]
  },
  {
   "cell_type": "code",
   "execution_count": null,
   "metadata": {},
   "outputs": [],
   "source": []
  },
  {
   "cell_type": "code",
   "execution_count": 350,
   "metadata": {},
   "outputs": [
    {
     "name": "stdout",
     "output_type": "stream",
     "text": [
      "<connection object at 0x00000214433D5488; dsn: 'user=dbuser password=xxx dbname=map host=192.168.102.89 port=5432', closed: 0>\n"
     ]
    }
   ],
   "source": [
    "print(conn)"
   ]
  },
  {
   "cell_type": "code",
   "execution_count": 475,
   "metadata": {},
   "outputs": [],
   "source": [
    "sql = \"SELECT P.port_code, P.port_name FROM ports.port_code AS P;\""
   ]
  },
  {
   "cell_type": "code",
   "execution_count": 476,
   "metadata": {},
   "outputs": [],
   "source": [
    "cursor = conn.cursor()\n",
    "cursor.execute(sql)"
   ]
  },
  {
   "cell_type": "code",
   "execution_count": 477,
   "metadata": {},
   "outputs": [],
   "source": [
    "port_code = cursor.fetchall()"
   ]
  },
  {
   "cell_type": "code",
   "execution_count": 354,
   "metadata": {},
   "outputs": [
    {
     "name": "stdout",
     "output_type": "stream",
     "text": [
      "<class 'list'>\n"
     ]
    }
   ],
   "source": [
    "print(type(port_code))"
   ]
  },
  {
   "cell_type": "code",
   "execution_count": 355,
   "metadata": {},
   "outputs": [
    {
     "name": "stdout",
     "output_type": "stream",
     "text": [
      "('CNSZX', 'Shenzhen')\n",
      "('VNSGN', 'Ho Chi Min City (formerly Saigon)')\n",
      "('DKAAB', 'Aabenraa')\n",
      "('SGSIN', 'Singapore')\n",
      "('INNSA', 'NHAVA SHEVA')\n"
     ]
    }
   ],
   "source": [
    "for i in port_code[:5]:\n",
    "    print(i)"
   ]
  },
  {
   "cell_type": "code",
   "execution_count": 357,
   "metadata": {},
   "outputs": [
    {
     "data": {
      "text/plain": [
       "['Shenzhen',\n",
       " 'Ho Chi Min City (formerly Saigon)',\n",
       " 'Aabenraa',\n",
       " 'Singapore',\n",
       " 'NHAVA SHEVA']"
      ]
     },
     "execution_count": 357,
     "metadata": {},
     "output_type": "execute_result"
    }
   ],
   "source": [
    "port_name_list[:5]"
   ]
  },
  {
   "cell_type": "code",
   "execution_count": null,
   "metadata": {},
   "outputs": [],
   "source": []
  },
  {
   "cell_type": "code",
   "execution_count": null,
   "metadata": {},
   "outputs": [],
   "source": []
  },
  {
   "cell_type": "code",
   "execution_count": 362,
   "metadata": {},
   "outputs": [],
   "source": [
    "s = \"B.ABBA'S\""
   ]
  },
  {
   "cell_type": "code",
   "execution_count": 364,
   "metadata": {},
   "outputs": [
    {
     "data": {
      "text/plain": [
       "\"B.ABBA''S\""
      ]
     },
     "execution_count": 364,
     "metadata": {},
     "output_type": "execute_result"
    }
   ],
   "source": [
    "s.replace(\"'\", \"''\")"
   ]
  },
  {
   "cell_type": "code",
   "execution_count": null,
   "metadata": {},
   "outputs": [],
   "source": []
  },
  {
   "cell_type": "code",
   "execution_count": 467,
   "metadata": {},
   "outputs": [
    {
     "name": "stdout",
     "output_type": "stream",
     "text": [
      "100 test1\n",
      "100 test2\n"
     ]
    }
   ],
   "source": []
  },
  {
   "cell_type": "code",
   "execution_count": 468,
   "metadata": {},
   "outputs": [
    {
     "name": "stdout",
     "output_type": "stream",
     "text": [
      "8 test1\n",
      "100 test2\n"
     ]
    }
   ],
   "source": [
    "test_1 = fuzz.ratio('MANZANILLO', 'Manzanillo, Cuba')\n",
    "print(test_1, 'test1')\n",
    "\n",
    "test_2 = fuzz.ratio('MANZANILLO', 'MANZANILLO')\n",
    "print(test_2, 'test2')"
   ]
  },
  {
   "cell_type": "code",
   "execution_count": 470,
   "metadata": {},
   "outputs": [
    {
     "name": "stdout",
     "output_type": "stream",
     "text": [
      "10 test1\n",
      "100 test2\n"
     ]
    }
   ],
   "source": [
    "test_1 = fuzz.partial_ratio('MANZANILLO', 'Manzanillo, Cuba')\n",
    "print(test_1, 'test1')\n",
    "\n",
    "test_2 = fuzz.partial_ratio('MANZANILLO', 'MANZANILLO')\n",
    "print(test_2, 'test2')"
   ]
  },
  {
   "cell_type": "code",
   "execution_count": 471,
   "metadata": {},
   "outputs": [
    {
     "name": "stdout",
     "output_type": "stream",
     "text": [
      "80 test1\n",
      "100 test2\n"
     ]
    }
   ],
   "source": [
    "test_1 = fuzz.token_sort_ratio('MANZANILLO', 'Manzanillo, Cuba')\n",
    "print(test_1, 'test1')\n",
    "\n",
    "test_2 = fuzz.token_sort_ratio('MANZANILLO', 'MANZANILLO')\n",
    "print(test_2, 'test2')"
   ]
  },
  {
   "cell_type": "code",
   "execution_count": 472,
   "metadata": {},
   "outputs": [
    {
     "name": "stdout",
     "output_type": "stream",
     "text": [
      "100 test1\n",
      "100 test2\n"
     ]
    }
   ],
   "source": [
    "test_1 = fuzz.token_set_ratio('MANZANILLO', 'Manzanillo, Cuba')\n",
    "print(test_1, 'test1')\n",
    "\n",
    "test_2 = fuzz.token_set_ratio('MANZANILLO', 'MANZANILLO')\n",
    "print(test_2, 'test2')"
   ]
  },
  {
   "cell_type": "code",
   "execution_count": 484,
   "metadata": {},
   "outputs": [
    {
     "name": "stdout",
     "output_type": "stream",
     "text": [
      "12 test1\n",
      "9 test2\n"
     ]
    }
   ],
   "source": [
    "test_1 = fuzz.token_set_ratio('FOR ORDERS', 'Ambarli')\n",
    "print(test_1, 'test1')\n",
    "\n",
    "test_2 = fuzz.token_set_ratio('FOR ORDERS', 'Kuala Tanjung')\n",
    "print(test_2, 'test2')"
   ]
  },
  {
   "cell_type": "code",
   "execution_count": 2,
   "metadata": {},
   "outputs": [],
   "source": [
    "import psycopg2"
   ]
  },
  {
   "cell_type": "code",
   "execution_count": 3,
   "metadata": {},
   "outputs": [],
   "source": [
    "host = '192.168.102.89'\n",
    "port = 5432\n",
    "user = 'dbuser'\n",
    "password = 'dbuser123'\n",
    "database = 'map'"
   ]
  },
  {
   "cell_type": "code",
   "execution_count": 4,
   "metadata": {},
   "outputs": [],
   "source": [
    "conn = psycopg2.connect(host=host, port=port, user=user, password=password, database=database)"
   ]
  },
  {
   "cell_type": "code",
   "execution_count": 6,
   "metadata": {},
   "outputs": [],
   "source": [
    "sql = \"SELECT P.unctad, P.name FROM ports.port_new AS P;\"\n",
    "\n",
    "cursor = conn.cursor()\n",
    "# Execute eql statements\n",
    "cursor.execute(sql)\n",
    "\n",
    "# Get result\n",
    "port_code = cursor.fetchall()\n",
    "\n",
    "# Init container\n",
    "port_code_dict = {}\n",
    "port_name_list = []\n",
    "for (code, name) in port_code:\n",
    "    port_code_dict[code] = name\n",
    "    port_name_list.append(name)"
   ]
  },
  {
   "cell_type": "code",
   "execution_count": 18,
   "metadata": {},
   "outputs": [],
   "source": [
    "cursor.close()\n",
    "conn.close()"
   ]
  },
  {
   "cell_type": "code",
   "execution_count": 15,
   "metadata": {},
   "outputs": [
    {
     "data": {
      "text/plain": [
       "[('Panama', 100),\n",
       " ('PANAMA CANAL', 90),\n",
       " ('PanamA, Ciudad de', 90),\n",
       " ('Panama City, Florida, U.S.A.', 90),\n",
       " ('Anambra', 77)]"
      ]
     },
     "execution_count": 15,
     "metadata": {},
     "output_type": "execute_result"
    }
   ],
   "source": [
    "process.extract('PANAMA', port_name_list, limit=5)"
   ]
  },
  {
   "cell_type": "code",
   "execution_count": 16,
   "metadata": {},
   "outputs": [
    {
     "data": {
      "text/plain": [
       "[('ist', 90), ('TOBA', 90), ('Sto', 90), ('Cristobal', 90), ('Panama', 90)]"
      ]
     },
     "execution_count": 16,
     "metadata": {},
     "output_type": "execute_result"
    }
   ],
   "source": [
    "process.extract('CRISTOBAL-PANAMA', port_name_list, limit=5)"
   ]
  },
  {
   "cell_type": "code",
   "execution_count": 17,
   "metadata": {},
   "outputs": [
    {
     "data": {
      "text/plain": [
       "[('Cristobal', 90), ('TOBATA', 60), ('istanbul', 56), ('Norway Sto', 31)]"
      ]
     },
     "execution_count": 17,
     "metadata": {},
     "output_type": "execute_result"
    }
   ],
   "source": [
    "process.extract('CRISTOBAL-PANAMA', ['istanbul', 'TOBATA', 'Norway Sto', 'Cristobal'], limit=5)"
   ]
  },
  {
   "cell_type": "code",
   "execution_count": 515,
   "metadata": {},
   "outputs": [],
   "source": [
    "for i in port_name_list:\n",
    "    if i == 'ist':\n",
    "        print(i)"
   ]
  },
  {
   "cell_type": "code",
   "execution_count": 7,
   "metadata": {},
   "outputs": [
    {
     "data": {
      "text/plain": [
       "15399"
      ]
     },
     "execution_count": 7,
     "metadata": {},
     "output_type": "execute_result"
    }
   ],
   "source": [
    "len(port_name_list)"
   ]
  },
  {
   "cell_type": "code",
   "execution_count": 12,
   "metadata": {},
   "outputs": [
    {
     "name": "stdout",
     "output_type": "stream",
     "text": [
      "[('Cristobal + name', 100), ('Panama + name', 100), ('San Cristobal de Entrevinas + name', 72), ('PANAMA CANAL + name', 71), ('SANTA RiTA + name', 62)]\n"
     ]
    }
   ],
   "source": [
    "ratio_list = []\n",
    "for name in port_name_list:\n",
    "    ratio = fuzz.token_set_ratio('CRISTOBAL-PANAMA', name)\n",
    "    ratio_list.append((name + ' + name', ratio))\n",
    "for code in port_code_dict.keys():\n",
    "    ratio = fuzz.token_set_ratio('CRISTOBAL-PANAMA', code)\n",
    "    ratio_list.append((port_code_dict[code] + ' + code: ' + code, ratio))\n",
    "\n",
    "ratio_rank = sorted(ratio_list, key=lambda x: x[1], reverse=True)[:5]\n",
    "print(ratio_rank)"
   ]
  },
  {
   "cell_type": "code",
   "execution_count": 13,
   "metadata": {},
   "outputs": [
    {
     "name": "stdout",
     "output_type": "stream",
     "text": [
      "[('PANAMA CANAL + name', 100), ('PanamA, Ciudad de + name', 100), ('Panama City, Florida, U.S.A. + name', 100), ('Panama + name', 100), ('Anambra + name', 77)]\n"
     ]
    }
   ],
   "source": [
    "ratio_list = []\n",
    "for name in port_name_list:\n",
    "    ratio = fuzz.token_set_ratio('PANAMA', name)\n",
    "    ratio_list.append((name + ' + name', ratio))\n",
    "for code in port_code_dict.keys():\n",
    "    ratio = fuzz.token_set_ratio('PANAMA', code)\n",
    "    ratio_list.append((port_code_dict[code] + ' + code: ' + code, ratio))\n",
    "\n",
    "ratio_rank = sorted(ratio_list, key=lambda x: x[1], reverse=True)[:5]\n",
    "print(ratio_rank)"
   ]
  },
  {
   "cell_type": "code",
   "execution_count": null,
   "metadata": {},
   "outputs": [],
   "source": []
  },
  {
   "cell_type": "code",
   "execution_count": 481,
   "metadata": {},
   "outputs": [],
   "source": [
    "from fuzzywuzzy import process"
   ]
  },
  {
   "cell_type": "code",
   "execution_count": 509,
   "metadata": {},
   "outputs": [
    {
     "data": {
      "text/plain": [
       "[('Ama', 90),\n",
       " ('AMA', 90),\n",
       " ('CANA', 90),\n",
       " ('Panama City, Florida, U.S.A.', 86),\n",
       " ('MANAMA', 75)]"
      ]
     },
     "execution_count": 509,
     "metadata": {},
     "output_type": "execute_result"
    }
   ],
   "source": [
    "process.extract('PANAMA CANAL', port_name_list, limit=5)"
   ]
  },
  {
   "cell_type": "code",
   "execution_count": 510,
   "metadata": {},
   "outputs": [
    {
     "data": {
      "text/plain": [
       "[('Panama', 100), ('Ön', 90), ('PAPAN', 55)]"
      ]
     },
     "execution_count": 510,
     "metadata": {},
     "output_type": "execute_result"
    }
   ],
   "source": [
    "process.extract('PANAMA', ['PAPAN', 'Panama', 'Ön'], limit=5)"
   ]
  },
  {
   "cell_type": "code",
   "execution_count": 501,
   "metadata": {},
   "outputs": [
    {
     "data": {
      "text/plain": [
       "[('Panama', 100), ('PAPAN', 55)]"
      ]
     },
     "execution_count": 501,
     "metadata": {},
     "output_type": "execute_result"
    }
   ],
   "source": [
    "process.extract('PANAMA', ['PAPAN', 'Panama'], limit=5)"
   ]
  },
  {
   "cell_type": "code",
   "execution_count": 502,
   "metadata": {},
   "outputs": [
    {
     "data": {
      "text/plain": [
       "[('Panama', 90), ('PAPAN', 54)]"
      ]
     },
     "execution_count": 502,
     "metadata": {},
     "output_type": "execute_result"
    }
   ],
   "source": [
    "process.extract('PANAMA CANAL', ['PAPAN', 'Panama'], limit=5)"
   ]
  },
  {
   "cell_type": "code",
   "execution_count": 489,
   "metadata": {},
   "outputs": [
    {
     "data": {
      "text/plain": [
       "[('MANZANILLO', 100)]"
      ]
     },
     "execution_count": 489,
     "metadata": {},
     "output_type": "execute_result"
    }
   ],
   "source": [
    "process.extract('MANZANILLO', port_name_list, limit=1)"
   ]
  },
  {
   "cell_type": "code",
   "execution_count": 491,
   "metadata": {},
   "outputs": [
    {
     "data": {
      "text/plain": [
       "('Shanghai', 94)"
      ]
     },
     "execution_count": 491,
     "metadata": {},
     "output_type": "execute_result"
    }
   ],
   "source": [
    "process.extract('Shang Hai', port_name_list, limit=1)[0]"
   ]
  },
  {
   "cell_type": "code",
   "execution_count": 488,
   "metadata": {},
   "outputs": [
    {
     "data": {
      "text/plain": [
       "[('Shanghai', 100)]"
      ]
     },
     "execution_count": 488,
     "metadata": {},
     "output_type": "execute_result"
    }
   ],
   "source": [
    "process.extract('ShangHai', port_name_list, limit=1)"
   ]
  },
  {
   "cell_type": "code",
   "execution_count": 508,
   "metadata": {},
   "outputs": [
    {
     "data": {
      "text/plain": [
       "[('KPNAM', 73), ('JPAMA', 73), ('PAAML', 73), ('PAPAM', 73), ('ANAUA', 73)]"
      ]
     },
     "execution_count": 508,
     "metadata": {},
     "output_type": "execute_result"
    }
   ],
   "source": [
    "process.extract('PANAMA', port_code_dict.keys(), limit=5)"
   ]
  },
  {
   "cell_type": "code",
   "execution_count": null,
   "metadata": {},
   "outputs": [],
   "source": [
    "Ama   PANAMA CANAL"
   ]
  },
  {
   "cell_type": "code",
   "execution_count": null,
   "metadata": {},
   "outputs": [],
   "source": [
    "MANZANILLO,PANAMA"
   ]
  },
  {
   "cell_type": "code",
   "execution_count": 493,
   "metadata": {},
   "outputs": [
    {
     "data": {
      "text/plain": [
       "[('Ama', 90), ('MAN', 90), ('MANZANILLO', 90), ('MANZANILLO', 90), ('AMA', 90)]"
      ]
     },
     "execution_count": 493,
     "metadata": {},
     "output_type": "execute_result"
    }
   ],
   "source": [
    "process.extract('MANZANILLO,PANAMA', port_name_list, limit=5)"
   ]
  },
  {
   "cell_type": "code",
   "execution_count": 497,
   "metadata": {},
   "outputs": [
    {
     "data": {
      "text/plain": [
       "[('Shanghai', 94),\n",
       " ('SHANGHAI', 94),\n",
       " ('SHANGHAI PU DONG APT', 80),\n",
       " ('Maji Shan', 74),\n",
       " ('CHIANG-RAI', 74)]"
      ]
     },
     "execution_count": 497,
     "metadata": {},
     "output_type": "execute_result"
    }
   ],
   "source": [
    "process.extract('SHANG HAI', port_name_list, limit=5)"
   ]
  },
  {
   "cell_type": "code",
   "execution_count": null,
   "metadata": {},
   "outputs": [],
   "source": [
    "SHANG HAI GANG"
   ]
  },
  {
   "cell_type": "code",
   "execution_count": null,
   "metadata": {},
   "outputs": [],
   "source": [
    "NLTNZ   NLRTM"
   ]
  },
  {
   "cell_type": "code",
   "execution_count": 511,
   "metadata": {},
   "outputs": [
    {
     "data": {
      "text/plain": [
       "[('Cristobal', 90),\n",
       " ('Ama', 90),\n",
       " ('AMA', 90),\n",
       " ('Panama City, Florida, U.S.A.', 86),\n",
       " ('O P PANAMA', 86)]"
      ]
     },
     "execution_count": 511,
     "metadata": {},
     "output_type": "execute_result"
    }
   ],
   "source": [
    "process.extract('CRISTOBAL-PANAMA', port_name_list, limit=5)"
   ]
  },
  {
   "cell_type": "code",
   "execution_count": 499,
   "metadata": {},
   "outputs": [
    {
     "data": {
      "text/plain": [
       "[('NLRTM', 100), ('NLWRT', 80), ('NLPER', 60), ('NLBOT', 60), ('BRSTM', 60)]"
      ]
     },
     "execution_count": 499,
     "metadata": {},
     "output_type": "execute_result"
    }
   ],
   "source": [
    "process.extract('NLRTM', port_code_dict.keys(), limit=5)"
   ]
  },
  {
   "cell_type": "code",
   "execution_count": null,
   "metadata": {},
   "outputs": [],
   "source": [
    "CRISTOBAL-PANAMA"
   ]
  },
  {
   "cell_type": "code",
   "execution_count": null,
   "metadata": {},
   "outputs": [],
   "source": []
  },
  {
   "cell_type": "code",
   "execution_count": null,
   "metadata": {},
   "outputs": [],
   "source": []
  },
  {
   "cell_type": "code",
   "execution_count": 406,
   "metadata": {},
   "outputs": [],
   "source": [
    "ls = [i for i in range(150013)]"
   ]
  },
  {
   "cell_type": "code",
   "execution_count": 407,
   "metadata": {},
   "outputs": [
    {
     "data": {
      "text/plain": [
       "150013"
      ]
     },
     "execution_count": 407,
     "metadata": {},
     "output_type": "execute_result"
    }
   ],
   "source": [
    "len(ls)"
   ]
  },
  {
   "cell_type": "code",
   "execution_count": 408,
   "metadata": {},
   "outputs": [],
   "source": [
    "step = 2000"
   ]
  },
  {
   "cell_type": "code",
   "execution_count": 390,
   "metadata": {},
   "outputs": [],
   "source": [
    "import math"
   ]
  },
  {
   "cell_type": "code",
   "execution_count": 391,
   "metadata": {},
   "outputs": [
    {
     "data": {
      "text/plain": [
       "76"
      ]
     },
     "execution_count": 391,
     "metadata": {},
     "output_type": "execute_result"
    }
   ],
   "source": [
    "math.ceil(len(l) / step)"
   ]
  },
  {
   "cell_type": "code",
   "execution_count": 409,
   "metadata": {},
   "outputs": [],
   "source": [
    "def chunks(ls, step):\n",
    "    for i in range(0, len(ls), step):\n",
    "        yield ls[i: i + step]"
   ]
  },
  {
   "cell_type": "code",
   "execution_count": 410,
   "metadata": {},
   "outputs": [],
   "source": [
    "ls_groups = chunks(ls, step)"
   ]
  },
  {
   "cell_type": "code",
   "execution_count": 453,
   "metadata": {},
   "outputs": [],
   "source": [
    "des = '>THAILAND'"
   ]
  },
  {
   "cell_type": "code",
   "execution_count": 454,
   "metadata": {},
   "outputs": [],
   "source": [
    "if '>' in str(des):\n",
    "    index = des.index('>') + 1\n",
    "\n",
    "    des_start = des[:index - 1].strip()\n",
    "    des_end = des[index:].strip().strip('>')\n",
    "\n",
    "    if 'OFF' in str(des_end):\n",
    "        index_off = des_end.index('OFF')\n",
    "        des_end = des_end[: index_off].strip()"
   ]
  },
  {
   "cell_type": "code",
   "execution_count": 455,
   "metadata": {},
   "outputs": [
    {
     "name": "stdout",
     "output_type": "stream",
     "text": [
      "\n"
     ]
    }
   ],
   "source": [
    "print(des_start)"
   ]
  },
  {
   "cell_type": "code",
   "execution_count": 457,
   "metadata": {},
   "outputs": [
    {
     "name": "stdout",
     "output_type": "stream",
     "text": [
      "0\n"
     ]
    }
   ],
   "source": [
    "print(len(des_start))"
   ]
  },
  {
   "cell_type": "code",
   "execution_count": 456,
   "metadata": {},
   "outputs": [
    {
     "name": "stdout",
     "output_type": "stream",
     "text": [
      "THAILAND\n"
     ]
    }
   ],
   "source": [
    "print(des_end)"
   ]
  },
  {
   "cell_type": "code",
   "execution_count": null,
   "metadata": {},
   "outputs": [],
   "source": []
  }
 ],
 "metadata": {
  "kernelspec": {
   "display_name": "Python 3",
   "language": "python",
   "name": "python3"
  },
  "language_info": {
   "codemirror_mode": {
    "name": "ipython",
    "version": 3
   },
   "file_extension": ".py",
   "mimetype": "text/x-python",
   "name": "python",
   "nbconvert_exporter": "python",
   "pygments_lexer": "ipython3",
   "version": "3.7.4"
  }
 },
 "nbformat": 4,
 "nbformat_minor": 2
}
