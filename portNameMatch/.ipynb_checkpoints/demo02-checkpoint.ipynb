{
 "cells": [
  {
   "cell_type": "code",
   "execution_count": 1,
   "metadata": {},
   "outputs": [],
   "source": [
    "import pandas as pd"
   ]
  },
  {
   "cell_type": "code",
   "execution_count": 2,
   "metadata": {},
   "outputs": [],
   "source": [
    "from fuzzywuzzy import fuzz"
   ]
  },
  {
   "cell_type": "code",
   "execution_count": 3,
   "metadata": {},
   "outputs": [],
   "source": [
    "from fuzzywuzzy import process"
   ]
  },
  {
   "cell_type": "code",
   "execution_count": 4,
   "metadata": {},
   "outputs": [],
   "source": [
    "port_name_path = './data/port_name.csv'"
   ]
  },
  {
   "cell_type": "code",
   "execution_count": 5,
   "metadata": {},
   "outputs": [],
   "source": [
    "destination_path = './data/destination.csv'"
   ]
  },
  {
   "cell_type": "code",
   "execution_count": 6,
   "metadata": {},
   "outputs": [],
   "source": [
    "df_port_name = pd.read_csv(port_name_path)"
   ]
  },
  {
   "cell_type": "code",
   "execution_count": 7,
   "metadata": {},
   "outputs": [],
   "source": [
    "df_destination = pd.read_csv(destination_path)"
   ]
  },
  {
   "cell_type": "code",
   "execution_count": 8,
   "metadata": {},
   "outputs": [
    {
     "data": {
      "text/html": [
       "<div>\n",
       "<style scoped>\n",
       "    .dataframe tbody tr th:only-of-type {\n",
       "        vertical-align: middle;\n",
       "    }\n",
       "\n",
       "    .dataframe tbody tr th {\n",
       "        vertical-align: top;\n",
       "    }\n",
       "\n",
       "    .dataframe thead th {\n",
       "        text-align: right;\n",
       "    }\n",
       "</style>\n",
       "<table border=\"1\" class=\"dataframe\">\n",
       "  <thead>\n",
       "    <tr style=\"text-align: right;\">\n",
       "      <th></th>\n",
       "      <th>port_name</th>\n",
       "    </tr>\n",
       "  </thead>\n",
       "  <tbody>\n",
       "    <tr>\n",
       "      <td>0</td>\n",
       "      <td>Aabenraa</td>\n",
       "    </tr>\n",
       "    <tr>\n",
       "      <td>1</td>\n",
       "      <td>Aaheim m</td>\n",
       "    </tr>\n",
       "    <tr>\n",
       "      <td>2</td>\n",
       "      <td>Aalborg</td>\n",
       "    </tr>\n",
       "    <tr>\n",
       "      <td>3</td>\n",
       "      <td>Aalvik</td>\n",
       "    </tr>\n",
       "    <tr>\n",
       "      <td>4</td>\n",
       "      <td>Aandalsnes</td>\n",
       "    </tr>\n",
       "  </tbody>\n",
       "</table>\n",
       "</div>"
      ],
      "text/plain": [
       "    port_name\n",
       "0    Aabenraa\n",
       "1    Aaheim m\n",
       "2     Aalborg\n",
       "3      Aalvik\n",
       "4  Aandalsnes"
      ]
     },
     "execution_count": 8,
     "metadata": {},
     "output_type": "execute_result"
    }
   ],
   "source": [
    "df_port_name.head()"
   ]
  },
  {
   "cell_type": "code",
   "execution_count": 9,
   "metadata": {},
   "outputs": [
    {
     "data": {
      "text/html": [
       "<div>\n",
       "<style scoped>\n",
       "    .dataframe tbody tr th:only-of-type {\n",
       "        vertical-align: middle;\n",
       "    }\n",
       "\n",
       "    .dataframe tbody tr th {\n",
       "        vertical-align: top;\n",
       "    }\n",
       "\n",
       "    .dataframe thead th {\n",
       "        text-align: right;\n",
       "    }\n",
       "</style>\n",
       "<table border=\"1\" class=\"dataframe\">\n",
       "  <thead>\n",
       "    <tr style=\"text-align: right;\">\n",
       "      <th></th>\n",
       "      <th>destination</th>\n",
       "      <th>imo</th>\n",
       "      <th>update_time</th>\n",
       "    </tr>\n",
       "  </thead>\n",
       "  <tbody>\n",
       "    <tr>\n",
       "      <td>0</td>\n",
       "      <td>AJAIO</td>\n",
       "      <td>1008205</td>\n",
       "      <td>21/4/2020 03:41:37.744+00</td>\n",
       "    </tr>\n",
       "    <tr>\n",
       "      <td>1</td>\n",
       "      <td>AMSTERDAM</td>\n",
       "      <td>9682370</td>\n",
       "      <td>21/4/2020 03:41:37.744+00</td>\n",
       "    </tr>\n",
       "    <tr>\n",
       "      <td>2</td>\n",
       "      <td>BALBOA</td>\n",
       "      <td>9694414</td>\n",
       "      <td>21/4/2020 03:41:37.744+00</td>\n",
       "    </tr>\n",
       "    <tr>\n",
       "      <td>3</td>\n",
       "      <td>BARCELONA</td>\n",
       "      <td>9297163</td>\n",
       "      <td>21/4/2020 03:41:37.744+00</td>\n",
       "    </tr>\n",
       "    <tr>\n",
       "      <td>4</td>\n",
       "      <td>BCN ANCHORAGE</td>\n",
       "      <td>9470894</td>\n",
       "      <td>21/4/2020 03:41:37.744+00</td>\n",
       "    </tr>\n",
       "  </tbody>\n",
       "</table>\n",
       "</div>"
      ],
      "text/plain": [
       "     destination      imo                update_time\n",
       "0          AJAIO  1008205  21/4/2020 03:41:37.744+00\n",
       "1      AMSTERDAM  9682370  21/4/2020 03:41:37.744+00\n",
       "2         BALBOA  9694414  21/4/2020 03:41:37.744+00\n",
       "3      BARCELONA  9297163  21/4/2020 03:41:37.744+00\n",
       "4  BCN ANCHORAGE  9470894  21/4/2020 03:41:37.744+00"
      ]
     },
     "execution_count": 9,
     "metadata": {},
     "output_type": "execute_result"
    }
   ],
   "source": [
    "df_destination.head()"
   ]
  },
  {
   "cell_type": "code",
   "execution_count": 10,
   "metadata": {},
   "outputs": [],
   "source": [
    "df_target = df_destination[['imo', 'destination']]"
   ]
  },
  {
   "cell_type": "code",
   "execution_count": 11,
   "metadata": {},
   "outputs": [
    {
     "data": {
      "text/html": [
       "<div>\n",
       "<style scoped>\n",
       "    .dataframe tbody tr th:only-of-type {\n",
       "        vertical-align: middle;\n",
       "    }\n",
       "\n",
       "    .dataframe tbody tr th {\n",
       "        vertical-align: top;\n",
       "    }\n",
       "\n",
       "    .dataframe thead th {\n",
       "        text-align: right;\n",
       "    }\n",
       "</style>\n",
       "<table border=\"1\" class=\"dataframe\">\n",
       "  <thead>\n",
       "    <tr style=\"text-align: right;\">\n",
       "      <th></th>\n",
       "      <th>imo</th>\n",
       "      <th>destination</th>\n",
       "    </tr>\n",
       "  </thead>\n",
       "  <tbody>\n",
       "    <tr>\n",
       "      <td>0</td>\n",
       "      <td>1008205</td>\n",
       "      <td>AJAIO</td>\n",
       "    </tr>\n",
       "    <tr>\n",
       "      <td>1</td>\n",
       "      <td>9682370</td>\n",
       "      <td>AMSTERDAM</td>\n",
       "    </tr>\n",
       "    <tr>\n",
       "      <td>2</td>\n",
       "      <td>9694414</td>\n",
       "      <td>BALBOA</td>\n",
       "    </tr>\n",
       "    <tr>\n",
       "      <td>3</td>\n",
       "      <td>9297163</td>\n",
       "      <td>BARCELONA</td>\n",
       "    </tr>\n",
       "    <tr>\n",
       "      <td>4</td>\n",
       "      <td>9470894</td>\n",
       "      <td>BCN ANCHORAGE</td>\n",
       "    </tr>\n",
       "  </tbody>\n",
       "</table>\n",
       "</div>"
      ],
      "text/plain": [
       "       imo    destination\n",
       "0  1008205          AJAIO\n",
       "1  9682370      AMSTERDAM\n",
       "2  9694414         BALBOA\n",
       "3  9297163      BARCELONA\n",
       "4  9470894  BCN ANCHORAGE"
      ]
     },
     "execution_count": 11,
     "metadata": {},
     "output_type": "execute_result"
    }
   ],
   "source": [
    "df_target.head()"
   ]
  },
  {
   "cell_type": "code",
   "execution_count": 12,
   "metadata": {},
   "outputs": [
    {
     "data": {
      "text/plain": [
       "75141"
      ]
     },
     "execution_count": 12,
     "metadata": {},
     "output_type": "execute_result"
    }
   ],
   "source": [
    "len(df_target)"
   ]
  },
  {
   "cell_type": "code",
   "execution_count": 13,
   "metadata": {},
   "outputs": [
    {
     "data": {
      "text/plain": [
       "1000000    63\n",
       "1234567    45\n",
       "8388608    32\n",
       "1048576    28\n",
       "9999999    28\n",
       "           ..\n",
       "9079688     1\n",
       "9271858     1\n",
       "9126833     1\n",
       "9314478     1\n",
       "9351414     1\n",
       "Name: imo, Length: 69994, dtype: int64"
      ]
     },
     "execution_count": 13,
     "metadata": {},
     "output_type": "execute_result"
    }
   ],
   "source": [
    "df_target['imo'].value_counts()"
   ]
  },
  {
   "cell_type": "code",
   "execution_count": 14,
   "metadata": {},
   "outputs": [],
   "source": [
    "port_name_ls = df_port_name['port_name'].tolist()"
   ]
  },
  {
   "cell_type": "code",
   "execution_count": 15,
   "metadata": {},
   "outputs": [],
   "source": [
    "destination_list = df_target['destination'].tolist()"
   ]
  },
  {
   "cell_type": "code",
   "execution_count": null,
   "metadata": {},
   "outputs": [],
   "source": [
    "data = []\n",
    "for des in destination_list:\n",
    "    ratio_list = []\n",
    "    for name in port_name_ls:\n",
    "        ratio = fuzz.token_set_ratio(des, name)\n",
    "        ratio_list.append((name, ratio))    \n",
    "    ratio_rank = sorted(ratio_list, key=lambda x: x[1],reverse=True)[:5]\n",
    "    \n",
    "    scores_list = []\n",
    "    for (name, ratio) in ratio_rank:\n",
    "        scores_list.append(name)\n",
    "        scores_list.append(ratio)\n",
    "    \n",
    "    data.append(scores_list)"
   ]
  },
  {
   "cell_type": "code",
   "execution_count": null,
   "metadata": {},
   "outputs": [],
   "source": [
    "print(data[:5])"
   ]
  },
  {
   "cell_type": "code",
   "execution_count": null,
   "metadata": {},
   "outputs": [],
   "source": [
    "col_name = ['top1', 'score1','top2', 'score2', 'top3', 'score3', 'top4', 'score4', 'top5', 'score5']"
   ]
  },
  {
   "cell_type": "code",
   "execution_count": null,
   "metadata": {},
   "outputs": [],
   "source": [
    "data_df = pd.DataFrame(data, columns=col_name)"
   ]
  },
  {
   "cell_type": "code",
   "execution_count": null,
   "metadata": {},
   "outputs": [],
   "source": [
    "data_df.head()"
   ]
  },
  {
   "cell_type": "code",
   "execution_count": 86,
   "metadata": {},
   "outputs": [],
   "source": [
    "df_result = pd.concat([df_target, data_df], axis=1)"
   ]
  },
  {
   "cell_type": "code",
   "execution_count": 87,
   "metadata": {},
   "outputs": [
    {
     "data": {
      "text/html": [
       "<div>\n",
       "<style scoped>\n",
       "    .dataframe tbody tr th:only-of-type {\n",
       "        vertical-align: middle;\n",
       "    }\n",
       "\n",
       "    .dataframe tbody tr th {\n",
       "        vertical-align: top;\n",
       "    }\n",
       "\n",
       "    .dataframe thead th {\n",
       "        text-align: right;\n",
       "    }\n",
       "</style>\n",
       "<table border=\"1\" class=\"dataframe\">\n",
       "  <thead>\n",
       "    <tr style=\"text-align: right;\">\n",
       "      <th></th>\n",
       "      <th>imo</th>\n",
       "      <th>destination</th>\n",
       "      <th>top1</th>\n",
       "      <th>score1</th>\n",
       "      <th>top2</th>\n",
       "      <th>score2</th>\n",
       "      <th>top3</th>\n",
       "      <th>score3</th>\n",
       "      <th>top4</th>\n",
       "      <th>score4</th>\n",
       "      <th>top5</th>\n",
       "      <th>score5</th>\n",
       "    </tr>\n",
       "  </thead>\n",
       "  <tbody>\n",
       "    <tr>\n",
       "      <td>0</td>\n",
       "      <td>1008205</td>\n",
       "      <td>AJAIO</td>\n",
       "      <td>Ajaccio</td>\n",
       "      <td>83</td>\n",
       "      <td>Itajai</td>\n",
       "      <td>73</td>\n",
       "      <td>Pajaritos</td>\n",
       "      <td>71</td>\n",
       "      <td>Aioi</td>\n",
       "      <td>67</td>\n",
       "      <td>Nanaimo</td>\n",
       "      <td>67</td>\n",
       "    </tr>\n",
       "    <tr>\n",
       "      <td>1</td>\n",
       "      <td>9682370</td>\n",
       "      <td>AMSTERDAM</td>\n",
       "      <td>Amsterdam</td>\n",
       "      <td>100</td>\n",
       "      <td>New Amsterdam</td>\n",
       "      <td>100</td>\n",
       "      <td>Mosterhamn</td>\n",
       "      <td>74</td>\n",
       "      <td>Vasteras</td>\n",
       "      <td>71</td>\n",
       "      <td>Monsteras</td>\n",
       "      <td>67</td>\n",
       "    </tr>\n",
       "    <tr>\n",
       "      <td>2</td>\n",
       "      <td>9694414</td>\n",
       "      <td>BALBOA</td>\n",
       "      <td>Balboa</td>\n",
       "      <td>100</td>\n",
       "      <td>Balamban</td>\n",
       "      <td>71</td>\n",
       "      <td>Balongan</td>\n",
       "      <td>71</td>\n",
       "      <td>Alotau</td>\n",
       "      <td>67</td>\n",
       "      <td>Balhaf</td>\n",
       "      <td>67</td>\n",
       "    </tr>\n",
       "    <tr>\n",
       "      <td>3</td>\n",
       "      <td>9297163</td>\n",
       "      <td>BARCELONA</td>\n",
       "      <td>Barcelona, Spain</td>\n",
       "      <td>100</td>\n",
       "      <td>Balongan</td>\n",
       "      <td>71</td>\n",
       "      <td>Barahona</td>\n",
       "      <td>71</td>\n",
       "      <td>Ancona</td>\n",
       "      <td>67</td>\n",
       "      <td>Balboa</td>\n",
       "      <td>67</td>\n",
       "    </tr>\n",
       "    <tr>\n",
       "      <td>4</td>\n",
       "      <td>9470894</td>\n",
       "      <td>BCN ANCHORAGE</td>\n",
       "      <td>Anchorage</td>\n",
       "      <td>100</td>\n",
       "      <td>Muara Berau Anchorage</td>\n",
       "      <td>82</td>\n",
       "      <td>Muara Pantai Anchorage</td>\n",
       "      <td>82</td>\n",
       "      <td>Muara Sabak Anchorage</td>\n",
       "      <td>82</td>\n",
       "      <td>Taboneo Anchorage</td>\n",
       "      <td>82</td>\n",
       "    </tr>\n",
       "    <tr>\n",
       "      <td>...</td>\n",
       "      <td>...</td>\n",
       "      <td>...</td>\n",
       "      <td>...</td>\n",
       "      <td>...</td>\n",
       "      <td>...</td>\n",
       "      <td>...</td>\n",
       "      <td>...</td>\n",
       "      <td>...</td>\n",
       "      <td>...</td>\n",
       "      <td>...</td>\n",
       "      <td>...</td>\n",
       "      <td>...</td>\n",
       "    </tr>\n",
       "    <tr>\n",
       "      <td>95</td>\n",
       "      <td>9777668</td>\n",
       "      <td>BARCELONA</td>\n",
       "      <td>Barcelona, Spain</td>\n",
       "      <td>100</td>\n",
       "      <td>Balongan</td>\n",
       "      <td>71</td>\n",
       "      <td>Barahona</td>\n",
       "      <td>71</td>\n",
       "      <td>Ancona</td>\n",
       "      <td>67</td>\n",
       "      <td>Balboa</td>\n",
       "      <td>67</td>\n",
       "    </tr>\n",
       "    <tr>\n",
       "      <td>96</td>\n",
       "      <td>8433772</td>\n",
       "      <td>BDAM</td>\n",
       "      <td>Batam</td>\n",
       "      <td>67</td>\n",
       "      <td>Abadan</td>\n",
       "      <td>60</td>\n",
       "      <td>Batumi</td>\n",
       "      <td>60</td>\n",
       "      <td>Belida</td>\n",
       "      <td>60</td>\n",
       "      <td>Bodrum</td>\n",
       "      <td>60</td>\n",
       "    </tr>\n",
       "    <tr>\n",
       "      <td>97</td>\n",
       "      <td>9698434</td>\n",
       "      <td>BEGNE</td>\n",
       "      <td>Benete</td>\n",
       "      <td>73</td>\n",
       "      <td>Bergen</td>\n",
       "      <td>73</td>\n",
       "      <td>Bahregan</td>\n",
       "      <td>62</td>\n",
       "      <td>Belem</td>\n",
       "      <td>60</td>\n",
       "      <td>Benoa</td>\n",
       "      <td>60</td>\n",
       "    </tr>\n",
       "    <tr>\n",
       "      <td>98</td>\n",
       "      <td>9260158</td>\n",
       "      <td>BEIRA</td>\n",
       "      <td>Beira</td>\n",
       "      <td>100</td>\n",
       "      <td>Beihai</td>\n",
       "      <td>73</td>\n",
       "      <td>Beirut</td>\n",
       "      <td>73</td>\n",
       "      <td>Bejaia</td>\n",
       "      <td>73</td>\n",
       "      <td>Belair</td>\n",
       "      <td>73</td>\n",
       "    </tr>\n",
       "    <tr>\n",
       "      <td>99</td>\n",
       "      <td>9708071</td>\n",
       "      <td>BH MIN&gt;AE FJR</td>\n",
       "      <td>Jurong Marine Base</td>\n",
       "      <td>58</td>\n",
       "      <td>Alba, Bahrain</td>\n",
       "      <td>56</td>\n",
       "      <td>Mina Al Fahal</td>\n",
       "      <td>54</td>\n",
       "      <td>Mina Al-Ahmadi</td>\n",
       "      <td>52</td>\n",
       "      <td>Bahia Las Minas</td>\n",
       "      <td>50</td>\n",
       "    </tr>\n",
       "  </tbody>\n",
       "</table>\n",
       "<p>100 rows × 12 columns</p>\n",
       "</div>"
      ],
      "text/plain": [
       "        imo    destination                top1  score1                   top2  \\\n",
       "0   1008205          AJAIO             Ajaccio      83                 Itajai   \n",
       "1   9682370      AMSTERDAM           Amsterdam     100          New Amsterdam   \n",
       "2   9694414         BALBOA              Balboa     100               Balamban   \n",
       "3   9297163      BARCELONA    Barcelona, Spain     100               Balongan   \n",
       "4   9470894  BCN ANCHORAGE           Anchorage     100  Muara Berau Anchorage   \n",
       "..      ...            ...                 ...     ...                    ...   \n",
       "95  9777668      BARCELONA    Barcelona, Spain     100               Balongan   \n",
       "96  8433772           BDAM               Batam      67                 Abadan   \n",
       "97  9698434          BEGNE              Benete      73                 Bergen   \n",
       "98  9260158          BEIRA               Beira     100                 Beihai   \n",
       "99  9708071  BH MIN>AE FJR  Jurong Marine Base      58          Alba, Bahrain   \n",
       "\n",
       "    score2                    top3  score3                   top4  score4  \\\n",
       "0       73               Pajaritos      71                   Aioi      67   \n",
       "1      100              Mosterhamn      74               Vasteras      71   \n",
       "2       71                Balongan      71                 Alotau      67   \n",
       "3       71                Barahona      71                 Ancona      67   \n",
       "4       82  Muara Pantai Anchorage      82  Muara Sabak Anchorage      82   \n",
       "..     ...                     ...     ...                    ...     ...   \n",
       "95      71                Barahona      71                 Ancona      67   \n",
       "96      60                  Batumi      60                 Belida      60   \n",
       "97      73                Bahregan      62                  Belem      60   \n",
       "98      73                  Beirut      73                 Bejaia      73   \n",
       "99      56           Mina Al Fahal      54         Mina Al-Ahmadi      52   \n",
       "\n",
       "                 top5  score5  \n",
       "0             Nanaimo      67  \n",
       "1           Monsteras      67  \n",
       "2              Balhaf      67  \n",
       "3              Balboa      67  \n",
       "4   Taboneo Anchorage      82  \n",
       "..                ...     ...  \n",
       "95             Balboa      67  \n",
       "96             Bodrum      60  \n",
       "97              Benoa      60  \n",
       "98             Belair      73  \n",
       "99    Bahia Las Minas      50  \n",
       "\n",
       "[100 rows x 12 columns]"
      ]
     },
     "execution_count": 87,
     "metadata": {},
     "output_type": "execute_result"
    }
   ],
   "source": [
    "df_result"
   ]
  },
  {
   "cell_type": "code",
   "execution_count": null,
   "metadata": {},
   "outputs": [],
   "source": []
  },
  {
   "cell_type": "code",
   "execution_count": null,
   "metadata": {},
   "outputs": [],
   "source": []
  },
  {
   "cell_type": "code",
   "execution_count": null,
   "metadata": {},
   "outputs": [],
   "source": []
  },
  {
   "cell_type": "code",
   "execution_count": null,
   "metadata": {},
   "outputs": [],
   "source": []
  },
  {
   "cell_type": "code",
   "execution_count": null,
   "metadata": {},
   "outputs": [],
   "source": []
  },
  {
   "cell_type": "code",
   "execution_count": null,
   "metadata": {},
   "outputs": [],
   "source": []
  },
  {
   "cell_type": "code",
   "execution_count": null,
   "metadata": {},
   "outputs": [],
   "source": []
  },
  {
   "cell_type": "code",
   "execution_count": null,
   "metadata": {},
   "outputs": [],
   "source": []
  },
  {
   "cell_type": "code",
   "execution_count": null,
   "metadata": {},
   "outputs": [],
   "source": []
  },
  {
   "cell_type": "code",
   "execution_count": 45,
   "metadata": {},
   "outputs": [
    {
     "name": "stdout",
     "output_type": "stream",
     "text": [
      "[('Ajaccio', 83), ('Itajai', 73), ('Bandar e Shahid Rajai', 72), ('Pajaritos', 72), ('Aioi', 67)]\n"
     ]
    }
   ],
   "source": [
    "scores = process.extract(destination_list[0], port_name_ls, limit=5)\n",
    "\n",
    "\n",
    "print(scores)"
   ]
  },
  {
   "cell_type": "code",
   "execution_count": 43,
   "metadata": {},
   "outputs": [
    {
     "name": "stdout",
     "output_type": "stream",
     "text": [
      "[('Ajaccio', 83), ('Itajai', 73), ('Pajaritos', 71), ('Aioi', 67), ('Nanaimo', 67)]\n"
     ]
    }
   ],
   "source": [
    "ratio_list = []\n",
    "for name in port_name_ls:\n",
    "    ratio = fuzz.token_set_ratio(destination_list[0], name)\n",
    "    ratio_list.append((name, ratio))\n",
    "ratio_sort = sorted(ratio_list, key=lambda x: x[1],reverse=True)[:5]\n",
    "\n",
    "\n",
    "print(ratio_sort)"
   ]
  },
  {
   "cell_type": "code",
   "execution_count": 56,
   "metadata": {},
   "outputs": [
    {
     "name": "stdout",
     "output_type": "stream",
     "text": [
      "[('Cape Preston', 95), ('Preston', 90), ('Cape Town', 86), ('Sandy Cape', 86), ('Brest', 72)]\n",
      "[('Cape Preston', 100), ('Preston', 100), ('Cape Charles', 64), ('Cape Town', 64), ('Charleston', 62)]\n"
     ]
    }
   ],
   "source": [
    "scores = process.extract('CAPE PRESTON AUS.', port_name_ls, limit=5)\n",
    "\n",
    "\n",
    "print(scores)\n",
    "\n",
    "\n",
    "\n",
    "\n",
    "\n",
    "ratio_list = []\n",
    "for name in port_name_ls:\n",
    "    ratio = fuzz.token_set_ratio('CAPE PRESTON AUS.', name)\n",
    "    ratio_list.append((name, ratio))\n",
    "ratio_sort = sorted(ratio_list, key=lambda x: x[1],reverse=True)[:5]\n",
    "\n",
    "\n",
    "print(ratio_sort)"
   ]
  },
  {
   "cell_type": "code",
   "execution_count": null,
   "metadata": {},
   "outputs": [],
   "source": []
  },
  {
   "cell_type": "code",
   "execution_count": null,
   "metadata": {},
   "outputs": [],
   "source": []
  },
  {
   "cell_type": "code",
   "execution_count": null,
   "metadata": {},
   "outputs": [],
   "source": []
  },
  {
   "cell_type": "code",
   "execution_count": 25,
   "metadata": {},
   "outputs": [],
   "source": [
    "tmp = []\n",
    "for (name, score) in scores:\n",
    "    tmp.append(name)\n",
    "    tmp.append(score)"
   ]
  },
  {
   "cell_type": "code",
   "execution_count": 27,
   "metadata": {},
   "outputs": [
    {
     "name": "stdout",
     "output_type": "stream",
     "text": [
      "['Ajaccio', 83, 'Itajai', 73, 'Bandar e Shahid Rajai', 72, 'Pajaritos', 72, 'Aioi', 67]\n"
     ]
    }
   ],
   "source": [
    "print(tmp)"
   ]
  },
  {
   "cell_type": "code",
   "execution_count": 32,
   "metadata": {},
   "outputs": [],
   "source": [
    "l = []"
   ]
  },
  {
   "cell_type": "code",
   "execution_count": 33,
   "metadata": {},
   "outputs": [],
   "source": [
    "l.append(tmp)"
   ]
  },
  {
   "cell_type": "code",
   "execution_count": 35,
   "metadata": {},
   "outputs": [
    {
     "name": "stdout",
     "output_type": "stream",
     "text": [
      "[['Ajaccio', 83, 'Itajai', 73, 'Bandar e Shahid Rajai', 72, 'Pajaritos', 72, 'Aioi', 67]]\n"
     ]
    }
   ],
   "source": [
    "print(l)"
   ]
  },
  {
   "cell_type": "code",
   "execution_count": 38,
   "metadata": {},
   "outputs": [],
   "source": [
    "col_name = ['top1', 'score1','top2', 'score2', 'top3', 'score3', 'top4', 'score4', 'top5', 'score5']"
   ]
  },
  {
   "cell_type": "code",
   "execution_count": 39,
   "metadata": {},
   "outputs": [],
   "source": [
    "tmp_df = pd.DataFrame(l, columns=col_name)"
   ]
  },
  {
   "cell_type": "code",
   "execution_count": 40,
   "metadata": {},
   "outputs": [
    {
     "data": {
      "text/html": [
       "<div>\n",
       "<style scoped>\n",
       "    .dataframe tbody tr th:only-of-type {\n",
       "        vertical-align: middle;\n",
       "    }\n",
       "\n",
       "    .dataframe tbody tr th {\n",
       "        vertical-align: top;\n",
       "    }\n",
       "\n",
       "    .dataframe thead th {\n",
       "        text-align: right;\n",
       "    }\n",
       "</style>\n",
       "<table border=\"1\" class=\"dataframe\">\n",
       "  <thead>\n",
       "    <tr style=\"text-align: right;\">\n",
       "      <th></th>\n",
       "      <th>top1</th>\n",
       "      <th>score1</th>\n",
       "      <th>top2</th>\n",
       "      <th>score2</th>\n",
       "      <th>top3</th>\n",
       "      <th>score3</th>\n",
       "      <th>top4</th>\n",
       "      <th>score4</th>\n",
       "      <th>top5</th>\n",
       "      <th>score5</th>\n",
       "    </tr>\n",
       "  </thead>\n",
       "  <tbody>\n",
       "    <tr>\n",
       "      <td>0</td>\n",
       "      <td>Ajaccio</td>\n",
       "      <td>83</td>\n",
       "      <td>Itajai</td>\n",
       "      <td>73</td>\n",
       "      <td>Bandar e Shahid Rajai</td>\n",
       "      <td>72</td>\n",
       "      <td>Pajaritos</td>\n",
       "      <td>72</td>\n",
       "      <td>Aioi</td>\n",
       "      <td>67</td>\n",
       "    </tr>\n",
       "  </tbody>\n",
       "</table>\n",
       "</div>"
      ],
      "text/plain": [
       "      top1  score1    top2  score2                   top3  score3       top4  \\\n",
       "0  Ajaccio      83  Itajai      73  Bandar e Shahid Rajai      72  Pajaritos   \n",
       "\n",
       "   score4  top5  score5  \n",
       "0      72  Aioi      67  "
      ]
     },
     "execution_count": 40,
     "metadata": {},
     "output_type": "execute_result"
    }
   ],
   "source": [
    "tmp_df"
   ]
  },
  {
   "cell_type": "code",
   "execution_count": null,
   "metadata": {},
   "outputs": [],
   "source": []
  }
 ],
 "metadata": {
  "kernelspec": {
   "display_name": "Python 3",
   "language": "python",
   "name": "python3"
  },
  "language_info": {
   "codemirror_mode": {
    "name": "ipython",
    "version": 3
   },
   "file_extension": ".py",
   "mimetype": "text/x-python",
   "name": "python",
   "nbconvert_exporter": "python",
   "pygments_lexer": "ipython3",
   "version": "3.7.4"
  }
 },
 "nbformat": 4,
 "nbformat_minor": 2
}
