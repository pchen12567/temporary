{
 "cells": [
  {
   "cell_type": "code",
   "execution_count": 1,
   "metadata": {},
   "outputs": [],
   "source": [
    "import pandas as pd"
   ]
  },
  {
   "cell_type": "code",
   "execution_count": 2,
   "metadata": {},
   "outputs": [],
   "source": [
    "from fuzzywuzzy import fuzz"
   ]
  },
  {
   "cell_type": "code",
   "execution_count": 3,
   "metadata": {},
   "outputs": [],
   "source": [
    "from fuzzywuzzy import process"
   ]
  },
  {
   "cell_type": "code",
   "execution_count": 4,
   "metadata": {},
   "outputs": [],
   "source": [
    "port_name_path = './data/port_name.csv'"
   ]
  },
  {
   "cell_type": "code",
   "execution_count": 5,
   "metadata": {},
   "outputs": [],
   "source": [
    "destination_path = './data/destination.csv'"
   ]
  },
  {
   "cell_type": "code",
   "execution_count": 6,
   "metadata": {},
   "outputs": [],
   "source": [
    "df_port_name = pd.read_csv(port_name_path)"
   ]
  },
  {
   "cell_type": "code",
   "execution_count": 7,
   "metadata": {},
   "outputs": [],
   "source": [
    "df_destination = pd.read_csv(destination_path)"
   ]
  },
  {
   "cell_type": "code",
   "execution_count": 8,
   "metadata": {},
   "outputs": [
    {
     "data": {
      "text/html": [
       "<div>\n",
       "<style scoped>\n",
       "    .dataframe tbody tr th:only-of-type {\n",
       "        vertical-align: middle;\n",
       "    }\n",
       "\n",
       "    .dataframe tbody tr th {\n",
       "        vertical-align: top;\n",
       "    }\n",
       "\n",
       "    .dataframe thead th {\n",
       "        text-align: right;\n",
       "    }\n",
       "</style>\n",
       "<table border=\"1\" class=\"dataframe\">\n",
       "  <thead>\n",
       "    <tr style=\"text-align: right;\">\n",
       "      <th></th>\n",
       "      <th>port_name</th>\n",
       "    </tr>\n",
       "  </thead>\n",
       "  <tbody>\n",
       "    <tr>\n",
       "      <td>0</td>\n",
       "      <td>Aabenraa</td>\n",
       "    </tr>\n",
       "    <tr>\n",
       "      <td>1</td>\n",
       "      <td>Aaheim m</td>\n",
       "    </tr>\n",
       "    <tr>\n",
       "      <td>2</td>\n",
       "      <td>Aalborg</td>\n",
       "    </tr>\n",
       "    <tr>\n",
       "      <td>3</td>\n",
       "      <td>Aalvik</td>\n",
       "    </tr>\n",
       "    <tr>\n",
       "      <td>4</td>\n",
       "      <td>Aandalsnes</td>\n",
       "    </tr>\n",
       "  </tbody>\n",
       "</table>\n",
       "</div>"
      ],
      "text/plain": [
       "    port_name\n",
       "0    Aabenraa\n",
       "1    Aaheim m\n",
       "2     Aalborg\n",
       "3      Aalvik\n",
       "4  Aandalsnes"
      ]
     },
     "execution_count": 8,
     "metadata": {},
     "output_type": "execute_result"
    }
   ],
   "source": [
    "df_port_name.head()"
   ]
  },
  {
   "cell_type": "code",
   "execution_count": 9,
   "metadata": {},
   "outputs": [
    {
     "data": {
      "text/html": [
       "<div>\n",
       "<style scoped>\n",
       "    .dataframe tbody tr th:only-of-type {\n",
       "        vertical-align: middle;\n",
       "    }\n",
       "\n",
       "    .dataframe tbody tr th {\n",
       "        vertical-align: top;\n",
       "    }\n",
       "\n",
       "    .dataframe thead th {\n",
       "        text-align: right;\n",
       "    }\n",
       "</style>\n",
       "<table border=\"1\" class=\"dataframe\">\n",
       "  <thead>\n",
       "    <tr style=\"text-align: right;\">\n",
       "      <th></th>\n",
       "      <th>destination</th>\n",
       "      <th>imo</th>\n",
       "      <th>update_time</th>\n",
       "    </tr>\n",
       "  </thead>\n",
       "  <tbody>\n",
       "    <tr>\n",
       "      <td>0</td>\n",
       "      <td>AJAIO</td>\n",
       "      <td>1008205</td>\n",
       "      <td>21/4/2020 03:41:37.744+00</td>\n",
       "    </tr>\n",
       "    <tr>\n",
       "      <td>1</td>\n",
       "      <td>AMSTERDAM</td>\n",
       "      <td>9682370</td>\n",
       "      <td>21/4/2020 03:41:37.744+00</td>\n",
       "    </tr>\n",
       "    <tr>\n",
       "      <td>2</td>\n",
       "      <td>BALBOA</td>\n",
       "      <td>9694414</td>\n",
       "      <td>21/4/2020 03:41:37.744+00</td>\n",
       "    </tr>\n",
       "    <tr>\n",
       "      <td>3</td>\n",
       "      <td>BARCELONA</td>\n",
       "      <td>9297163</td>\n",
       "      <td>21/4/2020 03:41:37.744+00</td>\n",
       "    </tr>\n",
       "    <tr>\n",
       "      <td>4</td>\n",
       "      <td>BCN ANCHORAGE</td>\n",
       "      <td>9470894</td>\n",
       "      <td>21/4/2020 03:41:37.744+00</td>\n",
       "    </tr>\n",
       "  </tbody>\n",
       "</table>\n",
       "</div>"
      ],
      "text/plain": [
       "     destination      imo                update_time\n",
       "0          AJAIO  1008205  21/4/2020 03:41:37.744+00\n",
       "1      AMSTERDAM  9682370  21/4/2020 03:41:37.744+00\n",
       "2         BALBOA  9694414  21/4/2020 03:41:37.744+00\n",
       "3      BARCELONA  9297163  21/4/2020 03:41:37.744+00\n",
       "4  BCN ANCHORAGE  9470894  21/4/2020 03:41:37.744+00"
      ]
     },
     "execution_count": 9,
     "metadata": {},
     "output_type": "execute_result"
    }
   ],
   "source": [
    "df_destination.head()"
   ]
  },
  {
   "cell_type": "code",
   "execution_count": 10,
   "metadata": {},
   "outputs": [],
   "source": [
    "df_target = df_destination[['imo', 'destination']]"
   ]
  },
  {
   "cell_type": "code",
   "execution_count": 11,
   "metadata": {},
   "outputs": [
    {
     "data": {
      "text/html": [
       "<div>\n",
       "<style scoped>\n",
       "    .dataframe tbody tr th:only-of-type {\n",
       "        vertical-align: middle;\n",
       "    }\n",
       "\n",
       "    .dataframe tbody tr th {\n",
       "        vertical-align: top;\n",
       "    }\n",
       "\n",
       "    .dataframe thead th {\n",
       "        text-align: right;\n",
       "    }\n",
       "</style>\n",
       "<table border=\"1\" class=\"dataframe\">\n",
       "  <thead>\n",
       "    <tr style=\"text-align: right;\">\n",
       "      <th></th>\n",
       "      <th>imo</th>\n",
       "      <th>destination</th>\n",
       "    </tr>\n",
       "  </thead>\n",
       "  <tbody>\n",
       "    <tr>\n",
       "      <td>0</td>\n",
       "      <td>1008205</td>\n",
       "      <td>AJAIO</td>\n",
       "    </tr>\n",
       "    <tr>\n",
       "      <td>1</td>\n",
       "      <td>9682370</td>\n",
       "      <td>AMSTERDAM</td>\n",
       "    </tr>\n",
       "    <tr>\n",
       "      <td>2</td>\n",
       "      <td>9694414</td>\n",
       "      <td>BALBOA</td>\n",
       "    </tr>\n",
       "    <tr>\n",
       "      <td>3</td>\n",
       "      <td>9297163</td>\n",
       "      <td>BARCELONA</td>\n",
       "    </tr>\n",
       "    <tr>\n",
       "      <td>4</td>\n",
       "      <td>9470894</td>\n",
       "      <td>BCN ANCHORAGE</td>\n",
       "    </tr>\n",
       "  </tbody>\n",
       "</table>\n",
       "</div>"
      ],
      "text/plain": [
       "       imo    destination\n",
       "0  1008205          AJAIO\n",
       "1  9682370      AMSTERDAM\n",
       "2  9694414         BALBOA\n",
       "3  9297163      BARCELONA\n",
       "4  9470894  BCN ANCHORAGE"
      ]
     },
     "execution_count": 11,
     "metadata": {},
     "output_type": "execute_result"
    }
   ],
   "source": [
    "df_target.head()"
   ]
  },
  {
   "cell_type": "code",
   "execution_count": 12,
   "metadata": {},
   "outputs": [
    {
     "data": {
      "text/plain": [
       "75141"
      ]
     },
     "execution_count": 12,
     "metadata": {},
     "output_type": "execute_result"
    }
   ],
   "source": [
    "len(df_target)"
   ]
  },
  {
   "cell_type": "code",
   "execution_count": 13,
   "metadata": {},
   "outputs": [
    {
     "data": {
      "text/plain": [
       "1000000    63\n",
       "1234567    45\n",
       "8388608    32\n",
       "1048576    28\n",
       "9999999    28\n",
       "           ..\n",
       "9079688     1\n",
       "9271858     1\n",
       "9126833     1\n",
       "9314478     1\n",
       "9351414     1\n",
       "Name: imo, Length: 69994, dtype: int64"
      ]
     },
     "execution_count": 13,
     "metadata": {},
     "output_type": "execute_result"
    }
   ],
   "source": [
    "df_target['imo'].value_counts()"
   ]
  },
  {
   "cell_type": "code",
   "execution_count": 14,
   "metadata": {},
   "outputs": [],
   "source": [
    "port_name_ls = df_port_name['port_name'].tolist()"
   ]
  },
  {
   "cell_type": "code",
   "execution_count": 15,
   "metadata": {},
   "outputs": [],
   "source": [
    "destination_list = df_target['destination'].tolist()"
   ]
  },
  {
   "cell_type": "code",
   "execution_count": 16,
   "metadata": {},
   "outputs": [],
   "source": [
    "data = []\n",
    "for des in destination_list:\n",
    "    ratio_list = []\n",
    "    for name in port_name_ls:\n",
    "        ratio = fuzz.token_set_ratio(des, name)\n",
    "        ratio_list.append((name, ratio))    \n",
    "    ratio_rank = sorted(ratio_list, key=lambda x: x[1],reverse=True)[:5]\n",
    "    \n",
    "    scores_list = []\n",
    "    for (name, ratio) in ratio_rank:\n",
    "        scores_list.append(name)\n",
    "        scores_list.append(ratio)\n",
    "    \n",
    "    data.append(scores_list)"
   ]
  },
  {
   "cell_type": "code",
   "execution_count": 17,
   "metadata": {},
   "outputs": [
    {
     "name": "stdout",
     "output_type": "stream",
     "text": [
      "[['Ajaccio', 83, 'Itajai', 73, 'Pajaritos', 71, 'Aioi', 67, 'Nanaimo', 67], ['Amsterdam', 100, 'New Amsterdam', 100, 'Mosterhamn', 74, 'Vasteras', 71, 'Monsteras', 67], ['Balboa', 100, 'Balamban', 71, 'Balongan', 71, 'Alotau', 67, 'Balhaf', 67], ['Barcelona, Spain', 100, 'Balongan', 71, 'Barahona', 71, 'Ancona', 67, 'Balboa', 67], ['Anchorage', 100, 'Muara Berau Anchorage', 82, 'Muara Pantai Anchorage', 82, 'Muara Sabak Anchorage', 82, 'Taboneo Anchorage', 82]]\n"
     ]
    }
   ],
   "source": [
    "print(data[:5])"
   ]
  },
  {
   "cell_type": "code",
   "execution_count": 18,
   "metadata": {},
   "outputs": [],
   "source": [
    "col_name = ['top1', 'score1','top2', 'score2', 'top3', 'score3', 'top4', 'score4', 'top5', 'score5']"
   ]
  },
  {
   "cell_type": "code",
   "execution_count": 19,
   "metadata": {},
   "outputs": [],
   "source": [
    "data_df = pd.DataFrame(data, columns=col_name)"
   ]
  },
  {
   "cell_type": "code",
   "execution_count": 20,
   "metadata": {},
   "outputs": [
    {
     "data": {
      "text/html": [
       "<div>\n",
       "<style scoped>\n",
       "    .dataframe tbody tr th:only-of-type {\n",
       "        vertical-align: middle;\n",
       "    }\n",
       "\n",
       "    .dataframe tbody tr th {\n",
       "        vertical-align: top;\n",
       "    }\n",
       "\n",
       "    .dataframe thead th {\n",
       "        text-align: right;\n",
       "    }\n",
       "</style>\n",
       "<table border=\"1\" class=\"dataframe\">\n",
       "  <thead>\n",
       "    <tr style=\"text-align: right;\">\n",
       "      <th></th>\n",
       "      <th>top1</th>\n",
       "      <th>score1</th>\n",
       "      <th>top2</th>\n",
       "      <th>score2</th>\n",
       "      <th>top3</th>\n",
       "      <th>score3</th>\n",
       "      <th>top4</th>\n",
       "      <th>score4</th>\n",
       "      <th>top5</th>\n",
       "      <th>score5</th>\n",
       "    </tr>\n",
       "  </thead>\n",
       "  <tbody>\n",
       "    <tr>\n",
       "      <td>0</td>\n",
       "      <td>Ajaccio</td>\n",
       "      <td>83</td>\n",
       "      <td>Itajai</td>\n",
       "      <td>73</td>\n",
       "      <td>Pajaritos</td>\n",
       "      <td>71</td>\n",
       "      <td>Aioi</td>\n",
       "      <td>67</td>\n",
       "      <td>Nanaimo</td>\n",
       "      <td>67</td>\n",
       "    </tr>\n",
       "    <tr>\n",
       "      <td>1</td>\n",
       "      <td>Amsterdam</td>\n",
       "      <td>100</td>\n",
       "      <td>New Amsterdam</td>\n",
       "      <td>100</td>\n",
       "      <td>Mosterhamn</td>\n",
       "      <td>74</td>\n",
       "      <td>Vasteras</td>\n",
       "      <td>71</td>\n",
       "      <td>Monsteras</td>\n",
       "      <td>67</td>\n",
       "    </tr>\n",
       "    <tr>\n",
       "      <td>2</td>\n",
       "      <td>Balboa</td>\n",
       "      <td>100</td>\n",
       "      <td>Balamban</td>\n",
       "      <td>71</td>\n",
       "      <td>Balongan</td>\n",
       "      <td>71</td>\n",
       "      <td>Alotau</td>\n",
       "      <td>67</td>\n",
       "      <td>Balhaf</td>\n",
       "      <td>67</td>\n",
       "    </tr>\n",
       "    <tr>\n",
       "      <td>3</td>\n",
       "      <td>Barcelona, Spain</td>\n",
       "      <td>100</td>\n",
       "      <td>Balongan</td>\n",
       "      <td>71</td>\n",
       "      <td>Barahona</td>\n",
       "      <td>71</td>\n",
       "      <td>Ancona</td>\n",
       "      <td>67</td>\n",
       "      <td>Balboa</td>\n",
       "      <td>67</td>\n",
       "    </tr>\n",
       "    <tr>\n",
       "      <td>4</td>\n",
       "      <td>Anchorage</td>\n",
       "      <td>100</td>\n",
       "      <td>Muara Berau Anchorage</td>\n",
       "      <td>82</td>\n",
       "      <td>Muara Pantai Anchorage</td>\n",
       "      <td>82</td>\n",
       "      <td>Muara Sabak Anchorage</td>\n",
       "      <td>82</td>\n",
       "      <td>Taboneo Anchorage</td>\n",
       "      <td>82</td>\n",
       "    </tr>\n",
       "  </tbody>\n",
       "</table>\n",
       "</div>"
      ],
      "text/plain": [
       "               top1  score1                   top2  score2  \\\n",
       "0           Ajaccio      83                 Itajai      73   \n",
       "1         Amsterdam     100          New Amsterdam     100   \n",
       "2            Balboa     100               Balamban      71   \n",
       "3  Barcelona, Spain     100               Balongan      71   \n",
       "4         Anchorage     100  Muara Berau Anchorage      82   \n",
       "\n",
       "                     top3  score3                   top4  score4  \\\n",
       "0               Pajaritos      71                   Aioi      67   \n",
       "1              Mosterhamn      74               Vasteras      71   \n",
       "2                Balongan      71                 Alotau      67   \n",
       "3                Barahona      71                 Ancona      67   \n",
       "4  Muara Pantai Anchorage      82  Muara Sabak Anchorage      82   \n",
       "\n",
       "                top5  score5  \n",
       "0            Nanaimo      67  \n",
       "1          Monsteras      67  \n",
       "2             Balhaf      67  \n",
       "3             Balboa      67  \n",
       "4  Taboneo Anchorage      82  "
      ]
     },
     "execution_count": 20,
     "metadata": {},
     "output_type": "execute_result"
    }
   ],
   "source": [
    "data_df.head()"
   ]
  },
  {
   "cell_type": "code",
   "execution_count": 21,
   "metadata": {},
   "outputs": [],
   "source": [
    "df_result = pd.concat([df_target, data_df], axis=1)"
   ]
  },
  {
   "cell_type": "code",
   "execution_count": 22,
   "metadata": {},
   "outputs": [
    {
     "data": {
      "text/plain": [
       "75141"
      ]
     },
     "execution_count": 22,
     "metadata": {},
     "output_type": "execute_result"
    }
   ],
   "source": [
    "len(df_result)"
   ]
  },
  {
   "cell_type": "code",
   "execution_count": 25,
   "metadata": {},
   "outputs": [
    {
     "data": {
      "text/html": [
       "<div>\n",
       "<style scoped>\n",
       "    .dataframe tbody tr th:only-of-type {\n",
       "        vertical-align: middle;\n",
       "    }\n",
       "\n",
       "    .dataframe tbody tr th {\n",
       "        vertical-align: top;\n",
       "    }\n",
       "\n",
       "    .dataframe thead th {\n",
       "        text-align: right;\n",
       "    }\n",
       "</style>\n",
       "<table border=\"1\" class=\"dataframe\">\n",
       "  <thead>\n",
       "    <tr style=\"text-align: right;\">\n",
       "      <th></th>\n",
       "      <th>imo</th>\n",
       "      <th>destination</th>\n",
       "      <th>top1</th>\n",
       "      <th>score1</th>\n",
       "      <th>top2</th>\n",
       "      <th>score2</th>\n",
       "      <th>top3</th>\n",
       "      <th>score3</th>\n",
       "      <th>top4</th>\n",
       "      <th>score4</th>\n",
       "      <th>top5</th>\n",
       "      <th>score5</th>\n",
       "    </tr>\n",
       "  </thead>\n",
       "  <tbody>\n",
       "    <tr>\n",
       "      <td>0</td>\n",
       "      <td>1008205</td>\n",
       "      <td>AJAIO</td>\n",
       "      <td>Ajaccio</td>\n",
       "      <td>83</td>\n",
       "      <td>Itajai</td>\n",
       "      <td>73</td>\n",
       "      <td>Pajaritos</td>\n",
       "      <td>71</td>\n",
       "      <td>Aioi</td>\n",
       "      <td>67</td>\n",
       "      <td>Nanaimo</td>\n",
       "      <td>67</td>\n",
       "    </tr>\n",
       "    <tr>\n",
       "      <td>1</td>\n",
       "      <td>9682370</td>\n",
       "      <td>AMSTERDAM</td>\n",
       "      <td>Amsterdam</td>\n",
       "      <td>100</td>\n",
       "      <td>New Amsterdam</td>\n",
       "      <td>100</td>\n",
       "      <td>Mosterhamn</td>\n",
       "      <td>74</td>\n",
       "      <td>Vasteras</td>\n",
       "      <td>71</td>\n",
       "      <td>Monsteras</td>\n",
       "      <td>67</td>\n",
       "    </tr>\n",
       "    <tr>\n",
       "      <td>2</td>\n",
       "      <td>9694414</td>\n",
       "      <td>BALBOA</td>\n",
       "      <td>Balboa</td>\n",
       "      <td>100</td>\n",
       "      <td>Balamban</td>\n",
       "      <td>71</td>\n",
       "      <td>Balongan</td>\n",
       "      <td>71</td>\n",
       "      <td>Alotau</td>\n",
       "      <td>67</td>\n",
       "      <td>Balhaf</td>\n",
       "      <td>67</td>\n",
       "    </tr>\n",
       "    <tr>\n",
       "      <td>3</td>\n",
       "      <td>9297163</td>\n",
       "      <td>BARCELONA</td>\n",
       "      <td>Barcelona, Spain</td>\n",
       "      <td>100</td>\n",
       "      <td>Balongan</td>\n",
       "      <td>71</td>\n",
       "      <td>Barahona</td>\n",
       "      <td>71</td>\n",
       "      <td>Ancona</td>\n",
       "      <td>67</td>\n",
       "      <td>Balboa</td>\n",
       "      <td>67</td>\n",
       "    </tr>\n",
       "    <tr>\n",
       "      <td>4</td>\n",
       "      <td>9470894</td>\n",
       "      <td>BCN ANCHORAGE</td>\n",
       "      <td>Anchorage</td>\n",
       "      <td>100</td>\n",
       "      <td>Muara Berau Anchorage</td>\n",
       "      <td>82</td>\n",
       "      <td>Muara Pantai Anchorage</td>\n",
       "      <td>82</td>\n",
       "      <td>Muara Sabak Anchorage</td>\n",
       "      <td>82</td>\n",
       "      <td>Taboneo Anchorage</td>\n",
       "      <td>82</td>\n",
       "    </tr>\n",
       "  </tbody>\n",
       "</table>\n",
       "</div>"
      ],
      "text/plain": [
       "       imo    destination              top1  score1                   top2  \\\n",
       "0  1008205          AJAIO           Ajaccio      83                 Itajai   \n",
       "1  9682370      AMSTERDAM         Amsterdam     100          New Amsterdam   \n",
       "2  9694414         BALBOA            Balboa     100               Balamban   \n",
       "3  9297163      BARCELONA  Barcelona, Spain     100               Balongan   \n",
       "4  9470894  BCN ANCHORAGE         Anchorage     100  Muara Berau Anchorage   \n",
       "\n",
       "   score2                    top3  score3                   top4  score4  \\\n",
       "0      73               Pajaritos      71                   Aioi      67   \n",
       "1     100              Mosterhamn      74               Vasteras      71   \n",
       "2      71                Balongan      71                 Alotau      67   \n",
       "3      71                Barahona      71                 Ancona      67   \n",
       "4      82  Muara Pantai Anchorage      82  Muara Sabak Anchorage      82   \n",
       "\n",
       "                top5  score5  \n",
       "0            Nanaimo      67  \n",
       "1          Monsteras      67  \n",
       "2             Balhaf      67  \n",
       "3             Balboa      67  \n",
       "4  Taboneo Anchorage      82  "
      ]
     },
     "execution_count": 25,
     "metadata": {},
     "output_type": "execute_result"
    }
   ],
   "source": [
    "df_result.head()"
   ]
  },
  {
   "cell_type": "code",
   "execution_count": 27,
   "metadata": {},
   "outputs": [],
   "source": [
    "df_result.to_csv('./data/result_total.csv', encoding='utf_8', header=1, index=0)"
   ]
  },
  {
   "cell_type": "code",
   "execution_count": null,
   "metadata": {},
   "outputs": [],
   "source": []
  },
  {
   "cell_type": "code",
   "execution_count": null,
   "metadata": {},
   "outputs": [],
   "source": []
  },
  {
   "cell_type": "code",
   "execution_count": null,
   "metadata": {},
   "outputs": [],
   "source": []
  },
  {
   "cell_type": "code",
   "execution_count": null,
   "metadata": {},
   "outputs": [],
   "source": []
  },
  {
   "cell_type": "code",
   "execution_count": 28,
   "metadata": {},
   "outputs": [],
   "source": [
    "port_code_path = './data/port_code.csv'"
   ]
  },
  {
   "cell_type": "code",
   "execution_count": 29,
   "metadata": {},
   "outputs": [],
   "source": [
    "df_port_code = pd.read_csv(port_code_path)"
   ]
  },
  {
   "cell_type": "code",
   "execution_count": 30,
   "metadata": {},
   "outputs": [
    {
     "data": {
      "text/html": [
       "<div>\n",
       "<style scoped>\n",
       "    .dataframe tbody tr th:only-of-type {\n",
       "        vertical-align: middle;\n",
       "    }\n",
       "\n",
       "    .dataframe tbody tr th {\n",
       "        vertical-align: top;\n",
       "    }\n",
       "\n",
       "    .dataframe thead th {\n",
       "        text-align: right;\n",
       "    }\n",
       "</style>\n",
       "<table border=\"1\" class=\"dataframe\">\n",
       "  <thead>\n",
       "    <tr style=\"text-align: right;\">\n",
       "      <th></th>\n",
       "      <th>unctad</th>\n",
       "      <th>name</th>\n",
       "      <th>country_code</th>\n",
       "    </tr>\n",
       "  </thead>\n",
       "  <tbody>\n",
       "    <tr>\n",
       "      <td>0</td>\n",
       "      <td>CNSZX</td>\n",
       "      <td>Shenzhen</td>\n",
       "      <td>CN</td>\n",
       "    </tr>\n",
       "    <tr>\n",
       "      <td>1</td>\n",
       "      <td>VNSGN</td>\n",
       "      <td>Ho Chi Min City (formerly Saigon)</td>\n",
       "      <td>VN</td>\n",
       "    </tr>\n",
       "    <tr>\n",
       "      <td>2</td>\n",
       "      <td>DKAAB</td>\n",
       "      <td>Aabenraa</td>\n",
       "      <td>DK</td>\n",
       "    </tr>\n",
       "    <tr>\n",
       "      <td>3</td>\n",
       "      <td>SGSIN</td>\n",
       "      <td>Singapore</td>\n",
       "      <td>SG</td>\n",
       "    </tr>\n",
       "    <tr>\n",
       "      <td>4</td>\n",
       "      <td>INNSA</td>\n",
       "      <td>NHAVA SHEVA</td>\n",
       "      <td>IN</td>\n",
       "    </tr>\n",
       "  </tbody>\n",
       "</table>\n",
       "</div>"
      ],
      "text/plain": [
       "  unctad                               name country_code\n",
       "0  CNSZX                           Shenzhen           CN\n",
       "1  VNSGN  Ho Chi Min City (formerly Saigon)           VN\n",
       "2  DKAAB                           Aabenraa           DK\n",
       "3  SGSIN                          Singapore           SG\n",
       "4  INNSA                        NHAVA SHEVA           IN"
      ]
     },
     "execution_count": 30,
     "metadata": {},
     "output_type": "execute_result"
    }
   ],
   "source": [
    "df_port_code.head()"
   ]
  },
  {
   "cell_type": "code",
   "execution_count": 31,
   "metadata": {},
   "outputs": [],
   "source": [
    "code_list = df_port_code['unctad'].tolist()"
   ]
  },
  {
   "cell_type": "code",
   "execution_count": 32,
   "metadata": {},
   "outputs": [],
   "source": [
    "name_list = df_port_code['name'].tolist()"
   ]
  },
  {
   "cell_type": "code",
   "execution_count": 33,
   "metadata": {},
   "outputs": [],
   "source": [
    "code_dic = {}\n",
    "for code, name in zip(code_list, name_list):\n",
    "    code_dic[code] = name"
   ]
  },
  {
   "cell_type": "code",
   "execution_count": 37,
   "metadata": {},
   "outputs": [
    {
     "name": "stdout",
     "output_type": "stream",
     "text": [
      "{'CNSZX': 'Shenzhen', 'VNSGN': 'Ho Chi Min City (formerly Saigon)', 'DKAAB': 'Aabenraa', 'SGSIN': 'Singapore', 'INNSA': 'Jawaharlal Nehru Port', '123': 'Nanjingjing', 'ARROS': 'Rosario, Argentina', 'NOAHM': 'Aaheim m', 'COMAM': 'Mamonal', 'JPHSM': 'Hososhima', 'XZANT': 'Ardjuna', 'FIPRS': 'Jacobstad', 'VEMTV': 'Matanzas, Venezuela', 'MYTMP': 'Tanjung Manis', 'AERWP': 'RUWAIS', 'AESHJ': 'Sharjah', 'AEMZD': 'Umm Al Nar', 'JPKUC': 'Kuchinotsu', 'AEZUR': 'Zirku Island', 'GRKLL': 'Kali Limenes', 'CMKBI': 'Kribi', 'CNHUI': 'Huizhou', 'USBTJ': 'Bethel', 'INIXY': 'Kandla', 'CUANT': 'Antilla', 'VEPCZ': 'Puerto La Cruz', 'NZNPL': 'New Plymouth', 'FIKRS': 'Kristinestad', 'ARMDQ': 'Mar del Plata', 'AUWEI': 'Weipa', 'AUKUR': 'Kurnell', 'BRBEL': 'Belem', 'BRPNG': 'Paranagua', 'CLCNR': 'Chanaral', 'CNLSN': 'Lanshan', 'CRLIO': 'Puerto Limon', 'COTCO': 'Tumaco', 'ESALD': 'Alcudia', 'FRMRS': 'Marseilles', 'IEWAT': 'Waterford', 'ILETH': 'Eilat', 'GBHRW': 'Harwich', 'GBHTP': 'Hartlepool', 'GBRUN': 'Runcorn', 'DESTL': 'Stralsund', 'DKENS': 'Ensted', 'INKRI': 'Krishnapatnam', 'INKRW': 'Karwar - North Port', 'DKHOR': 'Horsens', 'MXGYM': 'Guaymas', 'SLPEP': 'Pepel', 'TWHUN': 'Hualien', 'JPOSA': 'Osaka', 'PNPCN': 'Pitcairn Island', 'PRBQN': 'Aguadilla', 'ERASA': 'Assab', 'ERMSW': 'Massawa', 'JPSHS': 'Shimonoseki', 'JPSMN': 'Sakaiminato', 'LVRIX': 'Riga', 'LVVNT': 'Ventspils', 'NOBVK': 'Brevik', 'BEZEL': 'Zelzate', 'FJLEV': 'Levuka', 'JPYWT': 'Yawata', 'KEMBA': 'Mombasa', 'KPNAM': 'Nampo', 'LCCAS': 'Castries', 'NGLOS': 'Lagos, Nigeria', 'IDDPS': 'Denpasar', 'MQFDF': 'Fort de France', 'MXSCR': 'San Carlos', 'NOARE': 'Arendal', 'CABAY': 'Bayside', 'NLRTM': 'Rotterdam', 'NOHAU': 'Haugesund', 'NOMON': 'Mongstad', 'NOSVG': 'Stavanger', 'PHZAM': 'Zamboanga', 'PEPAI': 'Paita', 'PGRAB': 'Rabaul', 'RUPRI': 'Primorsk', 'SEDOM': 'Domsjo', 'SYBAN': 'Banias', 'SENRK': 'Norrkoping', 'THRYG': 'Rayong', 'FRBOL': 'Boulogne-sur-Mer', 'GBTOR': 'Torbay Harbour', 'USAST': 'Astoria, Oregon, U.S.A.', 'USAVD': 'Avondale', 'FIKEM': 'Kemi', 'USDVT': 'Davant', 'USPLQ': 'Plaquemine', 'USMAR': 'Marrero', 'FRTLN': 'Toulon', 'USTIV': 'Tiverton', 'GBFAS': 'Faslane', 'PLGDY': 'Gdynia', 'GBJAR': 'Jarrow - Shell UK Berth', 'GBTAB': 'Tarbert, (Kintyre), U.K.', 'HNPCA': 'Puerto Castilla', 'GMBJL': 'Banjul', 'GQBSG': 'Bata - Puerto Nuevo', 'LKHBA': 'Hambantota', 'TNMBA': 'Menzel Bourguiba', 'GWOXB': 'Bissau', '\\tTNSU': 'Sousse', 'AOMAL': 'Malongo', 'ARCVI': 'Caleta Olivia', 'ARBDE': 'Escobar', 'CAQUE': 'Quebec', 'ARRGA': 'Rio Grande (Arg)', 'AUKOI': 'KOOLAN ISLAND', 'AULST': 'Launceston', 'CNJMN': 'Jiangmen', 'HRSIB': 'Sibenik', 'CABCO': 'Baie Comeau', 'UYPDP': 'Punta Del Este', 'IRBND': 'Bandar Abbas', 'IRBKM': 'Bandar Imam Khomeini', 'GBFOL': 'Folkestone', 'IDPNK': 'Pontianak', 'GBGLO': 'Gloucester', 'CASNI': 'Sarnia', 'GBWHV': 'Whitehaven', 'INBUD': 'Budge Budge', 'INCCJ': 'Calicut', 'ITCAG': 'Cagliari', 'TTTEM': 'Tembladora', 'INHZR': 'Hazira', 'JPHIS': 'Hikoshima', 'CLCHB': 'Chacabuco', 'KZAAU': 'Aktau', 'JPABU': 'Aburatsu', 'SAJUT': 'Ju\"aymah', 'LYTOB': 'Tobruk', 'SESSR': 'Skutskar', ' SXPH': 'Philipsburg', 'MGFTU': 'Fort Dauphin', 'MYLUT': 'Lutong', 'NCPNY': 'Prony Port', 'NLPER': 'Pernis', 'PHRTB': 'Rio Tuba', 'NOSTE': 'Steinkjer', 'NOVAL': 'Valloy', 'SEKSD': 'Karlstad', 'PHHON': 'Hondagua', 'VILIB': 'Limetree Bay', 'PHSUA': 'Sual Port', 'ROTCE': 'Tulcea', 'USMQI': 'Quincy (Ma)', 'RUMAG': 'Magadan', 'SEROR': 'Ronnskar', 'SNLYN': 'Lyndiane', 'USBYB': 'Boynton Beach', 'BRAJU': 'Aracaju', 'USNTV': 'Northville', 'AUBTB': 'Botany Bay', 'BRSFS': 'Sao Francisco do Sul', 'CNSHG': 'Shanghai', 'CMKOL': 'Kole', 'BRQNS': 'Canoas', 'AUPUG': 'Port Augusta', 'JPHRM': 'Haramachi', 'USPAU': 'Paulsboro', 'VNVUT': 'Vung Tau', 'ZACPT': 'Cape Town', 'KRCHF': 'Jinhae', 'ITGEA': 'Gela', 'AUMIB': 'Groote Eylandt', 'JPAMA': 'Amagasaki', 'JPAXT': 'Akita', 'GBLOW': 'Lowestoft', 'GBMLF': 'Milford Haven', 'JPHKD': 'Hakodate', 'JPHKT': 'Hakata', 'AUTRB': 'Trial Bay', 'JPHMK': 'Himekawa', 'PRPSE': 'Ponce', 'RUKOR': 'Korsakov', 'SEKAA': 'Karlskrona', 'CNSHK': 'Shekou', 'CNWEI': 'Wei Hai', 'GBLEI': 'Leith', 'USHNL': 'Honolulu', 'GBPRU': 'Portbury', 'CUMOA': 'Moa', 'GBMON': 'Montrose, U.K.', 'CNXMN': 'Xiamen', 'CNYIK': 'Yingkou', 'CNYPG': 'Yangpu', 'CNYTN': 'Yantian', 'CNZHA': 'Zhanjiang (formerly Tsamkong)', 'CNZJG': 'Zhangjiagang', 'CNZOS': 'Zhoushan', 'CNZPU': 'Zhapu', 'CNZUH': 'Zhuhai', 'CNZZU': 'Zhangzhou', 'COCTG': 'Cartagena, Colombia', 'COCVE': 'Covenas', 'DKHLS': 'Helsingor', 'MAEUN': 'Laayoune', 'MPSPN': 'Saipan', 'MYKCH': 'Kuching', 'NLBOT': 'Botlek', 'NOFAX': 'Fagerstrand', 'VCKTN': 'Kingstown, St. Vincent', 'VEAMY': 'Amuay Bay', 'VEPCN': 'Punta Cardon', 'HKHKG': 'Hong Kong', 'JPNAS': 'Naoshima', 'JPFSK': 'Fushiki', 'DOBRX': 'Barahona', 'VNUIH': 'Qui Nhon', 'VNVPH': 'Van Phong Bay', 'ESMPG': 'Marin', 'PRNRR': 'Roosevelt Roads', 'ZADUR': 'Durban', 'LBJIE': 'Jieh Port', 'ZAELS': 'East London', 'ESSVQ': 'Seville', 'VNBHO': 'Bach Ho', 'GNCKY': 'Conakry', 'ITQOS': 'Oristano', 'GBPFT': 'Purfleet', 'CACOC': 'Contrecoeur', 'VECBS': 'Cabimas', 'VECUP': 'Carupano (Venezuela)', 'VIFRD': 'Frederiksted', 'FRSNR': 'St Nazaire', 'VECLM': 'Catia La Mar', 'JMPRH': 'Port Rhoades', 'JPFKY': 'Fukuyama', 'JPKGA': 'Kakogawa', 'NOSAD': 'Sandefjord', 'JPHHE': 'Hachinohe', 'LYKHO': 'Khoms', 'JPKMT': 'Kimitsu', 'JPKOK': 'Kokura', 'JPKOM': 'Komatsushima', 'INENR': 'Ennore', 'ARDGU': 'Del Guazu', 'JPOND': 'Onoda', 'JPOTR': 'Otaru', 'NOPOR': 'Porsgrunn', 'JPTKY': 'Tokuyama', 'JPTMK': 'Tomakomai', 'JPTOY': 'Toyama', 'JPTYO': 'Tokyo', 'JPUBJ': 'Ube', 'MGMJN': 'Mahajunga', 'GBRER': 'Redcar', 'IDANR': 'ANYER', 'LYMRA': 'Misurata', 'MGDIE': 'Diego Suarez', 'MRNDB': 'Nouadhibou', 'MRNKC': 'Nouakchott', 'MTMAR': 'Marsaxlokk', 'MUPLU': 'Port Louis', 'MXCZM': 'Cozumel', 'MXDBT': 'Dos Bocas', 'NOBLL': 'Ballangen', 'MXESE': 'Ensenada, Mexico', 'RUDKA': 'De Kastri', 'IDBTN': 'Banten', 'IDKAT': 'Kalianget', 'KRKWA': 'KWANGYANG', 'AUNTE': 'Northern Endeavour', 'INNPT': 'Nagapattinam', 'NOMAY': 'Maaloy', 'pgmag': 'Madang', 'VEELC': 'El Chaure', 'VEEGU': 'El Guamache', 'AUGRV': 'Griffin Venture', 'AUJAB': 'Jabiru Venture', 'IDMDR': 'Madura', 'TWMLI': 'Mailiao', 'PHMVS': 'Mariveles', 'PHMAS': 'Masao', 'NONYH': 'Nyhamna', 'SEKAX': 'Kalix', 'IDTJB': 'Karimun', 'IDJBT': 'Jabung Batanghari Marine Terminal', 'IDMUD': 'Muara Jawa', 'IDMSK': 'Muara Sabak Anchorage', 'ILHAD': 'Hadera', 'LVMRX': 'Mersrags', 'MXMRE': 'Morro Redondo', 'VECUM': 'Cumana', 'NOHRI': 'Hareid', 'INGPR': 'Gopalpur', 'THKAN': 'Kantang', 'VEGUT': 'Guanta', 'VEPBL': 'Puerto Cabello', 'VUVLI': 'Port Vila', 'YEHOD': 'Hodeidah', 'YEMKX': 'Mukalla', 'NOFAN': 'Farsund', 'PEPCH': 'Puerto Chicama', 'KROKK': 'Okkye', 'MANNA': 'Kenitra', 'MATTA': 'Tan Tan', 'MAPTM': 'Tanger Med', 'AEQIW': 'Umm Al Quwain', 'RUSKA': 'Slavyanka', 'JPNAN': 'Nakanoseki', 'CNAQG': 'Anqing', 'MMAKY': 'Akyab', 'NOALF': 'Alta', 'NOKMY': 'Karmoy', 'CNWEF': 'Weifang', 'NOLND': 'Lyngdal', 'PHMAL': 'Malampaya Calm Buoy', 'NOVAO': 'Vardo', 'NZORR': 'Otago Harbour', 'PAPBM': 'Bahia Las Minas', 'GBASG': 'Ardrishaig', 'JPSBK': 'Senboku', 'IDLSW': 'Lhokseumawe', 'PGROR': 'Oro Bay', 'PGWWK': 'Wewak', 'PHCSI': 'Ajuy', 'PHCBY': 'Calbayog', 'PHPUL': 'Pulupandan', 'ITPRL': 'Priolo', 'JPSGM': 'Shiogama', 'KPHGM': 'Hungnam', 'MXNAN': 'Nanchital', 'PECHY': 'Chancay', 'PRARE': 'Arecibo', 'ROMAG': 'Mangalia', 'RUDKS': 'Dikson Harbour', 'RUNEV': 'Nevelsk', 'THKHA': 'Khanom', 'RUNIA': 'Nikolaevsk On Amur', 'RUPSE': 'Posyet', 'THMAT': 'MAP TA PHUT', 'SEDEG': 'Degerhamn', 'SEHAN': 'Hargshamn', 'VNCMT': 'Cai Mep', 'BDMGL': 'Mongla', 'JPAOK': 'Aokata', 'TRGIR': 'Giresun', 'USSSI': 'Brunswick (Ga)', 'NZHAS': 'Hastings', 'USFLL': 'Fort Lauderdale', 'USKUA': 'Kaunakakai', 'JPFKM': 'Fuku Shima', 'JPKNA': 'Kawagoe', 'USENW': 'Kenosha', 'USKTN': 'Ketchikan', 'COSMR': 'Santa Marta', 'USYON': 'Yonkers', 'COTRB': 'Turbo', 'JOAQJ': 'Aqaba', 'PH WN': 'Naga', 'JPKOJ': 'Kagoshima', 'VECMR': 'Cumarebo', 'VEPCA': 'Punta Camacho', 'VEGUB': 'Guaranao', 'ARZAE': 'Zarate', 'AUHBA': 'Hobart', 'HKTOL': 'Tolo Harbour', 'USBLI': 'Bellingham', 'USRHD': 'Riverhead', 'KRMOK': 'Mokpo', 'CYLCA': 'Larnaca', 'DEKEL': 'Kiel', 'FIINK': 'Inkoo', 'GRLVR': 'Aliveri Bay', 'BGNES': 'Nessabar', 'FRBIA': 'Bastia', 'GRITA': 'Itea', 'GRSTN': 'Aspra Spitia', 'HRBAK': 'Bakar', 'GRKGS': 'Kos', 'AEMBS': 'Halat al Mubarraz', 'CNYZH': 'Yangzhou', 'CAIOC': 'Ioco', 'CNZHE': 'Zhenjiang', 'DZAZW': 'Arzew', 'EETLL': 'Tallinn - Miinisadam', 'SARTA': 'Ras Tanura', 'SAYNB': 'Yanbu', 'TRAMR': 'Ambarli', 'COBAQ': 'Barranquilla', 'COBUN': 'Buenaventura', 'COPBO': 'Puerto Bolivar, Colombia', 'CRCAL': 'Caldera, Costa Rica', 'CNSDG': 'Shuidong', 'CNSHP': 'Qinhuangdao', 'ESALC': 'Alicante', 'ESLCG': 'Coruna', 'GBLDY': 'Londonderry', 'GBLIV': 'Liverpool, U.K.', 'GBLON': 'London', 'HROMI': 'Port Dina', 'IDCXP': 'Cilacap', 'USGON': 'New London', 'USLCH': 'Lake Charles - LNG Berths', 'IDMRK': 'Merak', 'JPKNU': 'Kinuura', 'IDPDG': 'Padang', 'PHCGY': 'Cagayan de Oro', 'PRSJU': 'San Juan, Puerto Rico (U.S.A.)', 'IDSRG': 'Semarang', 'IDSUB': 'Surabaya', 'INBOM': 'Bombay', 'INCCU': 'Calcutta', 'INMUN': 'Mundra', 'INNML': 'New Mangalore', 'JPCHB': 'Chiba', 'KRTSN': 'Daesan', 'DEHTU': 'Holtenau', 'JPHIJ': 'Hiroshima', 'JPKWS': 'Kawasaki', 'RUVYP': 'Vostochnyy', 'RUYEY': 'Yeysk', 'SAGIZ': 'Gizan', 'SAJUB': 'King Fahd Industrial Port (Jubail)', 'JPYKK': 'Yokkaichi - LNG', 'NOKSU': 'Kristiansund N.', 'SJBAR': 'Barentsburg', 'JPUNO': 'Uno', 'CAKIN': 'Kingston, Ontario, Canada', 'CAKTM': 'Kitimat', 'JPWAM': 'Wakamatsu', 'JPYOK': 'Yokohama', 'MGNOS': 'Nossi-Be', 'MMRGN': 'Rangoon', 'MXCOA': 'Coatzacoalcos', 'USMIA': 'Miami', 'NZTRG': 'Tauranga', 'ARCMP': 'Campana', 'ARCOU': 'Concepcion del Uruguay', 'ARCRD': 'Comodoro Rivadavia', 'PHCEB': 'Cebu', 'MYBKI': 'Kota Kinabalu', 'MYMKZ': 'Malacca', 'MYPKG': 'Port Klang - Pelabuhan Ultra - North Port', 'ARSNS': 'San Nicolas, Argentina', 'ARSSN': 'San Sebastian, Argentina', 'AUBNE': 'Brisbane', 'AUBUY': 'Bunbury', 'NGBON': 'Bonny', 'BNSER': 'Seria', 'NLVLI': 'Flushing', 'NOFRK': 'Fredrikstad', 'USCHI': 'Chicago', 'USCRP': 'Corpus Christi', 'AUBEL': 'Bell Bay', 'AUBME': 'Broome', 'AEJED': 'Jebel Dhanna - Ruwais', 'AEKLF': 'Khor Fakkan', 'AEMSA': 'Mina Saqr', 'AEPRA': 'Port Rashid', 'AGSJO': 'St John\"\"s, (Antigua), Antigua and Barbuda', 'ITPES': 'Pesaro', 'USHNS': 'Haines', 'ALDRZ': 'Durres', 'ARSLO': 'San Lorenzo, Argentina', 'USEWB': 'New Bedford', 'ARVCN': 'Villa Constitucion', 'ASPPG': 'Pago Pago', 'AUADL': 'Adelaide', 'AUALH': 'Albany, W.A., Australia', 'TRDIL': 'Diliskelesi', 'USSUE': 'Sturgeon Bay', 'USKAE': 'Kake', 'TRTEK': 'Tekirdag', 'USBTR': 'Baton Rouge', 'USCEN': 'St James, Louisiana, U.S.A.', 'USFPO': 'Freeport, Texas, U.S.A.', 'ARBHI': 'Bahia Blanca', 'ARBUE': 'Buenos Aires', 'AEABU': 'Abu Al Bukhoosh', 'AEDAS': 'Das Island', 'AEFJR': 'Fujairah', 'AEJEA': 'Jebel Ali', 'ALVOA': 'Vlore', 'AOCAB': 'Cabinda', 'AOLAD': 'Luanda', 'AOLOB': 'Lobito', 'AOPAT': 'Palanca', 'AOSZA': 'Soyo', 'ARDME': 'Diamante', 'ARIBY': 'Ibicuy', 'AUFRE': 'Fremantle', 'INIXZ': 'Port Blair', 'ARLPG': 'La Plata', 'ARNEC': 'Necochea', 'ARPRA': 'Parana', 'ARPRS': 'Puerto Rosales', 'BRCDO': 'Cabedelo', 'BRRIG': 'Rio Grande', 'ARRAM': 'Ramallo', 'ARSAE': 'San Antonio Este', 'CALWP': 'Lewisporte', 'ARSFN': 'Santa Fe', 'AUBWB': 'Barrow Island', 'AUBWT': 'Burnie', 'AUCNS': 'Cairns', 'AUDAM': 'Dampier', 'AUDPO': 'Devonport, Tas., Australia', 'AUDRW': 'Darwin, N.T., Australia', 'AUEPR': 'Esperance', 'ITPFX': 'Sarroch', 'AUGET': 'Geraldton', 'BRARB': 'Aratu', 'AUGEX': 'Geelong', 'AUGLT': 'Gladstone, Qld., Australia', 'AUWAL': 'Wallaroo', 'AUTHE': 'Thevenard', 'AUTSV': 'Townsville', 'AUWNB': 'Withnell Bay', 'AUWYA': 'Whyalla', 'AWSNL': 'San Nicolas Coastal Inner Harbour, Aruba (Netherlands)', 'BDCGP': 'Chittagong', 'BRTUB': 'Tubarao', 'AUGOV': 'Gove', 'AUKRB': 'Karumba', 'BQEUX': 'St Eustatius', 'AUKWI': 'Kwinana (Refinery)', 'AUMEL': 'Melbourne', 'AUMKY': 'Mackay', 'AUMOU': 'Mourilyan', 'AUNTL': 'Newcastle', 'AUONS': 'Onslow', 'AUPBY': 'Port Bonython', 'AUPGI': 'Port Giles', 'AUPHE': 'Port Hedland', 'AUPKL': 'Port Kembla', 'AUPLA': 'Port Latta', 'AUPLO': 'Port Lincoln', 'AUPPI': 'Port Pirie', 'AUPTL': 'Port Alma', 'AUPWL': 'Port Walcott', 'AUQDN': 'Eden', 'AUSYD': 'Sydney, N.S.W., Australia', 'BEANR': 'Antwerp', 'BEGNE': 'Ghent', 'BEZEE': 'Zeebrugge', 'BGBOJ': 'Bourgas', 'BJCOO': 'Cotonou', 'BNMUA': 'Muara Port', 'EGRAG': 'Ras Gharib', 'BRADR': 'Angra dos Reis', 'BRFOR': 'Fortaleza', 'BRMAO': 'Manaus', 'BRSSO': 'Sao Sebastiao', 'BRSSZ': 'Santos', 'CAPTU': 'Point Tupper', 'CAVAN': 'Vancouver, B.C., Canada', 'CNDDG': 'Dandong', 'FRBES': 'Brest', 'DEBRV': 'Bremerhaven', 'BRSTM': 'Santarem', 'BRSUA': 'Suape', 'BRREC': 'Recife', 'IECOB': 'Cobh', 'ITPIO': 'Piombino', 'ITPEM': 'Porto Empedocle', 'BRSSA': 'Salvador', 'BRTRM': 'Tramandai', 'BRVIX': 'Vitoria, Brazil', 'BSFPO': 'Freeport, (Grand Bahama Is.), Bahamas', 'BSNAS': 'Nassau', 'BZBZE': 'Belize', 'CACBC': 'Come-By-Chance', 'CAHAL': 'Halifax', 'CAMTR': 'Montreal', 'CAPHW': 'Port Hawkesbury - Wright Point Oil Berth', 'CNCGS': 'Changshu', 'CLARI': 'Arica', 'CLCNL': 'Coronel', 'CLCNX': 'Cabo Negro', 'CUCFG': 'Cienfuegos', 'CLIQQ': 'Iquique', 'CLPMC': 'Puerto Montt', 'CAVIC': 'Victoria, B.C., Canada', 'CIABJ': 'Abidjan', 'ITPNG': 'Porto Nogaro', 'ITPSS': 'Porto Santo Stefano', 'ITPTO': 'Porto Torres', 'ITPVE': 'Porto Vesme', 'CLANF': 'Antofagasta', 'CLPUQ': 'Punta Arenas', 'CLQTV': 'Quintero', 'CLSVE': 'San Vicente, Chile', 'CLTOQ': 'Tocopilla', 'CLVAP': 'Valparaiso', 'CNCWN': 'Chiwan', 'CNLKU': 'Longkou', 'CNMJS': 'Maji Shan', 'CNMWN': 'Mawan', 'CNNSA': 'Nansha', 'CNNTG': 'Nantong', 'CUNVT': 'Nuevitas (Puerto Tarafa)', 'ESBIO': 'Bilbao', 'EGWAF': 'Wadi Firan', 'IDSKP': 'Sekupang', 'CNWNZ': 'Wenzhou', 'CMLIT': 'Cape Limboh', 'GBERI': 'Erith', 'DEHAM': 'Hamburg', 'DERSK': 'Rostock', 'CNBSP': 'Basuo', 'CNBYQ': 'Bayuquan', 'EGSGA': 'Safaga', 'CNDSN': 'Dongshan', 'CNFAN': 'Fangcheng', 'CRMOB': 'Puerto Moin', 'CRPAS': 'Puntarenas', 'CNHGH': 'Hangzhou', 'CNJNZ': 'Jinzhou', 'ITPZL': 'Pozzallo', 'ESCAD': 'Cadiz Bay', 'GBCBT': 'Campbeltown', 'MYKUD': 'Kudat', 'UABGD': 'Belgorod Dnestrovsky', 'GBLER': 'Lerwick', 'EGRSH': 'Ras Shukheir', 'CNPLI': 'Penglai', 'CNQZH': 'Qinzhou', 'CNRPG': 'Raoping', 'CNSHD': 'Shidao', 'CUGUB': 'Guantanamo', 'CUHAV': 'Havana', 'CUMZO': 'Manzanillo, Cuba', 'CUMAR': 'Mariel', 'CUQMA': 'Matanzas, Cuba', 'COPOC': 'Pozos Colorados', 'CWWIL': 'Willemstad, (Curacao), Netherlands Antilles', 'CXXCH': 'Christmas Island', 'ESAGP': 'Malaga', 'CYDHK': 'Dhekelia', 'CYLMS': 'Limassol', 'CYVAS': 'Vassiliko Bay', 'DEBRB': 'Brunsbuttel', 'DEBRE': 'Bremen', 'DEEME': 'Emden', 'DELBC': 'Lubeck', 'DESTA': 'Stade', 'DEWVN': 'Wilhelmshaven', 'DJJIB': 'Djibouti', 'UAILK': 'Chornomorsk', 'GBFAW': 'Fawley', 'DEECK': 'Eckernforde', 'DKAAL': 'Aalborg', 'DKAAR': 'Aarhus', 'DKCPH': 'Copenhagen', 'ESALG': 'Algeciras', 'ESAVS': 'Aviles', 'DKFRC': 'Fredericia', 'DKGFH': 'Gulfhavn', 'DOHAI': 'Rio Haina', 'DZAAE': 'Annaba', 'DZALG': 'Algiers', 'DZBJA': 'Bejaia', 'DZDJE': 'Djen-Djen', 'ESTAR': 'Tarragona', 'ESVGO': 'Vigo', 'DZGHZ': 'Ghazaouet', 'CUPPA': 'Puerto Padre', 'GBCDF': 'Cardiff', 'DZMOS': 'Mostaganem', 'DZORN': 'Oran', 'DZSKI': 'Skikda', 'ECESM': 'Esmeraldas', 'ECGYE': 'Guayaquil', 'EEPLA': 'Paldiski South Harbour', 'EGALY': 'Alexandria, Egypt', 'EGDAM': 'Damietta', 'EGPSD': 'Port Said', 'EGSKT': 'Sidi Kerir', 'IDSOQ': 'Sorong', 'FIVAA': 'Vaasa', 'ESACA': 'Alcanar', 'ESBCN': 'Barcelona, Spain', 'ESIBZ': 'Ibiza', 'ESLEI': 'Almeria', 'IDTBA': 'Tanjung Bara', 'IDTRK': 'Tarakan', 'IEBYT': 'Bantry Bay', 'IEDUB': 'Dublin', 'ESCAR': 'Cartagena, Spain', 'ESCEU': 'Ceuta', 'ESCRS': 'Carboneras', 'ESFRO': 'Ferrol', 'ILAKL': 'Ashkelon', 'ESGAR': 'Garrucha', 'ESGIJ': 'Gijon', 'ESHUV': 'Huelva', 'IEFOV': 'Foynes Harbour', 'CUSCU': 'Santiago de Cuba', 'CVRAI': 'Praia', 'CVSID': 'Sal Is.', 'CVVXE': 'St Vincent', 'GBCTM': 'Chatham Docks U.K.', 'GBDUN': 'Dundee', 'ESMAH': 'Mahon', 'FIRAU': 'Rauma', 'ESMOT': 'Motril', 'ESPAS': 'Pasajes', 'ESPMI': 'Palma', 'ESROT': 'Rota, Spain', 'FRDKK': 'Dunkirk, France', 'FRDON': 'Donges', 'FRFOS': 'Fos', 'FRLAV': 'Lavera', 'CVMIN': 'Mindelo', 'CYAKT': 'Akrotiri', 'CYFMG': 'Famagusta', 'FRBOD': 'Bordeaux', 'FRLRT': 'Lorient', 'FRPAP': 'Pauillac', 'ESSAG': 'Sagunto', 'IEWHI': 'Whitegate', 'GBDVR': 'Dover, U.K.', 'GBELL': 'Ellesmere Port', 'GBFAL': 'Falmouth, U.K.', 'DEFLF': 'Flensburg', 'DENHA': 'Nordenham', 'ESSCI': 'San Ciprian', 'ESSCR': 'San Carlos de la Rapita', 'ESSDR': 'Santander', 'ESVIL': 'Villagarcia de Arosa', 'ESVLC': 'Valencia', 'FIHEL': 'Helsinki', 'FIHMN': 'Hamina', 'FIKTK': 'Kotka', 'FINLI': 'Naantali', 'FRPET': 'Petit Couronne', 'FRPJE': 'Port Jerome', 'IEORK': 'Cork', 'ILASH': 'Ashdod', 'FRSET': 'Sete', 'FRURO': 'Rouen', 'GAGAX': 'Gamba', 'CYMOI': 'Moni', 'CYKAR': 'Xeros', 'DEBKE': 'Brake', 'DEBUZ': 'Butzfleth', 'DECUX': 'Cuxhaven', 'GBFOY': 'Fowey', 'GBABD': 'Aberdeen, U.K.', 'GBAUL': 'Loch Ewe', 'GBAVO': 'Avonmouth', 'GBBAD': 'Barry', 'GBBEL': 'Belfast, U.K.', 'GBBFB': 'Braefoot Bay', 'GBBLY': 'Blyth', 'GBBOS': 'Boston, U.K.', 'GBBRS': 'Bristol, U.K.', 'GBFNT': 'Finnart', 'GBFXT': 'Felixstowe', 'GBGLW': 'Glasgow', 'GBGRG': 'Grangemouth', 'GBGRK': 'Greenock', 'JMMBJ': 'Montego Bay', 'GBGSA': 'Glensanda', 'GBGSY': 'Grimsby', 'GBGTY': 'Great Yarmouth', 'GBHAM': 'Hamble', 'GBHLY': 'Holyhead', 'GBHPT': 'Hound Point', 'JPMIN': 'Minamata', 'GBHST': 'Hunterston', 'GBIMM': 'Immingham Dock', 'GBINV': 'Inverness', 'GBIPS': 'Ipswich', 'GBIVG': 'Invergordon', 'GBKGH': 'Killingholme', 'GBKLN': 'King\"\"s Lynn', 'GBKNK': 'Kingsnorth', 'DKASS': 'Asnaes', 'DKASN': 'Assens', 'GBKWL': 'Kirkwall', 'GBLAR': 'Larne', 'GQSSG': 'Malabo', 'GRGPA': 'Patras', 'GRKVA': 'Kavalla', 'GRPIR': 'Piraeus', 'DKKAL': 'Kalundborg', 'DKKOG': 'Koge', 'HNSLO': 'San Lorenzo, Honduras', 'ILHFA': 'Haifa', 'INALA': 'Alang', 'INBHU': 'Bhavnagar', 'INCDL': 'Cuddalore', 'HRRJK': 'Rijeka', 'HRZAD': 'Zadar', 'IDCIW': 'Ciwandan', 'IDDUM': 'Dumai', 'IDITN': 'Tanjung Uban', 'GBNHO': 'New Holland', 'GBNPT': 'Newport, Wales, U.K.', 'GBOAK': 'Oakham Ness', 'GBPHD': 'Peterhead ', 'GBPLY': 'Plymouth, U.K.', 'GBPME': 'Portsmouth, U.K.', 'GBPOO': 'Poole', 'GBPTB': 'Port Talbot', 'GBPTL': 'Portland, U.K.', 'GBRMG': 'Ramsgate', 'GBROY': 'Rosyth', 'GBSCR': 'Scrabster', 'GBSED': 'Saltend', 'ITPMO': 'Palermo', 'ITRAN': 'Ravenna', 'GBSFW': 'Scapa Flow', 'GBSHS': 'Sheerness', 'GBSUL': 'Sullom Voe', 'GBSUN': 'Sunderland', 'GBSWA': 'Swansea, U.K.', 'GBTEE': 'Teesport', 'GBTRA': 'Tranmere', 'GBWPT': 'Warrenpoint', 'GEPTI': 'Poti', 'GHTEM': 'Tema', 'GIGIB': 'Gibraltar', 'GRAGT': 'Agioi Theodoroi', 'IRKHK': 'Kharg Island', 'INSAL': 'Salaya', 'MYSBW': 'Sibu', 'GRASS': 'Aspropyrgos', 'GRSKG': 'Thessaloniki', 'DKKOL': 'Kolding', 'GRVOL': 'Volos', 'IDAMA': 'Amamapare', 'NOBGO': 'Bergen', 'GTPRQ': 'Puerto Quetzal', 'GTSNJ': 'San Jose, Guatemala', 'GTSTC': 'Santo Tomas de Castilla', 'HNPCR': 'Puerto Cortes', 'DKKRR': 'Korsor', 'FIPOR': 'Pori', 'HNTEA': 'Tela', 'DETRV': 'Travemunde', 'IDAMQ': 'Ambon', 'IDBDJ': 'Banjarmasin', 'IDBIT': 'Bitung', 'IDBLL': 'Blang Lancang', 'ITGIT': 'Gioia Tauro', 'ITGOA': 'Genoa - Avamporto', 'IDBUA': 'Bula', 'DKEBJ': 'Esbjerg', 'TRGUL': 'Gulluk', 'IDLUW': 'Luwuk', 'IDPLM': 'Palembang', 'IDPNJ': 'Panjang', 'IDBYQ': 'Pulo Bunyu', 'IDCIG': 'Cigading', 'IDKAB': 'Kabil', 'ITGAE': 'Gaeta', 'DKFDH': 'Frederikshavn', 'DKGED': 'Gedser', 'IDKOE': 'Kupang', 'IDKTJ': 'Kuala Tanjung', 'IDLLA': 'Lawi Lawi', 'GBLAH': 'Lamlash', 'ITBDS': 'Brindisi', 'ITSPE': 'La Spezia', 'INMAA': 'Chennai (formerly Madras)', 'INMRM': 'Mormugao', 'ITSVN': 'Savona', 'ITTAR': 'Taranto', 'ITTRS': 'Trieste', 'IDPRO': 'Probolinggo', 'DOSDQ': 'Santo Domingo', 'GBLIT': 'Littlehampton', 'IDPSS': 'Pulau Sambu', 'IDPTL': 'Pantoloan', 'NOEGD': 'Egersund', 'IRLVP': 'Lavan Island', 'JPSMT': 'Shimotsu', 'SETRG': 'Trelleborg', 'IDPUM': 'Pomalaa', 'IDSBG': 'Sabang', 'DKGRE': 'Grenaa', 'INKAK': 'Kakinada', 'JMKIN': 'Kingston, Jamaica', 'JMOCJ': 'Ocho Rios', 'IQKHA': 'Khor-al-Amaya', 'USAVQ': 'Avon', 'GBSHV': 'London Gateway Port', 'GBMNC': 'Manchester', 'INNAV': 'Navlakhi', 'INVAD': 'Vadinar', 'INVVA': 'Veraval', 'IODGA': 'Diego Garcia', 'ITBRI': 'Bari', 'ITFAL': 'Falconara', 'ITLIV': 'Livorno', 'ITMLZ': 'Milazzo', 'ITMNF': 'Monfalcone', 'ITMSN': 'Messina', 'ITNAP': 'Naples, Italy', 'IQKAZ': 'Khor al Zubair', 'NOBOO': 'Bodo', 'NODRM': 'Drammen', 'IRMRX': 'Bandar Mahshahr', 'IRSXI': 'Sirri Island', 'ITAOI': 'Ancona', 'ITAUG': 'Augusta, (Sicily), Italy', 'ITFCO': 'Fiumicino', 'JPIKW': 'Ishikawa', 'ITPMA': 'Porto Marghera', 'DKNAK': 'Nakskov', 'DKNBG': 'Nyborg, Denmark', 'DKNYF': 'Nykobing, (Falster), Denmark', 'DKODE': 'Odense', 'DKRAN': 'Randers', 'DKRNN': 'Ronne', 'JMPEV': 'Port Esquivel', 'JMPKS': 'Port Kaiser', 'JPNAH': 'Naha', 'JPNAO': 'Naoetsu', 'JPNGO': 'Nagoya', 'DKSKB': 'Skaerbaek', 'DKSKA': 'Skagen', 'DKSGD': 'Sonderborg', 'DKSSV': 'Studstrup', 'DKVEJ': 'Vejle', 'DMPOR': 'Portsmouth, Dominica', 'JMPOT': 'Port Antonio', 'MZINH': 'Inhambane', 'AUWYN': 'Wyndham', 'JMROP': 'Rocky Point, Jamaica', 'JPAOJ': 'Aomori', 'DKHIR': 'Hirtshals', 'JPSMZ': 'Shimizu, (Honshu), Japan', 'EEPRN': 'Parnu', 'JPATM': 'Atsumi', 'JPCTA': 'Chita - LNG', 'JPNGS': 'Nagasaki', 'JPNIH': 'Niigata-Higashi', 'JPETA': 'Etajima', 'JPFKJ': 'Fukui', 'JPGAM': 'Gamagori', 'JPMYJ': 'Matsuyama', 'JPHBK': 'Hibikinada', 'DOLRM': 'La Romana', 'DOPOP': 'Puerto Plata', 'DOPVA': 'Puerto Viejo de Azua', 'DOSPM': 'San Pedro de Macoris', 'DOCAU': 'Caucedo', 'JPHIB': 'Hibi', 'CANNO': 'Nanaimo', 'JPHIM': 'Himeji', 'LYLMQ': 'Marsa el Brega', 'JPKKW': 'Kanokawa', 'JPHTC': 'Hitachi', 'JPIHA': 'Niihama', 'SIKOP': 'Koper', 'DOCBJ': 'Cabo Rojo', 'JPISG': 'Ishigaki', 'ECLLD': 'La Libertad, Ecuador', 'ECPBO': 'Puerto Bolivar, Ecuador', 'JPISM': 'Ishinomaki', 'JPIWK': 'Iwakuni', 'JPKAR': 'Karatsu', 'JPKII': 'Kiire', 'JPKIK': 'Kikuma', 'JPKIN': 'Kin Wan (Okinawa)', 'JPKIS': 'Kamaishi', 'TTCLA': 'Claxton Bay', 'JPNSR': 'Noshiro', 'JPNIT': 'Namikata', 'EEKND': 'Kunda', 'JPKND': 'Kanda', 'PESVY': 'Salaverry', 'JPKRE': 'Kure', 'JPKSM': 'Kashima', 'JPKUD': 'Kudamatsu', 'JPKUH': 'Kushiro', 'JPKZU': 'Kisarazu', 'USSCK': 'Stockton', 'JPMAI': 'Maizuru', 'JPMAT': 'Matsushima', 'JPMIZ': 'Mizushima', 'JPMOJ': 'Moji', 'JPMUR': 'Muroran', 'EGAIS': 'Ain Sukhna', 'EGEDK': 'El Dekheila', 'EGPTK': 'Port Tawfiq', 'JPOFT': 'Ofunato', 'KHPNH': 'Phnom Penh', 'JPONA': 'Onahama', 'JPSSB': 'Sasebo', 'SLFNA': 'Freetown', 'MHMAJ': 'Majuro', 'CABWD': 'Botwood', 'SEOST': 'Ostrand', 'BRITA': 'Itacoatiara', 'BRITJ': 'Itajai', 'FIHKO': 'Hanko', 'JPOWA': 'Owase', 'JPRHK': 'Reihoku', 'LVLPX': 'Liepaja', 'JPRMI': 'Rumoi', 'JPUKB': 'Kobe', 'PGPOM': 'Port Moresby', 'NOAES': 'Alesund', 'NOAGO': 'Agotnes', 'MAJFL': 'Jorf Lasfar', 'JPTMI': 'Tsukumi', 'JPSUZ': 'Susaki', 'JPTAK': 'Takamatsu', 'JPTBT': 'Tobata', 'BRMCP': 'Macapa', 'LYBOU': 'Bouri', 'LYESI': 'Es Sider', 'JPTHR': 'Takehara', 'JPTHS': 'Toyohashi', 'JPWKJ': 'Wakkanai', 'JPYAN': 'Yanai', 'JPSAK': 'Sakai', 'JPSBS': 'Shibushi', 'JPSDJ': 'Sendai', 'JPSKD': 'Sakaide', 'JPSKM': 'Shikama', 'JPSKT': 'Sakata', 'LYBEN': 'Benghazi', 'JPTRG': 'Tsuruga', 'NGWAR': 'Warri', 'MZMPM': 'Maputo', 'NOBRE': 'Bremanger', 'JPWAK': 'Wakayama', 'FIOUL': 'Oulu', 'FITKU': 'Turku', 'FIUKI': 'Uusikaupunki', 'MZMMW': 'Moma', 'NGESC': 'Escravos', 'NGONN': 'Onne', 'JPYAT': 'Yatsushiro', 'JPYOS': 'Yokosuka', 'NGSPL': 'Sapele', 'MYKUA': 'Kuantan', 'KRINC': 'Inchon', 'KRKPO': 'Pohang', 'KRKUV': 'Gunsan', 'TWSHL': 'Sha Lung', 'MACAS': 'Casablanca', 'MATNG': 'Tangier', 'SEYST': 'Ystad', 'KRMAS': 'Masan', 'KRPTK': 'Pyeong Taek', 'KRPUS': 'Busan', 'KRSCP': 'Samcheon Po', 'KRTAN': 'Taean', 'KRUSN': 'Ulsan', 'KRYOS': 'Yosu', 'KWMEA': 'Mina Al-Ahmadi', 'FI VK': 'Valkom', 'FIKOK': 'Yxpila', 'FJLTK': 'Lautoka', 'KWMIB': 'Mina Abdulla', 'NICIO': 'Corinto', 'NIPSN': 'Puerto Sandino', 'MAMOH': 'Mohammedia', 'MANDR': 'Nador', 'MASFI': 'Safi', 'KWSAA': 'Shuaiba', 'KWSWK': 'Shuwaikh', 'LBBEY': 'Beirut', 'LBKYE': 'Tripoli, Lebanon', 'LBSDN': 'Sidon', 'NOSAU': 'Sauda', 'MAAGA': 'Agadir', 'MXSCX': 'Salina Cruz', 'LKCMB': 'Colombo', 'PRGUY': 'Guayanilla', 'TRGEM': 'Gemlik', 'TWKHH': 'Kaohsiung', 'USMTW': 'Manitowoc', 'TWTPE': 'Taipei', 'TWTXG': 'Taichung', 'NRINU': 'Nauru', 'LKGAL': 'Galle', 'LKTRR': 'Trincomalee', 'LRMLW': 'Monrovia', 'LRUCN': 'Buchanan', 'MZMNC': 'Nacala', 'LYMHR': 'Marsa al Hariga', 'LYRLA': 'Ras Lanuf', 'LYTIP': 'Tripoli, Libya', 'BEOST': 'Ostend', 'CACBK': 'Corner Brook', 'NGKOK': 'Koko', 'CADHS': 'Dalhousie, N.B., Canada', 'MTMLA': 'Malta (Grand Harbour)', 'NOGLO': 'Glomfjord', 'GREEU': 'Eleusis', 'MVMLE': 'Male', 'MXATM': 'Altamira, Mexico', 'MXCAT': 'Cayo Arcas', 'MXLAP': 'La Paz', 'MXLZC': 'Lazaro Cardenas', 'MZMZQ': 'Mocambique', 'GBCAX': 'Carlisle', 'USCDB': 'Cold Bay', 'USDLG': 'Dillingham', 'USEVT': 'Everett, Massachusetts, U.S.A.', 'GBMIS': 'Mistley', 'MXMZT': 'Mazatlan', 'MXPGO': 'Progreso', 'MXRST': 'Rosarito', 'NZAKL': 'Auckland', 'MYLBU': 'Labuan', 'MYLDU': 'Lahad Datu', 'MXTAM': 'Tampico', 'MXTPB': 'Topolobampo', 'USGRY': 'Gramercy', 'USHRE': 'Harlem', 'MXTUX': 'Tuxpan', 'NLIJM': 'Ijmuiden', 'SGPUB': 'Pulau Bukom', 'NOHAL': 'Halden', 'NOARD': 'Ardalstangen', 'NALUD': 'Luderitz', 'NAWVB': 'Walvis Bay', 'NCNOU': 'Noumea', 'NGCBQ': 'Calabar', 'FJSUV': 'Suva', 'NOSUN': 'Sunndalsora', 'MXZLO': 'Manzanillo, Mexico', 'MYKEM': 'Kemaman', 'MYKET': 'Kerteh Port', 'MYLUM': 'Lumut, Malaya, Malaysia', 'MYMYY': 'Miri', 'MYPDI': 'Port Dickson', 'MYPEN': 'Penang', 'NOELN': 'Elnesvagen', 'NOFRO': 'Floro', 'NOHFT': 'Hammerfest', 'MYSDK': 'Sandakan', 'MYSPT': 'Sipitang', 'MYTPP': 'Tanjung Pelepas', 'MYTWU': 'Tawau', 'MZBEW': 'Beira', 'NGPEN': 'Pennington', 'NGPHC': 'Port Harcourt', 'NGQIB': 'Qua Iboe', 'NLAMS': 'Amsterdam', 'NLDHR': 'Den Helder', 'NLDOR': 'Dordrecht', 'NLEEM': 'Eemshaven', 'NLHAR': 'Harlingen', 'NLMOE': 'Moerdijk', 'NLSCE': 'Scheveningen', 'NLTNZ': 'Terneuzen', 'NLVEL': 'Velsen', 'CA DA': 'Dartmouth, N.S., Canada', 'NOMSS': 'Moss', 'NONVK': 'Narvik', 'NOODD': 'Odda', 'NOSLM': 'Slemmestad', 'SCPOV': 'Port Victoria', 'SDMBH': 'Marsa Bashayer', 'NZWLG': 'Wellington, New Zealand', 'NZWRE': 'Whangarei', 'OMSOH': 'Sohar Port', 'NOMQN': 'Mo-I-Rana', 'NOHRD': 'Harstad', 'NOHRY': 'Heroya', 'NOKAR': 'Karsto', 'NOKKN': 'Kirkenes', 'CATRR': 'Three Rivers', 'CATHU': 'Thunder Bay', 'NOKRS': 'Kristiansand S.', 'NOLAR': 'Larvik', 'NOMAN': 'Mandal', 'NOMJF': 'Mosjoen', 'NOOSL': 'Oslo', 'NOOSY': 'Namsos', 'PETYL': 'Talara', 'FJVAT': 'Vatia', 'PGANB': 'Anewa Bay; Bougainville Island', 'BGBAL': 'Balchik', 'NOSTU': 'Sture', 'CLCQQ': 'Coquimbo', 'TRINE': 'Inebolu', 'PHNON': 'Nonoc Island', 'PHPRO': 'Poro', 'PHSFS': 'Subic Bay', 'PTSET': 'Setubal', 'NOSVE': 'Svelgen', 'NOSVJ': 'Svolvaer', 'NOTON': 'Tonsberg', 'NOTOS': 'Tromso', 'NOTRD': 'Trondheim', 'NOVDS': 'Vadso', 'NZBLU': 'Bluff, New Zealand', 'NZDUD': 'Dunedin', 'NZGIS': 'Gisborne', 'NZLYT': 'Lyttelton', 'NZMAP': 'Marsden Point', 'QARLF': 'Ras Laffan', 'QAUMS': 'Umm Said - Iron Ore Berths', 'ROCND': 'Constantza', 'ROMID': 'Midia', 'NZNPE': 'Napier', 'NZNSN': 'Nelson, New Zealand', 'NZTIU': 'Timaru', 'PHVNV': 'Villanueva', 'SOBBO': 'Berbera', 'PAAML': 'Puerto Armuelles', 'PABLB': 'Balboa', 'PACHG': 'Chiriqui Grande', 'PACTB': 'Cristobal', 'PAMNP': 'Puerto Las Minas', 'PAPAM': 'Almirante', 'PECHM': 'Chimbote', 'PECLL': 'Callao', 'RUTUA': 'Tuapse', 'RUVIT': 'Vitino', 'RUVNN': 'Vanino', 'RUVVO': 'Vladivostok', 'RUVYG': 'Vyborg', 'PEILQ': 'Ilo', 'PEIQT': 'Iquitos', 'PELPP': 'La Pampilla', 'PEMLQ': 'Mollendo', 'SEFAG': 'Falkenberg', 'GBNCL': 'Newcastle Upon Tyne', 'PEMRI': 'Matarani', 'PEPAM': 'Paramonga', 'PHILO': 'Iloilo', 'PEPIO': 'Pisco', 'PEPUB': 'Puerto Bayovar', 'PESNX': 'San Nicolas, Peru', 'SEBRO': 'Brofjorden', 'SGSEB': 'Pulau Sebarok', 'YEADE': 'Aden', 'PHBCD': 'Bacolod', 'PHBTG': 'Batangas', 'PHBTN': 'Bataan', 'GRIGO': 'Igoumenitsa', 'PTLIS': 'Lisbon', 'PHCAA': 'Calaca', 'PHDVO': 'Davao', 'PHGES': 'General Santos', 'PHIGN': 'Iligan', 'PKKHI': 'Karachi', 'PLGDN': 'Gdansk', 'PLPLC': 'Police', 'PLSWI': 'Swinoujscie', 'FJVUD': 'Vuda Point', 'SEKAN': 'Karlshamn', 'PLSZZ': 'Stettin', 'GBNHV': 'Newhaven (Uk)', 'PRMAZ': 'Mayaguez', 'TRKFZ': 'Korfez', 'TRLMA': 'Limas', 'FRRCO': 'Rochefort', 'PRYAB': 'Yabucoa', 'PTAVE': 'Aveiro', 'PTFNC': 'Funchal', 'PTLEI': 'Leixoes', 'FRSML': 'St Malo', 'PTSIE': 'Sines', 'PTVDC': 'Viana do Castelo', 'QADOH': 'Doha', 'QAHAL': 'Halul Island', 'RUARH': 'Archangel', 'RUBLT': 'Baltiysk', 'RUIKS': 'Tiksi', 'GAOWE': 'Owendo', 'SESLI': 'Slite', 'SESOE': 'Sodertalje', 'FRDPE': 'Dieppe', 'SEUDD': 'Uddevalla', 'SEUME': 'Umea', 'SEVAG': 'Varberg', 'GBNGG': 'Nigg Tmnl', 'FRLVE': 'Le Verdon', 'RUKDT': 'Kronshtadt', 'RUKHO': 'Kholmsk', 'RULED': 'St Petersburg, Russia', 'RUMMK': 'Murmansk', 'RUNJK': 'Nakhodka', 'RUNVS': 'Novorossiysk', 'SEGOT': 'Gothenburg', 'RUTAG': 'Taganrog', 'SESKR': 'Skredsvik', 'SADMM': 'Dammam', 'SAJED': 'Jeddah', 'SARAB': 'Rabigh', 'SARAR': 'Ras Al-Khafji', 'FIKAS': 'Kaskinen', 'PHISL': 'Isabel', 'PRLAM': 'Las Mareas', 'SDPZU': 'Port Sudan', 'SEAHU': 'Ahus', 'SELLA': 'Lulea', 'SEGVX': 'Gavle', 'USBDR': 'Bridgeport', 'SEHAD': 'Halmstad', 'SEHAK': 'Hallstavik', 'SEHEL': 'Helsingborg', 'SEHND': 'Hernosund', 'SEVST': 'Vasteras', 'SEHUV': 'Hudiksvall', 'SEKLR': 'Kalmar', 'SEKOG': 'Koping', 'SELAA': 'Landskrona', 'SELYS': 'Lysekil', 'SEMMA': 'Malmo', 'SENYN': 'Nynashamn', 'TRIZM': 'Izmir', 'USBNC': 'Benicia', 'USBNP': 'Brayton Point', 'USBOS': 'Boston, Massachusetts, U.S.A.', 'GRKLX': 'Kalamata', 'SEOER': 'Ornskoldsvik', 'SEOSK': 'Oskarshamn', 'THHKT': 'Phuket', 'UAODS': 'Odessa', 'UASVP': 'Sevastopol', 'UAYUZ': 'Yuzhny', 'TRHAY': 'Haydarpasa', 'TRHOP': 'Hopa', 'TRISK': 'Iskenderun', 'SEOXE': 'Oxelosund', 'SEPIT': 'Pitea', 'PTHOR': 'Horta', 'SESDL': 'Sundsvall', 'FRNTE': 'Nantes', 'FRNCE': 'Nice', 'SESOL': 'Solvesborg', 'SESOO': 'Soderhamn', 'SESTE': 'Stenungsund', 'SNDKR': 'Dakar', 'TNGAE': 'Port De Ghannouch', 'TRIST': 'Istanbul', 'FRBAY': 'Bayonne, France', 'SOMGQ': 'Mogadishu', 'SRPBM': 'Paramaribo', 'SRPRM': 'Paranam', 'SVAQJ': 'Acajutla', 'TRMRM': 'Marmaris', 'TRMER': 'Mersin', 'SYLTK': 'Lattakia', 'SYTTS': 'Tartous', 'PHJNZ': 'Jimenez', 'PTTER': 'Terceira Island', 'FRPDB': 'Port de Bouc', 'TGLFW': 'Lome', 'THBKK': 'Bangkok', 'THLCH': 'Laem Chabang', 'TTPTF': 'Point Fortin', 'TTPTG': 'Galeota Point', 'TTPTS': 'Point Lisas', 'TRALI': 'Aliaga', 'GBPSB': 'Port Sutton Bridge', 'TRSSX': 'Samsun', 'THSAT': 'Sattahip', 'THSGZ': 'Songhkla', 'THSRI': 'Sriracha', 'TNASH': 'Ashtart', 'TNBIZ': 'Bizerte', 'USBAL': 'Baltimore - Locust Point, Maryland, U.S.A.', 'USBPT': 'Beaumont', 'USBRO': 'Brownsville', 'PHSMR': 'Semirara', 'TNLGN': 'La Goulette', 'FKPSY': 'Port Stanley, Falkland Is. (U.K.)', 'FRAJA': 'Ajaccio', 'TNRDS': 'Rades', 'TNSFA': 'Sfax', 'TOTBU': 'Nuku\"alofa', 'TRNEM': 'Nemrut Limani', 'TRAYT': 'Antalya', 'TRTUT': 'Tutuncifilik', 'TRTZX': 'Trabzon', 'TRBDM': 'Bandirma', 'TRCKZ': 'Canakkale', 'TRDRC': 'Derince', 'TRERE': 'Karadeniz Eregli', 'TRGEB': 'Gebze', 'NOAAV': 'Aalvik', 'FRBEC': 'Bec d\"Ambes', 'FRCQF': 'Calais, France', 'FRCER': 'Cherbourg', 'TRYUM': 'Yumurtalik', 'TRZON': 'Zonguldak', 'TRKRB': 'Karabiga', 'TTPOS': 'Port of Spain', 'TZDAR': 'Dar-es-Salaam', 'USHVR': 'Havre', 'FRHON': 'Honfleur', 'FRLMD': 'La Mede', 'FRNOU': 'La Nouvelle', 'USHOU': 'Houston', 'USHPY': 'Baytown', 'USILG': 'Wilmington, Delaware, U.S.A.', 'USILM': 'Wilmington, North Carolina, U.S.A.', 'USITO': 'Hilo', 'USBCG': 'Boca Grande, Florida, U.S.A.', 'GBTIL': 'Tilbury', 'TZMYW': 'Mtwara', 'TZZNZ': 'Zanzibar', 'UAERD': 'Berdyansk', 'UAKHE': 'Kherson', 'UAMPW': 'Mariupol', 'UANLV': 'Nikolayev', 'USPCR': 'Point Comfort', 'USGPT': 'Gulfport, Mississippi, U.S.A.', 'VEMAR': 'Maracaibo', 'DEWIS': 'Wismar', 'USORF': 'Norfolk', 'IDDOB': 'Dobo', 'UMAWK': 'Wake Island', 'USADK': 'Adak', 'USADQ': 'Kodiak', 'USALB': 'Albany, New York, U.S.A.', 'USAMD': 'Ama', 'USANC': 'Anchorage', 'USASF': 'Ashtabula', 'USBUP': 'Bucksport', 'USBWT': 'Braithwaite', 'USCDE': 'Camden', 'USCHG': 'Cheboygan', 'USCHS': 'Charleston', 'USPAY': 'Perth Amboy', 'USCLE': 'Cleveland', 'USCLQ': 'Chalmette', 'USDNA': 'Donaldsonville', 'GBTTS': 'Totnes', 'USCOB': 'Coos Bay', 'USOST': 'Ostrica', 'USSEA': 'Seattle', 'USSFO': 'San Francisco', 'USDCI': 'Delaware City', 'USGLS': 'Galveston', 'USGOP': 'Good Hope', 'USPON': 'Port Neches', 'USPTM': 'Portsmouth, Virginia, U.S.A.', 'USDET': 'Detroit', 'USDUT': 'Dutch Harbor', 'RULOM': 'Lomonosov', 'USELS': 'El Segundo', 'USENA': 'Kenai', 'USEYW': 'Key West', 'USFDT': 'Ferndale', 'GBTYN': 'Tyne', 'USOTS': 'Anacortes', 'USPAB': 'Palm Beach', 'ZAMZY': 'Mossel Bay', 'ZAPLZ': 'Port Elizabeth', 'USSAC': 'Sacramento', 'USGSM': 'Geismar', 'BGVAR': 'Varna', 'USGTL': 'Gretna', 'USGYV': 'Garyville', 'USAL3': 'Alliance', 'GBTRN': 'Troon', 'USHVN': 'New Haven', 'USJAX': 'Jacksonville', 'USLAX': 'Los Angeles', 'VUSAN': 'Santo', 'YEBLH': 'Balhaf', 'USLGB': 'Long Beach', 'BRSLZ': 'Sao Luiz De Maranhao', 'USLOG': 'Longview', 'USMAH': 'Marcus Hook', 'USPME': 'Port Manatee', 'USPNS': 'Pensacola', 'WSAPW': 'Apia', 'USMKE': 'Milwaukee', 'USMOB': 'Mobile', 'LBACT': 'Amchit', 'IETAR': 'Tarbert Island', 'ECMEC': 'Manta', 'USMQT': 'Marquette', 'CNNNH': 'Nanhui', 'GYNAM': 'New Amsterdam', 'IRIAQ': 'Bahregan', 'USMRH': 'Morehead City', 'USMRZ': 'Martinez', 'USMSY': 'New Orleans', 'USMXP': 'Meraux', 'USMYG': 'Myrtle Grove', 'USNAX': 'Barbers Point', 'USNEW': 'Destrehan', 'USNNS': 'Newport News', 'USSAN': 'San Diego', 'USNTD': 'Port Hueneme', 'USOAK': 'Oakland', 'USOGG': 'Kahului', 'USOME': 'Nome', 'USPAE': 'Everett, Washington, U.S.A.', 'USPCV': 'Port Canaveral', 'USPDX': 'Portland, Oregon, U.S.A.', 'USPEF': 'Port Everglades', 'USPFN': 'Panama City, Florida, U.S.A.', 'USPGL': 'Pascagoula', 'USPHL': 'Philadelphia', 'USRDB': 'Red Dog', 'ZARCB': 'Richards Bay', 'ZASDB': 'Saldanha Bay', 'USPHN': 'Port Huron', 'USPOA': 'Port Arthur, Texas, U.S.A.', 'FRCFR': 'Caen', 'USPTJ': 'Port Jefferson', 'USPVD': 'Providence', 'USPWM': 'Portland, Maine, U.S.A.', 'USPYP': 'Piney Point', 'USSAV': 'Savannah', 'BGSOZ': 'Sozopol', 'USSGY': 'Skagway', 'USSIT': 'Sitka', 'GBWRN': 'Warrington', 'USSLM': 'Salem', 'VNONB': 'Nha Be', 'GRCLK': 'Chalkis', 'USSRP': 'Searsport', 'USTIW': 'Tacoma', 'VELAG': 'La Guaira', 'VELSV': 'La Salina', 'USTOL': 'Toledo, Ohio, U.S.A.', 'USTPA': 'Tampa', 'USTXT': 'Texas City', 'USVAN': 'Vancouver, Washington, U.S.A.', 'USVDZ': 'Valdez', 'GALBV': 'Libreville', 'GAPOG': 'Port Gentil', 'GBBRR': 'Barra - Castle Bay', 'GBBDI': 'Brodick', 'GBCOR': 'Corpach', 'GBWEY': 'Weymouth', 'USYKW': 'Yorktown', 'IDBLW': 'Belawan', 'IDBPN': 'Balikpapan', 'CMDLA': 'Douala', 'CNNDE': 'Ningde', 'UYFZB': 'Fray Bentos', 'UYJIT': 'Jose Ignacio', 'UYMVD': 'Montevideo', 'UYNVP': 'Nueva Palmira', 'VNDAD': 'Da Nang', 'VNHPH': 'Haiphong', 'VNNHA': 'Nha Trang', 'VEELP': 'El Palito', 'GBFWM': 'Fort William, U.K.', 'USSTH': 'St Helens', 'UYPDU': 'Paysandu', 'XZDHT': 'Dai Hung Field', 'GBCOY': 'Coryton - BP Oil - Thames', 'GBFRH': 'Fingringhoe', 'CNBSD': 'Baoshan', 'VICTD': 'Christiansted', 'VEBAV': 'Bachaquero', 'VEBJV': 'Bajo Grande', 'VECAR': 'Caripito', 'GBHHN': 'Holehaven - Thames', 'NOSGE': 'Slagen', 'AUCHV': 'Challis Venture', 'CNFZG': 'Fuzhou', 'AOGIR': 'Girassol', 'IDGRE': 'Gresik', 'CNGZG': 'Guangzhou', 'CANAN': 'Nanticoke', 'CAOSH': 'Oshawa', 'VEETV': 'El Tablazo', 'CNSTG': 'Shantou', 'JPTOS': 'Shinminato', 'St Ja': 'St James', 'BRARE': 'Areia Branca', 'VEMIV': 'Puerto Miranda', 'GBCHE': 'Mostyn', 'GBPAR': 'Par', 'GBRID': 'Ridham Dock', 'GBESH': 'Shoreham', 'INPPT': 'Paradip', 'RUKZP': 'Kavkaz', 'KRJGE': 'Keoje', 'IDKBU': 'Kota Baru', 'RUKZM': 'Kozmino', 'VEPLV': 'Punta Palmas del Sur', 'USRCH': 'Richmond, California, U.S.A.', 'USSMK': 'St Michael', 'VEPZO': 'Puerto Ordaz', 'VESLV': 'San Lorenzo, Venezuela', 'VGRAD': 'Roadtown', 'VISTT': 'St Thomas', 'GBSOW': 'Stanlow', 'IDSWT': 'Salawati', 'VNCPH': 'Cam Pha', 'INKRK': 'Karaikal', 'GRTHI': 'Thisvi', 'GNKMR': 'Kamsar', 'GPPTP': 'Pointe-a-Pitre', 'FISKV': 'Porvoo', 'GRPPI': 'Prinos', 'VNRDG': 'Rang Dong', 'CAPTO': 'Pictou', 'CAPNO': 'Pointe Noire, Quebec, Canada', 'YEMOK': 'Mokha', 'GBTHP': 'Thamesport', 'GDSTG': 'St George\"s, Grenada', ' GF  ': 'Degrad-des-Cannes', 'GLFHN': 'Faeringehavn', 'CNNJG': 'Nanjing', 'CNBIN': 'Binzhou', 'CAPAF': 'Port Alfred, Quebec, Canada', 'IRBAH': 'Assaluyeh', 'CAESQ': 'Esquimalt', 'USKLW': 'Klawock', 'ITCRV': 'Crotone', 'INVTZ': 'Visakhapatnam', 'MZPOL': 'Pemba', 'GBSHO': 'Shoreham By Sea', 'USBLB': 'Belair', 'IDNNX': 'Nunukan', 'USLPL': 'La Place', 'CARBC': 'Richmond (Ca)', 'GYLDN': 'Linden', 'HRDBV': 'Dubrovnik - Ragusa', 'HRDUR': 'Dugi Rat', 'GRPER': 'Perama', 'SELIM': 'Limhamn', 'ARSMA': 'San Martin', 'AUBUV': 'Buffalo Venture', 'JPMIS': 'Misumi', 'CNLSH': 'Lushun Kou', 'CNTNJ': 'Tianjin', 'IDSRI': 'Samarinda', 'INJGD': 'Jaigarh', 'VNCLN': 'Cai Lan', 'ARCLC': 'Caleta Cordova', 'CNCJG': 'Caojing', 'ESCCN': 'Corcubion', 'USLOR': 'Lorain', 'VNPHU': 'Phu My', 'USNIK': 'Nikiski', 'GBSOU': 'Southampton', 'AUCCU': 'Cape Cuvier', 'CNDFG': 'Dafeng', 'AODAL': 'Dalia Terminal', 'EESLM': 'Sillamae', 'LYDRX': 'Derna', 'THERA': 'Erawan', 'CNWHI': 'Wuhu', 'KMDZA': 'Mayotte Island', 'IQUQR': 'Umm Qasr', 'JPFKW': 'Funakawa', 'CNHIG': 'Haikou', 'AEHAM': 'Hamriyah', 'AUHPT': 'Hay Point', 'VNHON': 'Hon Gai', 'NLHVH': 'Hook of Holland', 'CNHUH': 'Huanghua', 'TRIDM': 'Isdemir', 'CMLIM': 'Limbe', 'ITCVV': 'Civitavecchia', 'INGGV': 'Gangavaram', 'IDBET': 'Belida', 'GRAGM': 'Agia Marina', 'GRAGA': 'Agria', 'MMMNU': 'Moulmein', 'USCDV': 'Cordova', 'TNLSK': 'La Skhirra', 'CNLZO': 'Laizhou', 'USSEW': 'Seward', 'CNLYA': 'Luoyuanwan', 'CAPCA': 'Port Cartier', 'CAPOW': 'Powell River', 'GRAXD': 'Alexandroupolis', 'PGNAP': 'Napa Napa', 'PHNAS': 'Nasipit', 'RUMCX': 'Makhachkala', 'ZANGQ': 'Ngqura', 'CNBHT': 'Tieshan', 'USHPW': 'Hopewell', 'CNYCG': 'Yancheng', 'VEPAM': 'Pamatacual', 'GRLAV': 'Lavrion', 'GRMGR': 'Megara', 'USKAM': 'Kalama', 'ARGHU': 'Gualeguaychu', 'VESCA': 'San Carlos Island', 'XZDHS': 'Dai Hung (STS)', 'VNDOH': 'Dong Hoi', 'AOPAZ': 'Pazflor', 'GBPEM': 'Pembroke Dock', 'BHMIN': 'Mina Sulman', 'USOSW': 'Oswego', 'VIPAX': 'Port Alucroix', 'USCDY': 'Conneaut', 'CNXCU': 'Dongwu', 'GRMLO': 'Milos Island', 'USZZH': 'Northport', 'TZTGT': 'Tanga', 'AUBBG': 'Bing Bong', 'CAYRH': 'Yarmouth', 'RUPGN': 'Prigorodnoye', 'VEPCU': 'Punta Cuchillo', 'AUURN': 'Urangan', 'AUUSL': 'Useless Loop', 'EGRAB': 'Ras Budran', '\\tGHTK': 'Takoradi', 'USPIE': 'St Petersburg (Usa)', 'ARAVD': 'Puerto Acevedo', 'NORIV': 'Risavika', 'RUSOC': 'Sochi', 'CLSGR': 'Gregory Bay', 'CLGYC': 'Guayacan', 'AEULR': 'Umm Al Nar Petroleum Port', 'ARPMY': 'Puerto Madryn', 'CNFOS': 'Foshan', 'AUCQP': 'Cape Flattery', 'ARULA': 'San Julian', 'TNZRZ': 'Zarzis', 'AEDXB': 'Dubai', 'AEKHL': 'Khalifa', 'CNDAY': 'Daya Bay', 'JPSOM': 'Soma', 'USPSG': 'Petersburg', 'JESTH': 'St Helier', 'SESTO': 'Stockholm', '\\tGBST': 'Stornoway', 'USCLM': 'Port Angeles', 'USORG': 'Orange', 'JPTBN': 'Tachibana', 'PHTAC': 'Tacloban', 'USPSY': 'Port Sulphur', 'AURDN': 'Risdon', 'CNTAX': 'Taixing', 'ARPUD': 'Puerto Deseado', 'RUTMR': 'Temryuk', 'AUAIR': 'Airlie Island', 'USSRE': 'St Rose', 'ITVDL': 'Vado Ligure', 'BRVDC': 'Vila do Conde', 'RUVYS': 'Vysotsk', 'SEWAL': 'Wallhamn', 'CNCLJ': 'Chenglingji', 'CAPRR': 'Prince Rupert', 'CNXIP': 'Xingang', 'GRSUD': 'Suda Bay', 'JPYUR': 'Yura', 'ITMFR': 'Manfredonia', 'IDENO': 'Kuala Enok', 'CAPRE': 'Prescott (Usa)', 'CNCSX': 'Changsha', 'AEKLB': 'Khor Kalba', 'CNCZZ': 'Cangzhou', 'CNCFD': 'Caofeidian', 'GRSKA': 'Skaramanga', 'GRSYS': 'Stylis', 'AERKT': 'Ras Al Khaimah', 'ALSAR': 'Sarande', 'IDMBK': 'Muara Bangkong', 'ALSHG': 'Shengjin', 'AOMSZ': 'Namibe', 'CNCZX': 'Changzhou', 'CNCOZ': 'Chaozhou', 'AUCLT': 'Cape Lambert', 'AURAB': 'Rapid Bay', 'XZOCA': 'Bayu-Undan', 'UYCYR': 'Colonia', 'UYLAP': 'La Paloma', 'CABDF': 'Bedford', 'AOPBN': 'Porto Amboim', 'AOSOQ': 'Quinfuquena', 'GRYLI': 'Yali Island', 'GTPBR': 'Puerto Barrios', 'CNMAC': 'Macun', 'CNCIG': 'Chenjiagang', 'CNCKG': 'Chongqing', 'CNDAG': 'DALIAN', 'CNDAX': 'Daxie', 'ARASO': 'Arroyo Seco', 'ARROC': 'Puerto Rocca', 'ARPCO': 'Punta Colorada', 'ARQQN': 'Quequen', 'ARRGL': 'Rio Gallegos', 'AUSKA': 'Skardon River', 'AUSPB': 'Spring Bay', 'CACPT': 'Canaport', 'GRRHO': 'Rhodes', 'ESCUR': 'Castro-Urdiales', 'AUSTA': 'Stanley', 'MOMFM': 'MACAO', 'IDMPN': 'Muara Pantai Anchorage', 'AUCPN': 'Cape Preston', 'CNCYH': 'Haimen', 'CNHSI': 'Huangshi', 'AUCVQ': 'Carnarvon', 'AUDRB': 'Derby', 'AUPEX': 'Exmouth', 'AUKTA': 'Karratha', 'AUPBT': 'Port Botany', 'AUPHU': 'Port Huon', 'ESBRE': 'Escee', 'CADAR': 'Dartmouth', 'CNSYA': 'Sanya', 'CNSHH': 'Shanhaiguan', 'CNSWE': 'Shanwei', 'GYGEO': 'Georgetown, Guyana', 'CNZHH': 'Zhenhai', 'CNZSN': 'Zhongshan', 'CWEMM': 'EMMASTAD', 'CLBAG': 'Gregorio', 'AUYAM': 'Yampi Sound', 'BEBRU': 'Brussels', 'BHSIT': 'Sitra', 'BQKRA': 'Kralendijk', 'BRIGI': 'Itaguai', 'BRITQ': 'Itaqui', 'BRPOA': 'Porto Alegre', 'BRSEP': 'Sepetiba', 'CNHUD': 'Huludao', 'CNHMN': 'HUMEN', 'CNHZH': 'Huzhou', 'CNJIX': 'Jiaxing', 'CNJTG': 'JINGTANG', 'JPTTJ': 'Tottori', 'BRSPB': 'Sepetiba Bay', 'CNJNS': 'Jinshan', 'CNJIU': 'Jiujiang', 'ESPSM': 'Puerto De Santa Maria', 'CNLGY': 'Longyan', 'CNLJK': 'Luanjiakou', 'CNQAW': 'Qianwan', 'CNTAO': 'Qingdao (formerly Tsingtao)', 'CNQZL': 'QUANZHOU', 'FRBAS': 'Bassens', 'GBEAM': 'Eastham', 'CNSZH': 'Suzhou', 'CNRZH': 'Rizhao', 'CNXNA': 'Xinsha', 'CNXYG': 'Xiuyu', 'GBHUL': 'Hull', 'GBTNM': 'Teignmouth', 'HRPLE': 'Kardeljevo', 'HRPLM': 'Plomin', 'HRPUY': 'Pula', 'HRSPU': 'Split', 'HTPAP': 'Port-au-Prince', 'GBBWK': 'Berwick Upon Tweed', 'GBBID': 'Bideford', 'IDSMQ': 'Sampit', 'CNSHU': 'Shihu', 'ESFUE': 'PUERTO DEL ROSARIO', 'GBGVS': 'Gravesend', '\\tCNTA': 'TAICANG', 'FMPNI': 'Pohnpei Harbour', 'FOFUG': 'Fuglafjordur', 'IDBOA': 'Benoa', 'JPHIC': 'Hitachinaka', 'CNTZO': 'Taizhou', 'GBSEA': 'Seaham Harbour', 'CNTOJ': 'Tongjiang', 'CNWUX': 'Wuxi', 'FRAMS': 'Ambes', 'CNXIN': 'Xinhui', 'CNYJI': 'Yangjiang', 'CNYGS': 'Yangshan', 'GBRCS': 'Rochester', 'CNZQG': 'Zhaoqing', 'DKSTG': 'Stigsnaes', 'FRLEH': 'Le Havre', 'GBWOR': 'Workington', 'GBXSS': 'Seal Sands', 'GBSSS': 'Sharpness And Gloucester', 'IDTPN': 'Tanjung Pemancingan', 'DOPAL': 'Palenque', 'DZTEN': 'Tenes', 'EEMUG': 'Muuga', 'EGSUZ': 'Suez Port', 'EHVIC': 'Dakhla', 'ID OK': 'Offshore Karimun Besar (Tsa)', 'IDPGA': 'Pagerungan', 'IDSSO': 'Pangkalan SPM; Susu', 'IDSLG': 'Sibolga', 'ESAGU': 'Aguilas', 'ESEAS': 'San Sebastian', 'ESTRF': 'Tarifa', 'ESPAL': 'Palamos', 'ESARI': 'Arguineguin', 'ESESC': 'Escombreras', 'ESGAN': 'Gandia', 'ESJAV': 'Javea', 'TRMUD': 'Mudanya', 'ESMLN': 'Melilla', 'GBGYS': 'Grays', 'GGSPT': 'St Peter Port', 'ESRIB': 'Ribadeo', 'GBARD': 'Ardrossan (Uk)', 'IDBEN': 'Benete', 'IDBKS': 'Bengkulu', 'ESTOR': 'Torrevieja', 'FIMTY': 'Mantyluoto', 'GBAYR': 'Ayr', 'GBBRK': 'Birkenhead', 'GBBOW': 'Bowling', 'GBBRX': 'Brixham', 'IEGWY': 'Galway', 'IEGRN': 'Greenore', 'IEMOT': 'Money Point', 'GBBHK': 'Bromborough', 'GBBUC': 'Buckie', 'GBMTH': 'Methil', 'IDBIK': 'Biak', 'IDMUB': 'Muara Berau Anchorage', 'IDPAI': 'Paiton', 'GBBTL': 'Burntisland', 'GBCAN': 'Canvey Island', 'XZSBY': 'Sibuko Bay', 'GBCFG': 'Carrickfergus', 'Coryt': 'Coryton', 'GBDTM': 'Dartmouth (Uk)', 'IDTAB': 'Taboneo Anchorage', 'TRORD': 'Ordu', 'ITCTA': 'Catania', 'IDPKS': 'Pangkalan Susu', 'IDPKU': 'Pekanbaru', 'GBFIS': 'Fishguard', 'GBFLE': 'FLEETWOOD', 'IDSGQ': 'Sangatta', 'IDJOR': 'Jorong', 'GBFRB': 'Fraserburgh', 'GBGTN': 'Garston', 'GBGOO': 'Goole', 'USHOM': 'Homer', 'ARPBG': 'Puerto Belgrano', 'INMAP': 'Machilipatnam', 'INMDA': 'Magdalla', 'GBHYM': 'Heysham', 'GBHDD': 'Howdendyke', 'GRIKL': 'IRAKLION', 'GRPME': 'Pachi', 'IDBUN': 'Buatan', 'IDUPG': 'Ujung Pandang (formerly Macassar)', 'TRRIZ': 'Rize', 'GUAPR': 'Apra Harbor', 'IDADB': 'Adang Bay ', 'IDIAM': 'Asam Asam', 'IDBJU': 'Banyuwangi', 'IDBUR': 'Batu Ampar', 'IDBIR': 'Biringkasi', 'IDKSO': 'Kalbut Situbondo', 'IEDRO': 'Drogheda', 'IDFKQ': 'Fak-Fak', 'IDGEB': 'Gebe Island', 'IDGTO': 'Gorontalo', 'IDJKT': 'Jakarta', 'IDDJB': 'Jambi', 'IDDJJ': 'Jayapura', 'IDKDI': 'Kendari', 'IEROE': 'Rosslare Europort', 'IDPTO': 'Okha, India', 'TRTGT': 'Toros', 'TVFUN': 'Funafuti', 'TWAPG': 'Anping', 'IRCYT': 'Soroosh', 'IDKUM': 'Kumai', 'IDMAK': 'Makassar', 'IDMLI': 'Malili', 'IDMDC': 'Manado', 'IDMGB': 'Manggis', 'TRYAL': 'Yalova', 'TRYAR': 'Yarimca', 'IDMKW': 'Manokwari', 'ITTOA': 'Torre Annunziata', 'IDMKQ': 'Merauke', '\\tIDME': 'Meulaboh', 'UAKIA': 'Kiliya', 'ITCHI': 'Chioggia', 'NOSLA': 'Sola', 'IDKID': 'Port Kijang', 'KRBUK': 'Bukpyung', 'IDSTU': 'Satui', 'ISREY': 'Reykjavik', 'MYKUN': 'Kunak', 'PHLUG': 'Lugait', 'IDTMH': 'Tanah Merah', 'INBLK': 'Belekeri', 'INDHP': 'Dabhol', 'INDHU': 'Dahanu', 'INDMT': 'Dharamtar', 'INDIG': 'Dighi', 'INJAK': 'Jakhau', 'INJGA': 'JAMNAGAR', 'JPMAR': 'Marugame', 'INMDV': 'Mandvi', 'INMDK': 'Muldwarka', 'JPHHR': 'Higashi Harima', 'INPNY': 'Pondicherry', 'INOKH': 'Port Okha', 'UARNI': 'Reni', 'INRTC': 'Ratnagiri', 'IQBSR': 'Basrah', 'INRED': 'Redi', 'JPMNG': 'Matsunaga', 'PMFSP': 'St Pierre', 'INRVD': 'Revdanda', 'JPABA': 'Abashiri (Jap)', 'JPKAI': 'Kainan', 'ITTPS': 'Trapani', 'JPTSU': 'Tsumatsusaka (Tsu)', 'ITMDC': 'Marina de Carrara', 'IRRBA': 'Ras Bahregan', 'IRBUZ': 'Bushire', 'IRKHO': 'Khorramshahr', 'IRBSR': 'Bandar e Shahid Rajai', 'ISGRT': 'Grundartangi', 'ISHAF': 'Hafnarfjordur', 'JMLUC': 'Lucea', 'JPHKR': 'Hikari', 'THCHU': 'Chumphon', 'THSBP': 'Siam Bangkok Port', 'TRTUZ': 'Tuzla Dockyard', 'TWSUO': 'Su-Au Kang', 'JPBPU': 'Beppu', 'JPFNB': 'Funabashi', 'JPKNZ': 'Kanazawa (Jap)', 'JPKNM': 'Kanmon', 'CABEC': 'Becancour', 'JPHMD': 'Hamada', 'JPHAN': 'Hannan', 'JPHAS': 'Hashihama', 'VESFX': 'San Felix', 'JPHRA': 'Hirao', 'CABEL': 'Belledune', 'ITSAL': 'Salerno', 'ITSPA': 'Santa Panagia', 'ITTRI': 'Termini Imerese', 'JPSDU': 'Sodegaura', 'PWROR': 'Malakal', 'JPKMI': 'Miyazaki', 'JPHRO': 'Hiro', 'ITOLB': 'Olbia', 'JPKDA': 'Kishiwada', 'JPKKJ': 'Kitakyushu', 'JPKCZ': 'Kochi', 'JPONX': 'Onomichi', 'PHDGT': 'Dumaguette', 'MXPMD': 'Puerto Madero', 'JPIMB': 'Imabari', 'JPIMI': 'Imari', 'JPINS': 'Innoshima', 'PAPLP': 'La Palma', 'JPITO': 'Itozaki', 'ITOTN': 'Ortona', 'ITOTO': 'Otranto (Pilots)', 'JPIZS': 'Izumisano', 'JPZAJ': 'Tamashima', 'JPKSA': 'Kasaoka', 'KYCYB': 'Cayman Brac (Creek Bay)', 'JPKWZ': 'Kashiwazaki (Jap)', 'NOFFD': 'Flekkefjord', 'NOGTD': 'Grimstad', 'NOHAN': 'Halvorshavn', 'JPKSN': 'Kesennuma (Jap)', 'NOSKE': 'Skien', 'JPKIJ': 'Niigata-Nishi', 'JPMII': 'Miike', 'NOHOR': 'Horten', 'JPMJR': 'Mitajiri', 'JPSTO': 'Sakito', 'JPTGO': 'Tagonoura', 'THPCT': 'Petchburi', 'USSIB': 'Silver Bay', 'JPMYK': 'Miyako', 'NOSPG': 'Sarpsborg', 'JPNAZ': 'Naze', 'SAMPL': 'Sample One', 'USEPM': 'Eastport (Me)', 'USESX': 'Eddystone', 'JPSHN': 'Shingu', 'JPOKA': 'Okinawa', 'JPOTK': 'Otake', 'JPSAG': 'Saganoseki', 'JPSAE': 'Saiki', 'JPTKM': 'Takuma', 'JPTAE': 'Tanabe', 'KIFIS': 'Fanning Island', 'KITRW': 'Tarawa Atoll', 'KNBAS': 'Basseterre', 'CACHR': 'Chandler', 'CACHA': 'Charlottetown', 'PHMNL': 'Manila', 'IELMK': 'Limerick', 'JPTOK': 'Tokachi', 'JPTKA': 'Tokai', 'MZUEL': 'Quelimane', 'KWKWM': 'Khor Al Mufatta', 'JPTND': 'Tonda', 'KPWON': 'Wonsan', 'KRBOR': 'Boryeong', 'PHGIN': 'Gingook', '\\tPRGU': 'Tallaboa Bay', 'NORAF': 'Rafnes', 'KRCHA': 'Jeju', 'KROKP': 'Okpo', 'JPOMU': 'Omuta', 'LYMTH': 'Mellita', 'NORIS': 'Risor', 'OMSLL': 'Salalah', 'LBCHK': 'Chekka', 'LBSEL': 'Selaata', 'LCVIF': 'Vieux Fort', 'LKJAF': 'Jaffna', 'LKKNK': 'Kankesanturai', 'BMBDA': 'Hamilton, Bermuda (U.K.)', 'LRCPA': 'Cape Palmas', 'LRGRE': 'Greenville', 'JPTKT': 'Taketoyo', 'KHKOS': 'Sihanoukville', 'PGKIM': 'Kimbe', 'LVSKU': 'Skulte', 'MXPAJ': 'Pajaritos', 'MYBGK': 'Bunga Kekwa', 'NLVLA': 'Vlaardingen', 'LYABK': 'Abu Kammash', 'CACHV': 'Churchill', 'UYPTP': 'Punta Pereira', 'NOIKR': 'Ikornes', 'PELOB': 'Punta Lobitos', 'MXACA': 'Acapulco', 'MXCPE': 'Campeche', 'NLSVG': 'Sas Van Ghent', 'LYZUA': 'Zuara', 'MCMON': 'Monaco', 'PEATI': 'Atico', 'PECAB': 'Cabo Blanco', 'PECON': 'Conchan', 'MYBWH': 'Butterworth', 'CAWHH': 'Whiffen Head', 'MEBIJ': 'Bijela', 'NOAND': 'Aandalsnes', 'METIV': 'Tivat', 'MGEHL': 'Port Dehoala', 'NCNEP': 'Nepoui', 'MGPSL': 'Port Saint Louis', 'MGTOA': 'Toamasina', 'MYLGK': 'Langkawi', 'USTHB': 'Two Harbors', 'NOKRV': 'Knarrevik', 'NOLOD': 'Lodingen', 'MYTOD': 'Tioman Anchorage', 'MHKWA': 'Kwajalein', 'MMBSX': 'Bassein', 'JPKMJ': 'Kumamoto', 'JPMTS': 'Matsuura', 'JPMUT': 'Mutsu Ogawara', 'MYPGG': 'Pengerang', 'MYPRA': 'Prai', 'MXPVN': 'Punta Venado', 'MXSJC': 'San Juan De La Costa', 'MXSMI': 'San Marcos', 'MXSRL': 'Santa Rosalia', 'USUAC': 'Bristol (Usa)', 'PAAGD': 'Aguadulce', 'MZPEB': 'Pebane', 'NCKOU': 'Kouaoua', 'NCPOR': 'PORO', 'NCVAV': 'Vavouto Port', 'NGAPP': 'Apapa', 'NGBOT': 'Bonga', 'NZPOE': 'Port Chalmers', 'NZTHH': 'Taharoa', 'NZWAG': 'Wanganui', 'NGBUR': 'Burutu', 'CASUM': 'Summerside', 'CASYD': 'Sydney, N.S., Canada', 'TRDIK': 'Dikili', 'TRDYL': 'Dortyol', 'USBAY': 'Bayonne (Nj)', 'NGOKR': 'Okrika', 'NGOKW': 'Okwori Opl 90', 'NGTIN': 'Tin Can Island', 'KNNEV': 'Charlestown, (Nevis Is.), St. Kitts', 'PHMSC': 'Masinloc', 'PHMXI': 'Mati', 'NOLIL': 'Lillesand', 'SESTU': 'Stugsund', 'NIPUZ': 'Puerto Cabezas', 'NISJS': 'San Juan Del Sur', 'NLROZ': 'Rozenburg', 'KRTJI': 'Tangjin', 'TRFAS': 'Fatsa', 'USATR': 'Atreco', 'LBQJN': 'Jounieh', 'UAIZM': 'Izmail', 'PHQUE': 'Quezon', 'SEVVK': 'Vastervik', 'NOHUS': 'Husnes', 'NOKAS': 'Karmsund', 'NOKRA': 'Kragero', 'LRHAR': 'Harper', 'NOKVD': 'Kvinesdal', 'QAHMD': 'Hamad Port ', 'SJLYR': 'Longyearbyen', 'NOMOL': 'Molde', 'NOMOS': 'Mosterhamn', 'NOSRA': 'Sorreisa', 'NOTHA': 'Thamshavn', 'SEUTA': 'Utansjo', 'SEVAJ': 'Vaja', 'NZOPX': 'Opua', 'NOTVE': 'Tvedestrand', 'OMMCT': 'Muscat', 'NOTSX': 'Tyssedal', 'MARBA': 'Rabat', 'MA PT': 'Tanger-Mediterranee', 'MGTMM': 'Tamatave', 'MGTLE': 'Tulear', 'MXCME': 'Ciudad Del Carmen', 'MYJHB': 'Johore Bahru', 'PEEEN': 'Eten', 'NOASV': 'Austevoll', 'CA SS': 'Sault Ste. Marie', 'NZPCN': 'Picton', 'PABOC': 'Bocas Del Toro', 'PACSO': 'Coco Solo North', 'REREU': 'Port Reunion', 'ROBRA': 'Braila', 'ROSUL': 'Sulina', 'CASEI': 'Seven Islands', 'PEHCO': 'Huacho', 'NLMSL': 'Maassluis', 'USPLL': 'Port Allen (Haw)', 'CKAIT': 'Aitutaki Is.', 'SARAZ': 'Ras Al Khair', 'PEPMC': 'Pampa Melchorita', 'PEPMT': 'Pimintel', '\\tPESU': 'Supe Bay', 'PGGUR': 'Alotau', 'SEKUB': 'Kubikenborg', 'PGKVG': 'Kavieng', 'NOHOL': 'Holmestrand', 'RUPKC': 'Petropavlovsk', 'USDLH': 'Duluth-Superior', 'PGKIE': 'Kieta', 'USSKY': 'Sandusky', 'YTLON': 'Longoni', 'PKGWD': 'Gwadar', 'BRMGU': 'Munguba', 'BRNAT': 'Natal, Brazil', 'SESKE': 'Skelleftehamn', 'ZAZBA': 'Coega', 'PGLOR': 'Lorengau', 'CASOR': 'Sorel', 'CGPNR': 'Pointe Noire, Congo, Rep. of', 'TRFET': 'Fethiye', 'USUDE': 'Burnside', 'TRGEL': 'Gelibolu', 'PGVAI': 'Vanimo', 'PRPNU': 'Puerto Nuevo (Puerto Rico)', 'PHALC': 'Alcoy', 'PKQCT': 'Muhammad Bin Qasim', 'PHMBT': 'Masbate', 'PHOLO': 'Olongapo', 'PLKOL': 'Kolobrzeg', 'USPEA': 'Pearl Harbour', 'OMRAY': 'Mina Raysut', 'PHAPR': 'Aparri', 'BRGUA': 'Guamare', 'BRIOS': 'Ilheus', 'PHJPM': 'Jose Panganiban', 'VN CR': 'Ba Ngoi', 'PHBPH': 'Bislig', 'USPBG': 'Pittsburg (Ca)', 'SEKLI': 'Klintehamn', 'BRIBB': 'Imbituba', 'PRPJO': 'Aguirre', 'PHJOL': 'Jolo', 'USBUF': 'Buffalo', 'PHLIC': 'Legazpi', 'PFPPT': 'Papeete', 'PGMAS': 'Manus Island', 'CASQA': 'Squamish', 'AEAJM': 'Ajman', 'PHTBG': 'Tabangao', 'USMNM': 'Menominee', 'PTCNL': 'Canical', 'PHPLC': 'Polloc', 'THPKK': 'Bangsaphan', 'PHPPS': 'Puerto Princesa', 'SDSWA': 'Suakin', 'PHRXS': 'Roxas', 'PKBQM': 'Port Muhammad Bin Qasim', 'PTFAO': 'Faro', 'PHSCA': 'San Carlos (Philippines)', 'PHSFE': 'San Fernando', 'TTCHA': 'Chaguaramas', 'PHTTO': 'Taganito', 'PHSNG': 'Sangi', 'PTFDF': 'Figueira Da Foz', 'PTOPO': 'Oporto', 'PTVRL': 'Vila Real De Santo Antonio', 'AEMKH': 'Mina Khalid', 'PHSMA': 'Santa Maria (Philippines)', 'PHSUG': 'Surigao', 'PHTBC': 'Tabaco', 'PHTGO': 'Tagoloan', 'PHTLD': 'Toledo (Philippines)', 'REPDG': 'Pointe Des Galets', 'PRGUX': 'Guanica', 'PHMNN': 'Manila - Harbour Centre', 'PHMNS': 'Manila - South Harbour', 'THKBV': 'Krabi', 'ROGAL': 'Galati', 'RUSAK': 'Aleksandrovsk Sakhalinsky', 'INSTV': 'Surat', 'BRPOU': 'Ponta Ubu', 'RUAMV': 'Amderma', 'RUAZO': 'Azov', 'QA ME': 'Mesaieed', 'STTMS': 'Sao Tome', 'RERUN': 'Port Est; Reunion Port', 'USZMV': 'Melville', 'CNYNT': 'Yantai', 'CASJF': 'St John\"s, Newfoundland, Canada', 'CASTV': 'Stephenville', 'BRMCZ': 'Maceio', 'RUBOS': 'Boshnyakovo', 'RUDUD': 'Dudinka', 'RUIAA': 'Igarka', 'SEVAL': 'Vallvik', 'BRPEC': 'Pecem', 'RUMVO': 'Moskalvo', 'SARAM': 'Ras Al Mishab', 'BRSAN': 'Santana', 'CLCLR': 'Caleta Clarencia', 'TGKPE': 'Kpeme', 'USHTD': 'Huntington Beach', 'RUOYE': 'OKTYABRSK', 'RU VA': 'Varandey', 'USCZS': 'Chelsea', 'RUONG': 'Onega', 'SNKLC': 'Kaolak', 'USEZA': 'Elizabeth (Nj)', 'THURT': 'Surat Thani', 'RUPWE': 'Pevek', 'USRWC': 'Redwood City', 'CLCLD': 'Caldera, Chile', 'TRGCK': 'Gocek', 'RUPVS': 'Provideniya', 'TTLAB': 'La Brea', 'RURND': 'Rostov-Na-Donu', 'SEHUS': 'Husum', 'SBXYA': 'Yandina', 'RUSAB': 'Sabetta', 'RUSHA': 'Shakhtersk', 'RUSOK': 'Sovetskaya Gaven', 'RUTAM': 'Taman', 'RUUGL': 'Uglegorsk', 'RUZAR': 'Zarubino', 'VNVCA': 'Can Tho', 'USRSF': 'Reserve', 'USREZ': 'Revere', 'SEKHN': 'Kristinehamn', 'SELDK': 'Lidkoping', 'SELOU': 'Loudden', 'SEMSD': 'Marstrand', 'USBOH': 'Bohemia', 'SESAE': 'Sandarne', 'SESFT': 'Skelleftea', 'SEVBY': 'Visby', 'SENCS': 'Nacka - Bergs Oil Harbour', 'SGJUR': 'Jurong Marine Base', 'SGSCT': 'Keppel Harbour', 'SHASC': 'Ascension Island', 'SEMON': 'Monsteras', 'SERNB': 'Ronneby', 'SERUV': 'Rundvik', 'SNZIG': 'Ziguinchor', 'INCOK': 'Cochin', 'INDAH': 'Dahej', 'INHAL': 'Haldia', 'JPNNO': 'Nanao', 'PGLAE': 'Lae', 'IDBXT': 'Bontang', 'TRBTN': 'Bartin', 'INPAV': 'Pipavav', 'INPBD': 'Porbandar', 'INTUT': 'Tuticorin', 'MYPGU': 'Pasir Gudang', 'TMKRW': 'Turkmenbashi', 'BSOCE': 'Ocean Cay', 'TNTUN': 'Tunis', 'USASX': 'Ashland', 'TRBXN': 'Bodrum', 'TRDAR': 'Darica', 'UAYAL': 'Yalta', 'USGHR': 'Aberdeen (Usa)', 'ARPLO': 'Punta Loyola', 'USBTH': 'Bath', 'USBCY': 'Bay City', 'USHNH': 'Hoonah', 'USCCJ': 'Cape Charles', 'USFEB': 'Fernandina', 'USOYF': 'Coeymans', 'USCRM': 'Crockett', 'USDEX': 'Deer Park', 'USKES': 'Kenner', 'USOTZ': 'Kotzebue', 'CATOR': 'Toronto', 'USERI': 'Erie', 'USEKA': 'Eureka', 'BNKUB': 'Kuala Belait', 'VEARA': 'Araya', 'VEBOC': 'Boca Grande (Ven)', 'CAVLF': 'Valleyfield', 'USFPR': 'Fort Pierce', 'USGPK': 'Galena Park', 'USGGE': 'Georgetown (Sc)', 'USGRB': 'Green Bay', 'USPHX': 'Phoenix', 'USPTT': 'Port Allen, Louisiana, U.S.A.', 'AWORJ': 'Oranjestad', 'AWAUA': 'Barcadera', 'USHQM': 'Hoquiam', 'USHYG': 'Hydaburg', 'SHSHN': 'Jamestown', 'USFOC': 'Port Fourchon', 'BEBGS': 'Bruges', 'USJOA': 'Johnston Island Harbor', 'USJNU': 'Juneau', 'ARPGV': 'Puerto Galvan', 'VNDQT': 'Dung Quat Petroleum Port', 'BRTMT': 'Trombetas', 'COCIE': 'Cienaga', 'BSSRP': 'South Riding Point', 'USMTM': 'Metlakatla', 'USSUT': 'Sunny Point', 'USTVC': 'Traverse City', 'USLMO': 'Morgan City', 'VNGDA': 'Go Dau', 'USMLG': 'Moss Landing', 'USMKG': 'Muskegon', 'USNNK': 'Naknek', 'USNIJ': 'Nawiliwili', 'USNPT': 'Newport (Ri)', 'USOGS': 'Ogdensburg', 'USOL2': 'Oleum', 'USOLM': 'Olympia', 'GQLUB': 'Luba', 'ISNES': 'Neskaupstadur', 'ISVES': 'Vestmannaeyjar', 'CLHSO': 'Huasco', 'CLLQN': 'Lirquen', 'VELEC': 'Bulkwayuu', 'USPIS': 'Port Isabel', 'USSPQ': 'San Pedro Calif', 'USPLV': 'Port Lavaca', 'USPMV': 'Port Mackenzie', 'USLUA': 'Port Of South Louisiana', 'USPRJ': 'Port Royal (Sc)', 'USSAB': 'Sabine', 'USSBA': 'Santa Barbara', 'USSEL': 'Selby', 'USXLX': 'Stamford (Ct)', 'VELSP': 'Las Piedras', 'VNNGT': 'Nghe Tinh', 'CNLIH': 'Lianhuashan', 'VEPLA': 'Palua', 'CLSAI': 'San Antonio, Chile', 'USTTN': 'Trenton', 'BRBVS': 'Breves', 'CAGOO': 'Goose Bay', 'CAHAM': 'Hamilton, Ontario, Canada', 'CAHMC': 'Harmac', 'USWQF': 'Whittier', 'USWRG': 'Wrangell', 'USWVF': 'Wrightsville', 'IDPLA': 'Plaju', 'USYAK': 'Yakutat', 'VEGUI': 'Guiria', 'VEPHO': 'Puerto De Hierro', 'VEPSU': 'Puerto Sucre', 'CAHOD': 'Holyrood', 'VNXNG': 'Quang Ngai', 'CNNBO': 'Ningbo', 'CNNGB': 'Ningbo', 'YESAL': 'Saleef', 'YTDZA': 'Dzaoudzi', 'CLTAL': 'Talcahuano', 'TWKEL': 'Keelung', 'AUPST': 'Port Stanvac', 'AUPTJ': 'Portland, Vic., Australia', 'CNHUA': 'Huangpu (formerly Whampoa)', 'SRMOJ': 'Moengo', '\\tSRSM': 'Smalkalden', 'USHR3': 'Hampton Roads', 'VNDNA': 'Dong Nai', 'VNNGH': 'Nghi Son', 'CNTXG': 'Tianjin Xingang'}\n"
     ]
    }
   ],
   "source": [
    "print(code_dic)"
   ]
  },
  {
   "cell_type": "code",
   "execution_count": null,
   "metadata": {},
   "outputs": [],
   "source": []
  },
  {
   "cell_type": "code",
   "execution_count": null,
   "metadata": {},
   "outputs": [],
   "source": []
  },
  {
   "cell_type": "code",
   "execution_count": null,
   "metadata": {},
   "outputs": [],
   "source": []
  },
  {
   "cell_type": "code",
   "execution_count": null,
   "metadata": {},
   "outputs": [],
   "source": []
  },
  {
   "cell_type": "code",
   "execution_count": null,
   "metadata": {},
   "outputs": [],
   "source": []
  },
  {
   "cell_type": "code",
   "execution_count": 45,
   "metadata": {},
   "outputs": [
    {
     "name": "stdout",
     "output_type": "stream",
     "text": [
      "[('Ajaccio', 83), ('Itajai', 73), ('Bandar e Shahid Rajai', 72), ('Pajaritos', 72), ('Aioi', 67)]\n"
     ]
    }
   ],
   "source": [
    "scores = process.extract(destination_list[0], port_name_ls, limit=5)\n",
    "\n",
    "\n",
    "print(scores)"
   ]
  },
  {
   "cell_type": "code",
   "execution_count": 43,
   "metadata": {},
   "outputs": [
    {
     "name": "stdout",
     "output_type": "stream",
     "text": [
      "[('Ajaccio', 83), ('Itajai', 73), ('Pajaritos', 71), ('Aioi', 67), ('Nanaimo', 67)]\n"
     ]
    }
   ],
   "source": [
    "ratio_list = []\n",
    "for name in port_name_ls:\n",
    "    ratio = fuzz.token_set_ratio(destination_list[0], name)\n",
    "    ratio_list.append((name, ratio))\n",
    "ratio_sort = sorted(ratio_list, key=lambda x: x[1],reverse=True)[:5]\n",
    "\n",
    "\n",
    "print(ratio_sort)"
   ]
  },
  {
   "cell_type": "code",
   "execution_count": 56,
   "metadata": {},
   "outputs": [
    {
     "name": "stdout",
     "output_type": "stream",
     "text": [
      "[('Cape Preston', 95), ('Preston', 90), ('Cape Town', 86), ('Sandy Cape', 86), ('Brest', 72)]\n",
      "[('Cape Preston', 100), ('Preston', 100), ('Cape Charles', 64), ('Cape Town', 64), ('Charleston', 62)]\n"
     ]
    }
   ],
   "source": [
    "scores = process.extract('CAPE PRESTON AUS.', port_name_ls, limit=5)\n",
    "\n",
    "\n",
    "print(scores)\n",
    "\n",
    "\n",
    "\n",
    "\n",
    "\n",
    "ratio_list = []\n",
    "for name in port_name_ls:\n",
    "    ratio = fuzz.token_set_ratio('CAPE PRESTON AUS.', name)\n",
    "    ratio_list.append((name, ratio))\n",
    "ratio_sort = sorted(ratio_list, key=lambda x: x[1],reverse=True)[:5]\n",
    "\n",
    "\n",
    "print(ratio_sort)"
   ]
  },
  {
   "cell_type": "code",
   "execution_count": null,
   "metadata": {},
   "outputs": [],
   "source": []
  },
  {
   "cell_type": "code",
   "execution_count": 2,
   "metadata": {},
   "outputs": [],
   "source": [
    "s = 'GUARD AREA'"
   ]
  },
  {
   "cell_type": "code",
   "execution_count": 3,
   "metadata": {},
   "outputs": [
    {
     "data": {
      "text/plain": [
       "True"
      ]
     },
     "execution_count": 3,
     "metadata": {},
     "output_type": "execute_result"
    }
   ],
   "source": [
    "'guard' in str.lower(s)"
   ]
  },
  {
   "cell_type": "code",
   "execution_count": 25,
   "metadata": {},
   "outputs": [],
   "source": [
    "tmp = []\n",
    "for (name, score) in scores:\n",
    "    tmp.append(name)\n",
    "    tmp.append(score)"
   ]
  },
  {
   "cell_type": "code",
   "execution_count": 27,
   "metadata": {},
   "outputs": [
    {
     "name": "stdout",
     "output_type": "stream",
     "text": [
      "['Ajaccio', 83, 'Itajai', 73, 'Bandar e Shahid Rajai', 72, 'Pajaritos', 72, 'Aioi', 67]\n"
     ]
    }
   ],
   "source": [
    "print(tmp)"
   ]
  },
  {
   "cell_type": "code",
   "execution_count": 32,
   "metadata": {},
   "outputs": [],
   "source": [
    "l = []"
   ]
  },
  {
   "cell_type": "code",
   "execution_count": 33,
   "metadata": {},
   "outputs": [],
   "source": [
    "l.append(tmp)"
   ]
  },
  {
   "cell_type": "code",
   "execution_count": 35,
   "metadata": {},
   "outputs": [
    {
     "name": "stdout",
     "output_type": "stream",
     "text": [
      "[['Ajaccio', 83, 'Itajai', 73, 'Bandar e Shahid Rajai', 72, 'Pajaritos', 72, 'Aioi', 67]]\n"
     ]
    }
   ],
   "source": [
    "print(l)"
   ]
  },
  {
   "cell_type": "code",
   "execution_count": 38,
   "metadata": {},
   "outputs": [],
   "source": [
    "col_name = ['top1', 'score1','top2', 'score2', 'top3', 'score3', 'top4', 'score4', 'top5', 'score5']"
   ]
  },
  {
   "cell_type": "code",
   "execution_count": 39,
   "metadata": {},
   "outputs": [],
   "source": [
    "tmp_df = pd.DataFrame(l, columns=col_name)"
   ]
  },
  {
   "cell_type": "code",
   "execution_count": 40,
   "metadata": {},
   "outputs": [
    {
     "data": {
      "text/html": [
       "<div>\n",
       "<style scoped>\n",
       "    .dataframe tbody tr th:only-of-type {\n",
       "        vertical-align: middle;\n",
       "    }\n",
       "\n",
       "    .dataframe tbody tr th {\n",
       "        vertical-align: top;\n",
       "    }\n",
       "\n",
       "    .dataframe thead th {\n",
       "        text-align: right;\n",
       "    }\n",
       "</style>\n",
       "<table border=\"1\" class=\"dataframe\">\n",
       "  <thead>\n",
       "    <tr style=\"text-align: right;\">\n",
       "      <th></th>\n",
       "      <th>top1</th>\n",
       "      <th>score1</th>\n",
       "      <th>top2</th>\n",
       "      <th>score2</th>\n",
       "      <th>top3</th>\n",
       "      <th>score3</th>\n",
       "      <th>top4</th>\n",
       "      <th>score4</th>\n",
       "      <th>top5</th>\n",
       "      <th>score5</th>\n",
       "    </tr>\n",
       "  </thead>\n",
       "  <tbody>\n",
       "    <tr>\n",
       "      <td>0</td>\n",
       "      <td>Ajaccio</td>\n",
       "      <td>83</td>\n",
       "      <td>Itajai</td>\n",
       "      <td>73</td>\n",
       "      <td>Bandar e Shahid Rajai</td>\n",
       "      <td>72</td>\n",
       "      <td>Pajaritos</td>\n",
       "      <td>72</td>\n",
       "      <td>Aioi</td>\n",
       "      <td>67</td>\n",
       "    </tr>\n",
       "  </tbody>\n",
       "</table>\n",
       "</div>"
      ],
      "text/plain": [
       "      top1  score1    top2  score2                   top3  score3       top4  \\\n",
       "0  Ajaccio      83  Itajai      73  Bandar e Shahid Rajai      72  Pajaritos   \n",
       "\n",
       "   score4  top5  score5  \n",
       "0      72  Aioi      67  "
      ]
     },
     "execution_count": 40,
     "metadata": {},
     "output_type": "execute_result"
    }
   ],
   "source": [
    "tmp_df"
   ]
  },
  {
   "cell_type": "code",
   "execution_count": null,
   "metadata": {},
   "outputs": [],
   "source": []
  }
 ],
 "metadata": {
  "kernelspec": {
   "display_name": "Python 3",
   "language": "python",
   "name": "python3"
  },
  "language_info": {
   "codemirror_mode": {
    "name": "ipython",
    "version": 3
   },
   "file_extension": ".py",
   "mimetype": "text/x-python",
   "name": "python",
   "nbconvert_exporter": "python",
   "pygments_lexer": "ipython3",
   "version": "3.7.4"
  }
 },
 "nbformat": 4,
 "nbformat_minor": 2
}
